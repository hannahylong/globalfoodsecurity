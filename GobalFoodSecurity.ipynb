{
 "cells": [
  {
   "cell_type": "code",
   "execution_count": 43,
   "id": "blond-employer",
   "metadata": {},
   "outputs": [],
   "source": [
    "import numpy as np\n",
    "import pandas as pd\n",
    "import seaborn as sns\n",
    "import matplotlib.pyplot as plt"
   ]
  },
  {
   "cell_type": "code",
   "execution_count": 44,
   "id": "incoming-treasury",
   "metadata": {
    "scrolled": true
   },
   "outputs": [
    {
     "data": {
      "text/html": [
       "<div>\n",
       "<style scoped>\n",
       "    .dataframe tbody tr th:only-of-type {\n",
       "        vertical-align: middle;\n",
       "    }\n",
       "\n",
       "    .dataframe tbody tr th {\n",
       "        vertical-align: top;\n",
       "    }\n",
       "\n",
       "    .dataframe thead th {\n",
       "        text-align: right;\n",
       "    }\n",
       "</style>\n",
       "<table border=\"1\" class=\"dataframe\">\n",
       "  <thead>\n",
       "    <tr style=\"text-align: right;\">\n",
       "      <th></th>\n",
       "      <th>Domain Code</th>\n",
       "      <th>Domain</th>\n",
       "      <th>Area Code (FAO)</th>\n",
       "      <th>Area</th>\n",
       "      <th>Element Code</th>\n",
       "      <th>Element</th>\n",
       "      <th>Item Code</th>\n",
       "      <th>Item</th>\n",
       "      <th>Year Code</th>\n",
       "      <th>Year</th>\n",
       "      <th>Unit</th>\n",
       "      <th>Value</th>\n",
       "      <th>Flag</th>\n",
       "      <th>Flag Description</th>\n",
       "      <th>Note</th>\n",
       "    </tr>\n",
       "  </thead>\n",
       "  <tbody>\n",
       "    <tr>\n",
       "      <th>0</th>\n",
       "      <td>FS</td>\n",
       "      <td>Suite of Food Security Indicators</td>\n",
       "      <td>2</td>\n",
       "      <td>Afghanistan</td>\n",
       "      <td>6121</td>\n",
       "      <td>Value</td>\n",
       "      <td>21010</td>\n",
       "      <td>Average dietary energy supply adequacy (percen...</td>\n",
       "      <td>20002002</td>\n",
       "      <td>2000-2002</td>\n",
       "      <td>%</td>\n",
       "      <td>87</td>\n",
       "      <td>F</td>\n",
       "      <td>FAO estimate</td>\n",
       "      <td>NaN</td>\n",
       "    </tr>\n",
       "    <tr>\n",
       "      <th>1</th>\n",
       "      <td>FS</td>\n",
       "      <td>Suite of Food Security Indicators</td>\n",
       "      <td>2</td>\n",
       "      <td>Afghanistan</td>\n",
       "      <td>6121</td>\n",
       "      <td>Value</td>\n",
       "      <td>21010</td>\n",
       "      <td>Average dietary energy supply adequacy (percen...</td>\n",
       "      <td>20012003</td>\n",
       "      <td>2001-2003</td>\n",
       "      <td>%</td>\n",
       "      <td>88</td>\n",
       "      <td>F</td>\n",
       "      <td>FAO estimate</td>\n",
       "      <td>NaN</td>\n",
       "    </tr>\n",
       "    <tr>\n",
       "      <th>2</th>\n",
       "      <td>FS</td>\n",
       "      <td>Suite of Food Security Indicators</td>\n",
       "      <td>2</td>\n",
       "      <td>Afghanistan</td>\n",
       "      <td>6121</td>\n",
       "      <td>Value</td>\n",
       "      <td>21010</td>\n",
       "      <td>Average dietary energy supply adequacy (percen...</td>\n",
       "      <td>20022004</td>\n",
       "      <td>2002-2004</td>\n",
       "      <td>%</td>\n",
       "      <td>91</td>\n",
       "      <td>F</td>\n",
       "      <td>FAO estimate</td>\n",
       "      <td>NaN</td>\n",
       "    </tr>\n",
       "    <tr>\n",
       "      <th>3</th>\n",
       "      <td>FS</td>\n",
       "      <td>Suite of Food Security Indicators</td>\n",
       "      <td>2</td>\n",
       "      <td>Afghanistan</td>\n",
       "      <td>6121</td>\n",
       "      <td>Value</td>\n",
       "      <td>21010</td>\n",
       "      <td>Average dietary energy supply adequacy (percen...</td>\n",
       "      <td>20032005</td>\n",
       "      <td>2003-2005</td>\n",
       "      <td>%</td>\n",
       "      <td>92</td>\n",
       "      <td>F</td>\n",
       "      <td>FAO estimate</td>\n",
       "      <td>NaN</td>\n",
       "    </tr>\n",
       "    <tr>\n",
       "      <th>4</th>\n",
       "      <td>FS</td>\n",
       "      <td>Suite of Food Security Indicators</td>\n",
       "      <td>2</td>\n",
       "      <td>Afghanistan</td>\n",
       "      <td>6121</td>\n",
       "      <td>Value</td>\n",
       "      <td>21010</td>\n",
       "      <td>Average dietary energy supply adequacy (percen...</td>\n",
       "      <td>20042006</td>\n",
       "      <td>2004-2006</td>\n",
       "      <td>%</td>\n",
       "      <td>92</td>\n",
       "      <td>F</td>\n",
       "      <td>FAO estimate</td>\n",
       "      <td>NaN</td>\n",
       "    </tr>\n",
       "    <tr>\n",
       "      <th>...</th>\n",
       "      <td>...</td>\n",
       "      <td>...</td>\n",
       "      <td>...</td>\n",
       "      <td>...</td>\n",
       "      <td>...</td>\n",
       "      <td>...</td>\n",
       "      <td>...</td>\n",
       "      <td>...</td>\n",
       "      <td>...</td>\n",
       "      <td>...</td>\n",
       "      <td>...</td>\n",
       "      <td>...</td>\n",
       "      <td>...</td>\n",
       "      <td>...</td>\n",
       "      <td>...</td>\n",
       "    </tr>\n",
       "    <tr>\n",
       "      <th>105334</th>\n",
       "      <td>FS</td>\n",
       "      <td>Suite of Food Security Indicators</td>\n",
       "      <td>181</td>\n",
       "      <td>Zimbabwe</td>\n",
       "      <td>6123</td>\n",
       "      <td>Value</td>\n",
       "      <td>21061</td>\n",
       "      <td>Average fat supply (g/cap/day) (3-year average)</td>\n",
       "      <td>20122014</td>\n",
       "      <td>2012-2014</td>\n",
       "      <td>g/capita/day</td>\n",
       "      <td>56.3</td>\n",
       "      <td>F</td>\n",
       "      <td>FAO estimate</td>\n",
       "      <td>NaN</td>\n",
       "    </tr>\n",
       "    <tr>\n",
       "      <th>105335</th>\n",
       "      <td>FS</td>\n",
       "      <td>Suite of Food Security Indicators</td>\n",
       "      <td>181</td>\n",
       "      <td>Zimbabwe</td>\n",
       "      <td>6123</td>\n",
       "      <td>Value</td>\n",
       "      <td>21061</td>\n",
       "      <td>Average fat supply (g/cap/day) (3-year average)</td>\n",
       "      <td>20132015</td>\n",
       "      <td>2013-2015</td>\n",
       "      <td>g/capita/day</td>\n",
       "      <td>54.3</td>\n",
       "      <td>F</td>\n",
       "      <td>FAO estimate</td>\n",
       "      <td>NaN</td>\n",
       "    </tr>\n",
       "    <tr>\n",
       "      <th>105336</th>\n",
       "      <td>FS</td>\n",
       "      <td>Suite of Food Security Indicators</td>\n",
       "      <td>181</td>\n",
       "      <td>Zimbabwe</td>\n",
       "      <td>6123</td>\n",
       "      <td>Value</td>\n",
       "      <td>21061</td>\n",
       "      <td>Average fat supply (g/cap/day) (3-year average)</td>\n",
       "      <td>20142016</td>\n",
       "      <td>2014-2016</td>\n",
       "      <td>g/capita/day</td>\n",
       "      <td>52.3</td>\n",
       "      <td>F</td>\n",
       "      <td>FAO estimate</td>\n",
       "      <td>NaN</td>\n",
       "    </tr>\n",
       "    <tr>\n",
       "      <th>105337</th>\n",
       "      <td>FS</td>\n",
       "      <td>Suite of Food Security Indicators</td>\n",
       "      <td>181</td>\n",
       "      <td>Zimbabwe</td>\n",
       "      <td>6123</td>\n",
       "      <td>Value</td>\n",
       "      <td>21061</td>\n",
       "      <td>Average fat supply (g/cap/day) (3-year average)</td>\n",
       "      <td>20152017</td>\n",
       "      <td>2015-2017</td>\n",
       "      <td>g/capita/day</td>\n",
       "      <td>51.7</td>\n",
       "      <td>F</td>\n",
       "      <td>FAO estimate</td>\n",
       "      <td>NaN</td>\n",
       "    </tr>\n",
       "    <tr>\n",
       "      <th>105338</th>\n",
       "      <td>FS</td>\n",
       "      <td>Suite of Food Security Indicators</td>\n",
       "      <td>181</td>\n",
       "      <td>Zimbabwe</td>\n",
       "      <td>6123</td>\n",
       "      <td>Value</td>\n",
       "      <td>21061</td>\n",
       "      <td>Average fat supply (g/cap/day) (3-year average)</td>\n",
       "      <td>20162018</td>\n",
       "      <td>2016-2018</td>\n",
       "      <td>g/capita/day</td>\n",
       "      <td>51</td>\n",
       "      <td>F</td>\n",
       "      <td>FAO estimate</td>\n",
       "      <td>NaN</td>\n",
       "    </tr>\n",
       "  </tbody>\n",
       "</table>\n",
       "<p>105339 rows × 15 columns</p>\n",
       "</div>"
      ],
      "text/plain": [
       "       Domain Code                             Domain  Area Code (FAO)  \\\n",
       "0               FS  Suite of Food Security Indicators                2   \n",
       "1               FS  Suite of Food Security Indicators                2   \n",
       "2               FS  Suite of Food Security Indicators                2   \n",
       "3               FS  Suite of Food Security Indicators                2   \n",
       "4               FS  Suite of Food Security Indicators                2   \n",
       "...            ...                                ...              ...   \n",
       "105334          FS  Suite of Food Security Indicators              181   \n",
       "105335          FS  Suite of Food Security Indicators              181   \n",
       "105336          FS  Suite of Food Security Indicators              181   \n",
       "105337          FS  Suite of Food Security Indicators              181   \n",
       "105338          FS  Suite of Food Security Indicators              181   \n",
       "\n",
       "               Area  Element Code Element  Item Code  \\\n",
       "0       Afghanistan          6121   Value      21010   \n",
       "1       Afghanistan          6121   Value      21010   \n",
       "2       Afghanistan          6121   Value      21010   \n",
       "3       Afghanistan          6121   Value      21010   \n",
       "4       Afghanistan          6121   Value      21010   \n",
       "...             ...           ...     ...        ...   \n",
       "105334     Zimbabwe          6123   Value      21061   \n",
       "105335     Zimbabwe          6123   Value      21061   \n",
       "105336     Zimbabwe          6123   Value      21061   \n",
       "105337     Zimbabwe          6123   Value      21061   \n",
       "105338     Zimbabwe          6123   Value      21061   \n",
       "\n",
       "                                                     Item  Year Code  \\\n",
       "0       Average dietary energy supply adequacy (percen...   20002002   \n",
       "1       Average dietary energy supply adequacy (percen...   20012003   \n",
       "2       Average dietary energy supply adequacy (percen...   20022004   \n",
       "3       Average dietary energy supply adequacy (percen...   20032005   \n",
       "4       Average dietary energy supply adequacy (percen...   20042006   \n",
       "...                                                   ...        ...   \n",
       "105334    Average fat supply (g/cap/day) (3-year average)   20122014   \n",
       "105335    Average fat supply (g/cap/day) (3-year average)   20132015   \n",
       "105336    Average fat supply (g/cap/day) (3-year average)   20142016   \n",
       "105337    Average fat supply (g/cap/day) (3-year average)   20152017   \n",
       "105338    Average fat supply (g/cap/day) (3-year average)   20162018   \n",
       "\n",
       "             Year          Unit Value Flag Flag Description Note  \n",
       "0       2000-2002             %    87    F     FAO estimate  NaN  \n",
       "1       2001-2003             %    88    F     FAO estimate  NaN  \n",
       "2       2002-2004             %    91    F     FAO estimate  NaN  \n",
       "3       2003-2005             %    92    F     FAO estimate  NaN  \n",
       "4       2004-2006             %    92    F     FAO estimate  NaN  \n",
       "...           ...           ...   ...  ...              ...  ...  \n",
       "105334  2012-2014  g/capita/day  56.3    F     FAO estimate  NaN  \n",
       "105335  2013-2015  g/capita/day  54.3    F     FAO estimate  NaN  \n",
       "105336  2014-2016  g/capita/day  52.3    F     FAO estimate  NaN  \n",
       "105337  2015-2017  g/capita/day  51.7    F     FAO estimate  NaN  \n",
       "105338  2016-2018  g/capita/day    51    F     FAO estimate  NaN  \n",
       "\n",
       "[105339 rows x 15 columns]"
      ]
     },
     "execution_count": 44,
     "metadata": {},
     "output_type": "execute_result"
    }
   ],
   "source": [
    "#http://www.fao.org/faostat/en/#data/FS\n",
    "\n",
    "food_security = pd.read_csv('FAOSTAT_data.csv')\n",
    "food_security"
   ]
  },
  {
   "cell_type": "code",
   "execution_count": 45,
   "id": "bottom-ideal",
   "metadata": {},
   "outputs": [
    {
     "name": "stderr",
     "output_type": "stream",
     "text": [
      "/Users/hannahylong/opt/anaconda2/envs/python37/lib/python3.7/site-packages/ipykernel_launcher.py:7: SettingWithCopyWarning:\n",
      "\n",
      "\n",
      "A value is trying to be set on a copy of a slice from a DataFrame\n",
      "\n",
      "See the caveats in the documentation: https://pandas.pydata.org/pandas-docs/stable/user_guide/indexing.html#returning-a-view-versus-a-copy\n",
      "\n",
      "/Users/hannahylong/opt/anaconda2/envs/python37/lib/python3.7/site-packages/ipykernel_launcher.py:11: SettingWithCopyWarning:\n",
      "\n",
      "\n",
      "A value is trying to be set on a copy of a slice from a DataFrame\n",
      "\n",
      "See the caveats in the documentation: https://pandas.pydata.org/pandas-docs/stable/user_guide/indexing.html#returning-a-view-versus-a-copy\n",
      "\n",
      "/Users/hannahylong/opt/anaconda2/envs/python37/lib/python3.7/site-packages/ipykernel_launcher.py:15: SettingWithCopyWarning:\n",
      "\n",
      "\n",
      "A value is trying to be set on a copy of a slice from a DataFrame\n",
      "\n",
      "See the caveats in the documentation: https://pandas.pydata.org/pandas-docs/stable/user_guide/indexing.html#returning-a-view-versus-a-copy\n",
      "\n"
     ]
    }
   ],
   "source": [
    "#data cleaning\n",
    "\n",
    "#convert all values in Value column from string to float\n",
    "\n",
    "for i in range(len(food_security['Value'])):\n",
    "    if (food_security['Value'][i] == '<2.5'):\n",
    "        food_security['Value'][i] = '1.25'\n",
    "        \n",
    "for i in range(len(food_security['Value'])):\n",
    "    if (food_security['Value'][i] == '<0.1'):\n",
    "        food_security['Value'][i] = '0.5'\n",
    "        \n",
    "for i in range(len(food_security['Value'])):\n",
    "    if (food_security['Value'][i] == '<0.5'):\n",
    "        food_security['Value'][i] = '0.25'\n",
    "\n",
    "food_security['Value'] = food_security['Value'].apply(lambda x: float(x))\n",
    "\n",
    "#remove NaN\n",
    "\n",
    "food_security = food_security.dropna(subset = ['Value'])"
   ]
  },
  {
   "cell_type": "code",
   "execution_count": 46,
   "id": "lyric-authorization",
   "metadata": {},
   "outputs": [
    {
     "data": {
      "text/plain": [
       "['Average dietary energy requirement (kcal/cap/day)',\n",
       " 'Average dietary energy supply adequacy (percent) (3-year average)',\n",
       " 'Average fat supply (g/cap/day) (3-year average)',\n",
       " 'Average protein supply (g/cap/day) (3-year average)',\n",
       " 'Average supply of protein of animal origin (g/cap/day) (3-year average)',\n",
       " 'Average value of food production (constant 2004-2006 I$/cap) (3-year average)',\n",
       " 'Cereal import dependency ratio (percent) (3-year average)',\n",
       " 'Coefficient of variation of habitual caloric consumption distribution (real number)',\n",
       " 'Dietary energy supply used in the estimation of prevalence of undernourishment (kcal/cap/day) (3-year average)',\n",
       " 'Gross domestic product per capita, PPP, dissemination (constant 2011 international $)',\n",
       " 'Incidence of caloric losses at retail distribution level (percent)',\n",
       " 'Minimum dietary energy requirement  (kcal/cap/day)',\n",
       " 'Number of moderately or severely food insecure people (million) (3-year average)',\n",
       " 'Number of people undernourished (million) (3-year average)',\n",
       " 'Number of severely food insecure people (million) (3-year average)',\n",
       " 'Per capita food production variability (constant 2004-2006 thousand int$ per capita)',\n",
       " 'Per capita food supply variability (kcal/cap/day)',\n",
       " 'Percent of arable land equipped for irrigation (percent) (3-year average)',\n",
       " 'Percentage of children under 5 years affected by wasting (percent)',\n",
       " 'Percentage of children under 5 years of age who are overweight (modelled estimates) (percent)',\n",
       " 'Percentage of children under 5 years of age who are stunted (modelled estimates) (percent)',\n",
       " 'Percentage of population using at least basic drinking water services (percent)',\n",
       " 'Percentage of population using at least basic sanitation services (percent)',\n",
       " 'Percentage of population using safely managed drinking water services (Percent)',\n",
       " 'Percentage of population using safely managed sanitation services (Percent)',\n",
       " 'Political stability and absence of violence/terrorism (index)',\n",
       " 'Prevalence of anemia among women of reproductive age (15-49 years)',\n",
       " 'Prevalence of exclusive breastfeeding among infants 0-5 months of age',\n",
       " 'Prevalence of low birthweight (percent)',\n",
       " 'Prevalence of moderate or severe food insecurity in the total population (percent) (3-year average)',\n",
       " 'Prevalence of obesity in the adult population (18 years and older)',\n",
       " 'Prevalence of severe food insecurity in the total population (percent) (3-year average)',\n",
       " 'Prevalence of undernourishment (percent) (3-year average)',\n",
       " 'Rail lines density (total route in km per 100 square km of land area)',\n",
       " 'Share of dietary energy supply derived from cereals, roots and tubers (kcal/cap/day) (3-year average)',\n",
       " 'Value of food imports in total merchandise exports (percent) (3-year average)']"
      ]
     },
     "execution_count": 46,
     "metadata": {},
     "output_type": "execute_result"
    }
   ],
   "source": [
    "sorted(food_security['Item'].unique())"
   ]
  },
  {
   "cell_type": "code",
   "execution_count": 47,
   "id": "hydraulic-encyclopedia",
   "metadata": {
    "scrolled": true
   },
   "outputs": [
    {
     "data": {
      "text/html": [
       "<div>\n",
       "<style scoped>\n",
       "    .dataframe tbody tr th:only-of-type {\n",
       "        vertical-align: middle;\n",
       "    }\n",
       "\n",
       "    .dataframe tbody tr th {\n",
       "        vertical-align: top;\n",
       "    }\n",
       "\n",
       "    .dataframe thead th {\n",
       "        text-align: right;\n",
       "    }\n",
       "</style>\n",
       "<table border=\"1\" class=\"dataframe\">\n",
       "  <thead>\n",
       "    <tr style=\"text-align: right;\">\n",
       "      <th></th>\n",
       "      <th>Domain Code</th>\n",
       "      <th>Domain</th>\n",
       "      <th>Area Code (FAO)</th>\n",
       "      <th>Area</th>\n",
       "      <th>Element Code</th>\n",
       "      <th>Element</th>\n",
       "      <th>Item Code</th>\n",
       "      <th>Item</th>\n",
       "      <th>Year Code</th>\n",
       "      <th>Year</th>\n",
       "      <th>Unit</th>\n",
       "      <th>Value</th>\n",
       "      <th>Flag</th>\n",
       "      <th>Flag Description</th>\n",
       "      <th>Note</th>\n",
       "    </tr>\n",
       "  </thead>\n",
       "  <tbody>\n",
       "    <tr>\n",
       "      <th>144</th>\n",
       "      <td>FS</td>\n",
       "      <td>Suite of Food Security Indicators</td>\n",
       "      <td>2</td>\n",
       "      <td>Afghanistan</td>\n",
       "      <td>6132</td>\n",
       "      <td>Value</td>\n",
       "      <td>210011</td>\n",
       "      <td>Number of people undernourished (million) (3-y...</td>\n",
       "      <td>20002002</td>\n",
       "      <td>2000-2002</td>\n",
       "      <td>millions</td>\n",
       "      <td>10.3</td>\n",
       "      <td>F</td>\n",
       "      <td>FAO estimate</td>\n",
       "      <td>NaN</td>\n",
       "    </tr>\n",
       "    <tr>\n",
       "      <th>145</th>\n",
       "      <td>FS</td>\n",
       "      <td>Suite of Food Security Indicators</td>\n",
       "      <td>2</td>\n",
       "      <td>Afghanistan</td>\n",
       "      <td>6132</td>\n",
       "      <td>Value</td>\n",
       "      <td>210011</td>\n",
       "      <td>Number of people undernourished (million) (3-y...</td>\n",
       "      <td>20012003</td>\n",
       "      <td>2001-2003</td>\n",
       "      <td>millions</td>\n",
       "      <td>10.3</td>\n",
       "      <td>F</td>\n",
       "      <td>FAO estimate</td>\n",
       "      <td>NaN</td>\n",
       "    </tr>\n",
       "    <tr>\n",
       "      <th>146</th>\n",
       "      <td>FS</td>\n",
       "      <td>Suite of Food Security Indicators</td>\n",
       "      <td>2</td>\n",
       "      <td>Afghanistan</td>\n",
       "      <td>6132</td>\n",
       "      <td>Value</td>\n",
       "      <td>210011</td>\n",
       "      <td>Number of people undernourished (million) (3-y...</td>\n",
       "      <td>20022004</td>\n",
       "      <td>2002-2004</td>\n",
       "      <td>millions</td>\n",
       "      <td>9.6</td>\n",
       "      <td>F</td>\n",
       "      <td>FAO estimate</td>\n",
       "      <td>NaN</td>\n",
       "    </tr>\n",
       "    <tr>\n",
       "      <th>147</th>\n",
       "      <td>FS</td>\n",
       "      <td>Suite of Food Security Indicators</td>\n",
       "      <td>2</td>\n",
       "      <td>Afghanistan</td>\n",
       "      <td>6132</td>\n",
       "      <td>Value</td>\n",
       "      <td>210011</td>\n",
       "      <td>Number of people undernourished (million) (3-y...</td>\n",
       "      <td>20032005</td>\n",
       "      <td>2003-2005</td>\n",
       "      <td>millions</td>\n",
       "      <td>9.4</td>\n",
       "      <td>F</td>\n",
       "      <td>FAO estimate</td>\n",
       "      <td>NaN</td>\n",
       "    </tr>\n",
       "    <tr>\n",
       "      <th>148</th>\n",
       "      <td>FS</td>\n",
       "      <td>Suite of Food Security Indicators</td>\n",
       "      <td>2</td>\n",
       "      <td>Afghanistan</td>\n",
       "      <td>6132</td>\n",
       "      <td>Value</td>\n",
       "      <td>210011</td>\n",
       "      <td>Number of people undernourished (million) (3-y...</td>\n",
       "      <td>20042006</td>\n",
       "      <td>2004-2006</td>\n",
       "      <td>millions</td>\n",
       "      <td>9.2</td>\n",
       "      <td>F</td>\n",
       "      <td>FAO estimate</td>\n",
       "      <td>NaN</td>\n",
       "    </tr>\n",
       "    <tr>\n",
       "      <th>...</th>\n",
       "      <td>...</td>\n",
       "      <td>...</td>\n",
       "      <td>...</td>\n",
       "      <td>...</td>\n",
       "      <td>...</td>\n",
       "      <td>...</td>\n",
       "      <td>...</td>\n",
       "      <td>...</td>\n",
       "      <td>...</td>\n",
       "      <td>...</td>\n",
       "      <td>...</td>\n",
       "      <td>...</td>\n",
       "      <td>...</td>\n",
       "      <td>...</td>\n",
       "      <td>...</td>\n",
       "    </tr>\n",
       "    <tr>\n",
       "      <th>103830</th>\n",
       "      <td>FS</td>\n",
       "      <td>Suite of Food Security Indicators</td>\n",
       "      <td>249</td>\n",
       "      <td>Yemen</td>\n",
       "      <td>6132</td>\n",
       "      <td>Value</td>\n",
       "      <td>210011</td>\n",
       "      <td>Number of people undernourished (million) (3-y...</td>\n",
       "      <td>20142016</td>\n",
       "      <td>2014-2016</td>\n",
       "      <td>millions</td>\n",
       "      <td>11.5</td>\n",
       "      <td>F</td>\n",
       "      <td>FAO estimate</td>\n",
       "      <td>NaN</td>\n",
       "    </tr>\n",
       "    <tr>\n",
       "      <th>103831</th>\n",
       "      <td>FS</td>\n",
       "      <td>Suite of Food Security Indicators</td>\n",
       "      <td>249</td>\n",
       "      <td>Yemen</td>\n",
       "      <td>6132</td>\n",
       "      <td>Value</td>\n",
       "      <td>210011</td>\n",
       "      <td>Number of people undernourished (million) (3-y...</td>\n",
       "      <td>20152017</td>\n",
       "      <td>2015-2017</td>\n",
       "      <td>millions</td>\n",
       "      <td>12.5</td>\n",
       "      <td>F</td>\n",
       "      <td>FAO estimate</td>\n",
       "      <td>NaN</td>\n",
       "    </tr>\n",
       "    <tr>\n",
       "      <th>103832</th>\n",
       "      <td>FS</td>\n",
       "      <td>Suite of Food Security Indicators</td>\n",
       "      <td>249</td>\n",
       "      <td>Yemen</td>\n",
       "      <td>6132</td>\n",
       "      <td>Value</td>\n",
       "      <td>210011</td>\n",
       "      <td>Number of people undernourished (million) (3-y...</td>\n",
       "      <td>20162018</td>\n",
       "      <td>2016-2018</td>\n",
       "      <td>millions</td>\n",
       "      <td>13.0</td>\n",
       "      <td>F</td>\n",
       "      <td>FAO estimate</td>\n",
       "      <td>NaN</td>\n",
       "    </tr>\n",
       "    <tr>\n",
       "      <th>103833</th>\n",
       "      <td>FS</td>\n",
       "      <td>Suite of Food Security Indicators</td>\n",
       "      <td>249</td>\n",
       "      <td>Yemen</td>\n",
       "      <td>6132</td>\n",
       "      <td>Value</td>\n",
       "      <td>210011</td>\n",
       "      <td>Number of people undernourished (million) (3-y...</td>\n",
       "      <td>20172019</td>\n",
       "      <td>2017-2019</td>\n",
       "      <td>millions</td>\n",
       "      <td>12.9</td>\n",
       "      <td>F</td>\n",
       "      <td>FAO estimate</td>\n",
       "      <td>NaN</td>\n",
       "    </tr>\n",
       "    <tr>\n",
       "      <th>103834</th>\n",
       "      <td>FS</td>\n",
       "      <td>Suite of Food Security Indicators</td>\n",
       "      <td>249</td>\n",
       "      <td>Yemen</td>\n",
       "      <td>6132</td>\n",
       "      <td>Value</td>\n",
       "      <td>210011</td>\n",
       "      <td>Number of people undernourished (million) (3-y...</td>\n",
       "      <td>20182020</td>\n",
       "      <td>2018-2020</td>\n",
       "      <td>millions</td>\n",
       "      <td>13.2</td>\n",
       "      <td>F</td>\n",
       "      <td>FAO estimate</td>\n",
       "      <td>NaN</td>\n",
       "    </tr>\n",
       "  </tbody>\n",
       "</table>\n",
       "<p>2192 rows × 15 columns</p>\n",
       "</div>"
      ],
      "text/plain": [
       "       Domain Code                             Domain  Area Code (FAO)  \\\n",
       "144             FS  Suite of Food Security Indicators                2   \n",
       "145             FS  Suite of Food Security Indicators                2   \n",
       "146             FS  Suite of Food Security Indicators                2   \n",
       "147             FS  Suite of Food Security Indicators                2   \n",
       "148             FS  Suite of Food Security Indicators                2   \n",
       "...            ...                                ...              ...   \n",
       "103830          FS  Suite of Food Security Indicators              249   \n",
       "103831          FS  Suite of Food Security Indicators              249   \n",
       "103832          FS  Suite of Food Security Indicators              249   \n",
       "103833          FS  Suite of Food Security Indicators              249   \n",
       "103834          FS  Suite of Food Security Indicators              249   \n",
       "\n",
       "               Area  Element Code Element  Item Code  \\\n",
       "144     Afghanistan          6132   Value     210011   \n",
       "145     Afghanistan          6132   Value     210011   \n",
       "146     Afghanistan          6132   Value     210011   \n",
       "147     Afghanistan          6132   Value     210011   \n",
       "148     Afghanistan          6132   Value     210011   \n",
       "...             ...           ...     ...        ...   \n",
       "103830        Yemen          6132   Value     210011   \n",
       "103831        Yemen          6132   Value     210011   \n",
       "103832        Yemen          6132   Value     210011   \n",
       "103833        Yemen          6132   Value     210011   \n",
       "103834        Yemen          6132   Value     210011   \n",
       "\n",
       "                                                     Item  Year Code  \\\n",
       "144     Number of people undernourished (million) (3-y...   20002002   \n",
       "145     Number of people undernourished (million) (3-y...   20012003   \n",
       "146     Number of people undernourished (million) (3-y...   20022004   \n",
       "147     Number of people undernourished (million) (3-y...   20032005   \n",
       "148     Number of people undernourished (million) (3-y...   20042006   \n",
       "...                                                   ...        ...   \n",
       "103830  Number of people undernourished (million) (3-y...   20142016   \n",
       "103831  Number of people undernourished (million) (3-y...   20152017   \n",
       "103832  Number of people undernourished (million) (3-y...   20162018   \n",
       "103833  Number of people undernourished (million) (3-y...   20172019   \n",
       "103834  Number of people undernourished (million) (3-y...   20182020   \n",
       "\n",
       "             Year      Unit  Value Flag Flag Description Note  \n",
       "144     2000-2002  millions   10.3    F     FAO estimate  NaN  \n",
       "145     2001-2003  millions   10.3    F     FAO estimate  NaN  \n",
       "146     2002-2004  millions    9.6    F     FAO estimate  NaN  \n",
       "147     2003-2005  millions    9.4    F     FAO estimate  NaN  \n",
       "148     2004-2006  millions    9.2    F     FAO estimate  NaN  \n",
       "...           ...       ...    ...  ...              ...  ...  \n",
       "103830  2014-2016  millions   11.5    F     FAO estimate  NaN  \n",
       "103831  2015-2017  millions   12.5    F     FAO estimate  NaN  \n",
       "103832  2016-2018  millions   13.0    F     FAO estimate  NaN  \n",
       "103833  2017-2019  millions   12.9    F     FAO estimate  NaN  \n",
       "103834  2018-2020  millions   13.2    F     FAO estimate  NaN  \n",
       "\n",
       "[2192 rows x 15 columns]"
      ]
     },
     "execution_count": 47,
     "metadata": {},
     "output_type": "execute_result"
    }
   ],
   "source": [
    "food_security_npu = food_security[food_security['Item'] == 'Number of people undernourished (million) (3-year average)']\n",
    "food_security_npu"
   ]
  },
  {
   "cell_type": "code",
   "execution_count": 48,
   "id": "demographic-stand",
   "metadata": {},
   "outputs": [
    {
     "data": {
      "text/html": [
       "<div>\n",
       "<style scoped>\n",
       "    .dataframe tbody tr th:only-of-type {\n",
       "        vertical-align: middle;\n",
       "    }\n",
       "\n",
       "    .dataframe tbody tr th {\n",
       "        vertical-align: top;\n",
       "    }\n",
       "\n",
       "    .dataframe thead th {\n",
       "        text-align: right;\n",
       "    }\n",
       "</style>\n",
       "<table border=\"1\" class=\"dataframe\">\n",
       "  <thead>\n",
       "    <tr style=\"text-align: right;\">\n",
       "      <th></th>\n",
       "      <th>Domain Code</th>\n",
       "      <th>Domain</th>\n",
       "      <th>Area Code (FAO)</th>\n",
       "      <th>Area</th>\n",
       "      <th>Element Code</th>\n",
       "      <th>Element</th>\n",
       "      <th>Item Code</th>\n",
       "      <th>Item</th>\n",
       "      <th>Year Code</th>\n",
       "      <th>Year</th>\n",
       "      <th>Unit</th>\n",
       "      <th>Value</th>\n",
       "      <th>Flag</th>\n",
       "      <th>Flag Description</th>\n",
       "      <th>Note</th>\n",
       "    </tr>\n",
       "  </thead>\n",
       "  <tbody>\n",
       "    <tr>\n",
       "      <th>44335</th>\n",
       "      <td>FS</td>\n",
       "      <td>Suite of Food Security Indicators</td>\n",
       "      <td>100</td>\n",
       "      <td>India</td>\n",
       "      <td>6132</td>\n",
       "      <td>Value</td>\n",
       "      <td>210011</td>\n",
       "      <td>Number of people undernourished (million) (3-y...</td>\n",
       "      <td>20002002</td>\n",
       "      <td>2000-2002</td>\n",
       "      <td>millions</td>\n",
       "      <td>198.3</td>\n",
       "      <td>F</td>\n",
       "      <td>FAO estimate</td>\n",
       "      <td>NaN</td>\n",
       "    </tr>\n",
       "    <tr>\n",
       "      <th>19387</th>\n",
       "      <td>FS</td>\n",
       "      <td>Suite of Food Security Indicators</td>\n",
       "      <td>351</td>\n",
       "      <td>China</td>\n",
       "      <td>6132</td>\n",
       "      <td>Value</td>\n",
       "      <td>210011</td>\n",
       "      <td>Number of people undernourished (million) (3-y...</td>\n",
       "      <td>20002002</td>\n",
       "      <td>2000-2002</td>\n",
       "      <td>millions</td>\n",
       "      <td>132.5</td>\n",
       "      <td>F</td>\n",
       "      <td>FAO estimate</td>\n",
       "      <td>NaN</td>\n",
       "    </tr>\n",
       "    <tr>\n",
       "      <th>20694</th>\n",
       "      <td>FS</td>\n",
       "      <td>Suite of Food Security Indicators</td>\n",
       "      <td>41</td>\n",
       "      <td>China, mainland</td>\n",
       "      <td>6132</td>\n",
       "      <td>Value</td>\n",
       "      <td>210011</td>\n",
       "      <td>Number of people undernourished (million) (3-y...</td>\n",
       "      <td>20002002</td>\n",
       "      <td>2000-2002</td>\n",
       "      <td>millions</td>\n",
       "      <td>131.5</td>\n",
       "      <td>F</td>\n",
       "      <td>FAO estimate</td>\n",
       "      <td>NaN</td>\n",
       "    </tr>\n",
       "    <tr>\n",
       "      <th>44890</th>\n",
       "      <td>FS</td>\n",
       "      <td>Suite of Food Security Indicators</td>\n",
       "      <td>101</td>\n",
       "      <td>Indonesia</td>\n",
       "      <td>6132</td>\n",
       "      <td>Value</td>\n",
       "      <td>210011</td>\n",
       "      <td>Number of people undernourished (million) (3-y...</td>\n",
       "      <td>20002002</td>\n",
       "      <td>2000-2002</td>\n",
       "      <td>millions</td>\n",
       "      <td>41.1</td>\n",
       "      <td>F</td>\n",
       "      <td>FAO estimate</td>\n",
       "      <td>NaN</td>\n",
       "    </tr>\n",
       "    <tr>\n",
       "      <th>33208</th>\n",
       "      <td>FS</td>\n",
       "      <td>Suite of Food Security Indicators</td>\n",
       "      <td>238</td>\n",
       "      <td>Ethiopia</td>\n",
       "      <td>6132</td>\n",
       "      <td>Value</td>\n",
       "      <td>210011</td>\n",
       "      <td>Number of people undernourished (million) (3-y...</td>\n",
       "      <td>20002002</td>\n",
       "      <td>2000-2002</td>\n",
       "      <td>millions</td>\n",
       "      <td>32.0</td>\n",
       "      <td>F</td>\n",
       "      <td>FAO estimate</td>\n",
       "      <td>NaN</td>\n",
       "    </tr>\n",
       "    <tr>\n",
       "      <th>...</th>\n",
       "      <td>...</td>\n",
       "      <td>...</td>\n",
       "      <td>...</td>\n",
       "      <td>...</td>\n",
       "      <td>...</td>\n",
       "      <td>...</td>\n",
       "      <td>...</td>\n",
       "      <td>...</td>\n",
       "      <td>...</td>\n",
       "      <td>...</td>\n",
       "      <td>...</td>\n",
       "      <td>...</td>\n",
       "      <td>...</td>\n",
       "      <td>...</td>\n",
       "      <td>...</td>\n",
       "    </tr>\n",
       "    <tr>\n",
       "      <th>101093</th>\n",
       "      <td>FS</td>\n",
       "      <td>Suite of Food Security Indicators</td>\n",
       "      <td>234</td>\n",
       "      <td>Uruguay</td>\n",
       "      <td>6132</td>\n",
       "      <td>Value</td>\n",
       "      <td>210011</td>\n",
       "      <td>Number of people undernourished (million) (3-y...</td>\n",
       "      <td>20002002</td>\n",
       "      <td>2000-2002</td>\n",
       "      <td>millions</td>\n",
       "      <td>0.1</td>\n",
       "      <td>F</td>\n",
       "      <td>FAO estimate</td>\n",
       "      <td>NaN</td>\n",
       "    </tr>\n",
       "    <tr>\n",
       "      <th>98859</th>\n",
       "      <td>FS</td>\n",
       "      <td>Suite of Food Security Indicators</td>\n",
       "      <td>225</td>\n",
       "      <td>United Arab Emirates</td>\n",
       "      <td>6132</td>\n",
       "      <td>Value</td>\n",
       "      <td>210011</td>\n",
       "      <td>Number of people undernourished (million) (3-y...</td>\n",
       "      <td>20002002</td>\n",
       "      <td>2000-2002</td>\n",
       "      <td>millions</td>\n",
       "      <td>0.1</td>\n",
       "      <td>F</td>\n",
       "      <td>FAO estimate</td>\n",
       "      <td>NaN</td>\n",
       "    </tr>\n",
       "    <tr>\n",
       "      <th>95217</th>\n",
       "      <td>FS</td>\n",
       "      <td>Suite of Food Security Indicators</td>\n",
       "      <td>220</td>\n",
       "      <td>Trinidad and Tobago</td>\n",
       "      <td>6132</td>\n",
       "      <td>Value</td>\n",
       "      <td>210011</td>\n",
       "      <td>Number of people undernourished (million) (3-y...</td>\n",
       "      <td>20002002</td>\n",
       "      <td>2000-2002</td>\n",
       "      <td>millions</td>\n",
       "      <td>0.1</td>\n",
       "      <td>F</td>\n",
       "      <td>FAO estimate</td>\n",
       "      <td>NaN</td>\n",
       "    </tr>\n",
       "    <tr>\n",
       "      <th>11727</th>\n",
       "      <td>FS</td>\n",
       "      <td>Suite of Food Security Indicators</td>\n",
       "      <td>80</td>\n",
       "      <td>Bosnia and Herzegovina</td>\n",
       "      <td>6132</td>\n",
       "      <td>Value</td>\n",
       "      <td>210011</td>\n",
       "      <td>Number of people undernourished (million) (3-y...</td>\n",
       "      <td>20002002</td>\n",
       "      <td>2000-2002</td>\n",
       "      <td>millions</td>\n",
       "      <td>0.1</td>\n",
       "      <td>F</td>\n",
       "      <td>FAO estimate</td>\n",
       "      <td>NaN</td>\n",
       "    </tr>\n",
       "    <tr>\n",
       "      <th>32664</th>\n",
       "      <td>FS</td>\n",
       "      <td>Suite of Food Security Indicators</td>\n",
       "      <td>209</td>\n",
       "      <td>Eswatini</td>\n",
       "      <td>6132</td>\n",
       "      <td>Value</td>\n",
       "      <td>210011</td>\n",
       "      <td>Number of people undernourished (million) (3-y...</td>\n",
       "      <td>20002002</td>\n",
       "      <td>2000-2002</td>\n",
       "      <td>millions</td>\n",
       "      <td>0.1</td>\n",
       "      <td>F</td>\n",
       "      <td>FAO estimate</td>\n",
       "      <td>NaN</td>\n",
       "    </tr>\n",
       "  </tbody>\n",
       "</table>\n",
       "<p>127 rows × 15 columns</p>\n",
       "</div>"
      ],
      "text/plain": [
       "       Domain Code                             Domain  Area Code (FAO)  \\\n",
       "44335           FS  Suite of Food Security Indicators              100   \n",
       "19387           FS  Suite of Food Security Indicators              351   \n",
       "20694           FS  Suite of Food Security Indicators               41   \n",
       "44890           FS  Suite of Food Security Indicators              101   \n",
       "33208           FS  Suite of Food Security Indicators              238   \n",
       "...            ...                                ...              ...   \n",
       "101093          FS  Suite of Food Security Indicators              234   \n",
       "98859           FS  Suite of Food Security Indicators              225   \n",
       "95217           FS  Suite of Food Security Indicators              220   \n",
       "11727           FS  Suite of Food Security Indicators               80   \n",
       "32664           FS  Suite of Food Security Indicators              209   \n",
       "\n",
       "                          Area  Element Code Element  Item Code  \\\n",
       "44335                    India          6132   Value     210011   \n",
       "19387                    China          6132   Value     210011   \n",
       "20694          China, mainland          6132   Value     210011   \n",
       "44890                Indonesia          6132   Value     210011   \n",
       "33208                 Ethiopia          6132   Value     210011   \n",
       "...                        ...           ...     ...        ...   \n",
       "101093                 Uruguay          6132   Value     210011   \n",
       "98859     United Arab Emirates          6132   Value     210011   \n",
       "95217      Trinidad and Tobago          6132   Value     210011   \n",
       "11727   Bosnia and Herzegovina          6132   Value     210011   \n",
       "32664                 Eswatini          6132   Value     210011   \n",
       "\n",
       "                                                     Item  Year Code  \\\n",
       "44335   Number of people undernourished (million) (3-y...   20002002   \n",
       "19387   Number of people undernourished (million) (3-y...   20002002   \n",
       "20694   Number of people undernourished (million) (3-y...   20002002   \n",
       "44890   Number of people undernourished (million) (3-y...   20002002   \n",
       "33208   Number of people undernourished (million) (3-y...   20002002   \n",
       "...                                                   ...        ...   \n",
       "101093  Number of people undernourished (million) (3-y...   20002002   \n",
       "98859   Number of people undernourished (million) (3-y...   20002002   \n",
       "95217   Number of people undernourished (million) (3-y...   20002002   \n",
       "11727   Number of people undernourished (million) (3-y...   20002002   \n",
       "32664   Number of people undernourished (million) (3-y...   20002002   \n",
       "\n",
       "             Year      Unit  Value Flag Flag Description Note  \n",
       "44335   2000-2002  millions  198.3    F     FAO estimate  NaN  \n",
       "19387   2000-2002  millions  132.5    F     FAO estimate  NaN  \n",
       "20694   2000-2002  millions  131.5    F     FAO estimate  NaN  \n",
       "44890   2000-2002  millions   41.1    F     FAO estimate  NaN  \n",
       "33208   2000-2002  millions   32.0    F     FAO estimate  NaN  \n",
       "...           ...       ...    ...  ...              ...  ...  \n",
       "101093  2000-2002  millions    0.1    F     FAO estimate  NaN  \n",
       "98859   2000-2002  millions    0.1    F     FAO estimate  NaN  \n",
       "95217   2000-2002  millions    0.1    F     FAO estimate  NaN  \n",
       "11727   2000-2002  millions    0.1    F     FAO estimate  NaN  \n",
       "32664   2000-2002  millions    0.1    F     FAO estimate  NaN  \n",
       "\n",
       "[127 rows x 15 columns]"
      ]
     },
     "execution_count": 48,
     "metadata": {},
     "output_type": "execute_result"
    }
   ],
   "source": [
    "food_security_npu_2000 = food_security_npu[food_security_npu['Year'] == '2000-2002']\n",
    "food_security_npu_2000 = food_security_npu_2000.sort_values(by = 'Value', ascending = False)\n",
    "food_security_npu_2000"
   ]
  },
  {
   "cell_type": "code",
   "execution_count": 49,
   "id": "purple-solomon",
   "metadata": {},
   "outputs": [
    {
     "data": {
      "text/plain": [
       "<matplotlib.axes._subplots.AxesSubplot at 0x12a0f8dd0>"
      ]
     },
     "execution_count": 49,
     "metadata": {},
     "output_type": "execute_result"
    },
    {
     "data": {
      "image/png": "[encoded data removed]",
      "text/plain": [
       "<Figure size 1440x504 with 1 Axes>"
      ]
     },
     "metadata": {
      "needs_background": "light"
     },
     "output_type": "display_data"
    }
   ],
   "source": [
    "fig_dims = (20, 7)\n",
    "fig, ax = plt.subplots(figsize=fig_dims)\n",
    "food_security_npu_2000.plot.bar(x = 'Area', y = 'Value', ax = ax, legend = None)"
   ]
  },
  {
   "cell_type": "code",
   "execution_count": 50,
   "id": "cellular-pledge",
   "metadata": {},
   "outputs": [
    {
     "data": {
      "text/html": [
       "<div>\n",
       "<style scoped>\n",
       "    .dataframe tbody tr th:only-of-type {\n",
       "        vertical-align: middle;\n",
       "    }\n",
       "\n",
       "    .dataframe tbody tr th {\n",
       "        vertical-align: top;\n",
       "    }\n",
       "\n",
       "    .dataframe thead th {\n",
       "        text-align: right;\n",
       "    }\n",
       "</style>\n",
       "<table border=\"1\" class=\"dataframe\">\n",
       "  <thead>\n",
       "    <tr style=\"text-align: right;\">\n",
       "      <th></th>\n",
       "      <th>Domain Code</th>\n",
       "      <th>Domain</th>\n",
       "      <th>Area Code (FAO)</th>\n",
       "      <th>Area</th>\n",
       "      <th>Element Code</th>\n",
       "      <th>Element</th>\n",
       "      <th>Item Code</th>\n",
       "      <th>Item</th>\n",
       "      <th>Year Code</th>\n",
       "      <th>Year</th>\n",
       "      <th>Unit</th>\n",
       "      <th>Value</th>\n",
       "      <th>Flag</th>\n",
       "      <th>Flag Description</th>\n",
       "      <th>Note</th>\n",
       "    </tr>\n",
       "  </thead>\n",
       "  <tbody>\n",
       "    <tr>\n",
       "      <th>44335</th>\n",
       "      <td>FS</td>\n",
       "      <td>Suite of Food Security Indicators</td>\n",
       "      <td>100</td>\n",
       "      <td>India</td>\n",
       "      <td>6132</td>\n",
       "      <td>Value</td>\n",
       "      <td>210011</td>\n",
       "      <td>Number of people undernourished (million) (3-y...</td>\n",
       "      <td>20002002</td>\n",
       "      <td>2000-2002</td>\n",
       "      <td>millions</td>\n",
       "      <td>198.3</td>\n",
       "      <td>F</td>\n",
       "      <td>FAO estimate</td>\n",
       "      <td>NaN</td>\n",
       "    </tr>\n",
       "    <tr>\n",
       "      <th>44336</th>\n",
       "      <td>FS</td>\n",
       "      <td>Suite of Food Security Indicators</td>\n",
       "      <td>100</td>\n",
       "      <td>India</td>\n",
       "      <td>6132</td>\n",
       "      <td>Value</td>\n",
       "      <td>210011</td>\n",
       "      <td>Number of people undernourished (million) (3-y...</td>\n",
       "      <td>20012003</td>\n",
       "      <td>2001-2003</td>\n",
       "      <td>millions</td>\n",
       "      <td>219.3</td>\n",
       "      <td>F</td>\n",
       "      <td>FAO estimate</td>\n",
       "      <td>NaN</td>\n",
       "    </tr>\n",
       "    <tr>\n",
       "      <th>44337</th>\n",
       "      <td>FS</td>\n",
       "      <td>Suite of Food Security Indicators</td>\n",
       "      <td>100</td>\n",
       "      <td>India</td>\n",
       "      <td>6132</td>\n",
       "      <td>Value</td>\n",
       "      <td>210011</td>\n",
       "      <td>Number of people undernourished (million) (3-y...</td>\n",
       "      <td>20022004</td>\n",
       "      <td>2002-2004</td>\n",
       "      <td>millions</td>\n",
       "      <td>239.3</td>\n",
       "      <td>F</td>\n",
       "      <td>FAO estimate</td>\n",
       "      <td>NaN</td>\n",
       "    </tr>\n",
       "    <tr>\n",
       "      <th>44338</th>\n",
       "      <td>FS</td>\n",
       "      <td>Suite of Food Security Indicators</td>\n",
       "      <td>100</td>\n",
       "      <td>India</td>\n",
       "      <td>6132</td>\n",
       "      <td>Value</td>\n",
       "      <td>210011</td>\n",
       "      <td>Number of people undernourished (million) (3-y...</td>\n",
       "      <td>20032005</td>\n",
       "      <td>2003-2005</td>\n",
       "      <td>millions</td>\n",
       "      <td>249.6</td>\n",
       "      <td>F</td>\n",
       "      <td>FAO estimate</td>\n",
       "      <td>NaN</td>\n",
       "    </tr>\n",
       "    <tr>\n",
       "      <th>44339</th>\n",
       "      <td>FS</td>\n",
       "      <td>Suite of Food Security Indicators</td>\n",
       "      <td>100</td>\n",
       "      <td>India</td>\n",
       "      <td>6132</td>\n",
       "      <td>Value</td>\n",
       "      <td>210011</td>\n",
       "      <td>Number of people undernourished (million) (3-y...</td>\n",
       "      <td>20042006</td>\n",
       "      <td>2004-2006</td>\n",
       "      <td>millions</td>\n",
       "      <td>247.8</td>\n",
       "      <td>F</td>\n",
       "      <td>FAO estimate</td>\n",
       "      <td>NaN</td>\n",
       "    </tr>\n",
       "    <tr>\n",
       "      <th>44340</th>\n",
       "      <td>FS</td>\n",
       "      <td>Suite of Food Security Indicators</td>\n",
       "      <td>100</td>\n",
       "      <td>India</td>\n",
       "      <td>6132</td>\n",
       "      <td>Value</td>\n",
       "      <td>210011</td>\n",
       "      <td>Number of people undernourished (million) (3-y...</td>\n",
       "      <td>20052007</td>\n",
       "      <td>2005-2007</td>\n",
       "      <td>millions</td>\n",
       "      <td>228.8</td>\n",
       "      <td>F</td>\n",
       "      <td>FAO estimate</td>\n",
       "      <td>NaN</td>\n",
       "    </tr>\n",
       "    <tr>\n",
       "      <th>44341</th>\n",
       "      <td>FS</td>\n",
       "      <td>Suite of Food Security Indicators</td>\n",
       "      <td>100</td>\n",
       "      <td>India</td>\n",
       "      <td>6132</td>\n",
       "      <td>Value</td>\n",
       "      <td>210011</td>\n",
       "      <td>Number of people undernourished (million) (3-y...</td>\n",
       "      <td>20062008</td>\n",
       "      <td>2006-2008</td>\n",
       "      <td>millions</td>\n",
       "      <td>207.2</td>\n",
       "      <td>F</td>\n",
       "      <td>FAO estimate</td>\n",
       "      <td>NaN</td>\n",
       "    </tr>\n",
       "    <tr>\n",
       "      <th>44342</th>\n",
       "      <td>FS</td>\n",
       "      <td>Suite of Food Security Indicators</td>\n",
       "      <td>100</td>\n",
       "      <td>India</td>\n",
       "      <td>6132</td>\n",
       "      <td>Value</td>\n",
       "      <td>210011</td>\n",
       "      <td>Number of people undernourished (million) (3-y...</td>\n",
       "      <td>20072009</td>\n",
       "      <td>2007-2009</td>\n",
       "      <td>millions</td>\n",
       "      <td>199.0</td>\n",
       "      <td>F</td>\n",
       "      <td>FAO estimate</td>\n",
       "      <td>NaN</td>\n",
       "    </tr>\n",
       "    <tr>\n",
       "      <th>44343</th>\n",
       "      <td>FS</td>\n",
       "      <td>Suite of Food Security Indicators</td>\n",
       "      <td>100</td>\n",
       "      <td>India</td>\n",
       "      <td>6132</td>\n",
       "      <td>Value</td>\n",
       "      <td>210011</td>\n",
       "      <td>Number of people undernourished (million) (3-y...</td>\n",
       "      <td>20082010</td>\n",
       "      <td>2008-2010</td>\n",
       "      <td>millions</td>\n",
       "      <td>199.0</td>\n",
       "      <td>F</td>\n",
       "      <td>FAO estimate</td>\n",
       "      <td>NaN</td>\n",
       "    </tr>\n",
       "    <tr>\n",
       "      <th>44344</th>\n",
       "      <td>FS</td>\n",
       "      <td>Suite of Food Security Indicators</td>\n",
       "      <td>100</td>\n",
       "      <td>India</td>\n",
       "      <td>6132</td>\n",
       "      <td>Value</td>\n",
       "      <td>210011</td>\n",
       "      <td>Number of people undernourished (million) (3-y...</td>\n",
       "      <td>20092011</td>\n",
       "      <td>2009-2011</td>\n",
       "      <td>millions</td>\n",
       "      <td>197.2</td>\n",
       "      <td>F</td>\n",
       "      <td>FAO estimate</td>\n",
       "      <td>NaN</td>\n",
       "    </tr>\n",
       "    <tr>\n",
       "      <th>44345</th>\n",
       "      <td>FS</td>\n",
       "      <td>Suite of Food Security Indicators</td>\n",
       "      <td>100</td>\n",
       "      <td>India</td>\n",
       "      <td>6132</td>\n",
       "      <td>Value</td>\n",
       "      <td>210011</td>\n",
       "      <td>Number of people undernourished (million) (3-y...</td>\n",
       "      <td>20102012</td>\n",
       "      <td>2010-2012</td>\n",
       "      <td>millions</td>\n",
       "      <td>195.0</td>\n",
       "      <td>F</td>\n",
       "      <td>FAO estimate</td>\n",
       "      <td>NaN</td>\n",
       "    </tr>\n",
       "    <tr>\n",
       "      <th>44346</th>\n",
       "      <td>FS</td>\n",
       "      <td>Suite of Food Security Indicators</td>\n",
       "      <td>100</td>\n",
       "      <td>India</td>\n",
       "      <td>6132</td>\n",
       "      <td>Value</td>\n",
       "      <td>210011</td>\n",
       "      <td>Number of people undernourished (million) (3-y...</td>\n",
       "      <td>20112013</td>\n",
       "      <td>2011-2013</td>\n",
       "      <td>millions</td>\n",
       "      <td>189.9</td>\n",
       "      <td>F</td>\n",
       "      <td>FAO estimate</td>\n",
       "      <td>NaN</td>\n",
       "    </tr>\n",
       "    <tr>\n",
       "      <th>44347</th>\n",
       "      <td>FS</td>\n",
       "      <td>Suite of Food Security Indicators</td>\n",
       "      <td>100</td>\n",
       "      <td>India</td>\n",
       "      <td>6132</td>\n",
       "      <td>Value</td>\n",
       "      <td>210011</td>\n",
       "      <td>Number of people undernourished (million) (3-y...</td>\n",
       "      <td>20122014</td>\n",
       "      <td>2012-2014</td>\n",
       "      <td>millions</td>\n",
       "      <td>193.2</td>\n",
       "      <td>F</td>\n",
       "      <td>FAO estimate</td>\n",
       "      <td>NaN</td>\n",
       "    </tr>\n",
       "    <tr>\n",
       "      <th>44348</th>\n",
       "      <td>FS</td>\n",
       "      <td>Suite of Food Security Indicators</td>\n",
       "      <td>100</td>\n",
       "      <td>India</td>\n",
       "      <td>6132</td>\n",
       "      <td>Value</td>\n",
       "      <td>210011</td>\n",
       "      <td>Number of people undernourished (million) (3-y...</td>\n",
       "      <td>20132015</td>\n",
       "      <td>2013-2015</td>\n",
       "      <td>millions</td>\n",
       "      <td>193.3</td>\n",
       "      <td>F</td>\n",
       "      <td>FAO estimate</td>\n",
       "      <td>NaN</td>\n",
       "    </tr>\n",
       "    <tr>\n",
       "      <th>44349</th>\n",
       "      <td>FS</td>\n",
       "      <td>Suite of Food Security Indicators</td>\n",
       "      <td>100</td>\n",
       "      <td>India</td>\n",
       "      <td>6132</td>\n",
       "      <td>Value</td>\n",
       "      <td>210011</td>\n",
       "      <td>Number of people undernourished (million) (3-y...</td>\n",
       "      <td>20142016</td>\n",
       "      <td>2014-2016</td>\n",
       "      <td>millions</td>\n",
       "      <td>192.3</td>\n",
       "      <td>F</td>\n",
       "      <td>FAO estimate</td>\n",
       "      <td>NaN</td>\n",
       "    </tr>\n",
       "    <tr>\n",
       "      <th>44350</th>\n",
       "      <td>FS</td>\n",
       "      <td>Suite of Food Security Indicators</td>\n",
       "      <td>100</td>\n",
       "      <td>India</td>\n",
       "      <td>6132</td>\n",
       "      <td>Value</td>\n",
       "      <td>210011</td>\n",
       "      <td>Number of people undernourished (million) (3-y...</td>\n",
       "      <td>20152017</td>\n",
       "      <td>2015-2017</td>\n",
       "      <td>millions</td>\n",
       "      <td>187.6</td>\n",
       "      <td>F</td>\n",
       "      <td>FAO estimate</td>\n",
       "      <td>NaN</td>\n",
       "    </tr>\n",
       "    <tr>\n",
       "      <th>44351</th>\n",
       "      <td>FS</td>\n",
       "      <td>Suite of Food Security Indicators</td>\n",
       "      <td>100</td>\n",
       "      <td>India</td>\n",
       "      <td>6132</td>\n",
       "      <td>Value</td>\n",
       "      <td>210011</td>\n",
       "      <td>Number of people undernourished (million) (3-y...</td>\n",
       "      <td>20162018</td>\n",
       "      <td>2016-2018</td>\n",
       "      <td>millions</td>\n",
       "      <td>184.9</td>\n",
       "      <td>F</td>\n",
       "      <td>FAO estimate</td>\n",
       "      <td>NaN</td>\n",
       "    </tr>\n",
       "    <tr>\n",
       "      <th>44352</th>\n",
       "      <td>FS</td>\n",
       "      <td>Suite of Food Security Indicators</td>\n",
       "      <td>100</td>\n",
       "      <td>India</td>\n",
       "      <td>6132</td>\n",
       "      <td>Value</td>\n",
       "      <td>210011</td>\n",
       "      <td>Number of people undernourished (million) (3-y...</td>\n",
       "      <td>20172019</td>\n",
       "      <td>2017-2019</td>\n",
       "      <td>millions</td>\n",
       "      <td>189.9</td>\n",
       "      <td>F</td>\n",
       "      <td>FAO estimate</td>\n",
       "      <td>NaN</td>\n",
       "    </tr>\n",
       "    <tr>\n",
       "      <th>44353</th>\n",
       "      <td>FS</td>\n",
       "      <td>Suite of Food Security Indicators</td>\n",
       "      <td>100</td>\n",
       "      <td>India</td>\n",
       "      <td>6132</td>\n",
       "      <td>Value</td>\n",
       "      <td>210011</td>\n",
       "      <td>Number of people undernourished (million) (3-y...</td>\n",
       "      <td>20182020</td>\n",
       "      <td>2018-2020</td>\n",
       "      <td>millions</td>\n",
       "      <td>208.6</td>\n",
       "      <td>F</td>\n",
       "      <td>FAO estimate</td>\n",
       "      <td>NaN</td>\n",
       "    </tr>\n",
       "  </tbody>\n",
       "</table>\n",
       "</div>"
      ],
      "text/plain": [
       "      Domain Code                             Domain  Area Code (FAO)   Area  \\\n",
       "44335          FS  Suite of Food Security Indicators              100  India   \n",
       "44336          FS  Suite of Food Security Indicators              100  India   \n",
       "44337          FS  Suite of Food Security Indicators              100  India   \n",
       "44338          FS  Suite of Food Security Indicators              100  India   \n",
       "44339          FS  Suite of Food Security Indicators              100  India   \n",
       "44340          FS  Suite of Food Security Indicators              100  India   \n",
       "44341          FS  Suite of Food Security Indicators              100  India   \n",
       "44342          FS  Suite of Food Security Indicators              100  India   \n",
       "44343          FS  Suite of Food Security Indicators              100  India   \n",
       "44344          FS  Suite of Food Security Indicators              100  India   \n",
       "44345          FS  Suite of Food Security Indicators              100  India   \n",
       "44346          FS  Suite of Food Security Indicators              100  India   \n",
       "44347          FS  Suite of Food Security Indicators              100  India   \n",
       "44348          FS  Suite of Food Security Indicators              100  India   \n",
       "44349          FS  Suite of Food Security Indicators              100  India   \n",
       "44350          FS  Suite of Food Security Indicators              100  India   \n",
       "44351          FS  Suite of Food Security Indicators              100  India   \n",
       "44352          FS  Suite of Food Security Indicators              100  India   \n",
       "44353          FS  Suite of Food Security Indicators              100  India   \n",
       "\n",
       "       Element Code Element  Item Code  \\\n",
       "44335          6132   Value     210011   \n",
       "44336          6132   Value     210011   \n",
       "44337          6132   Value     210011   \n",
       "44338          6132   Value     210011   \n",
       "44339          6132   Value     210011   \n",
       "44340          6132   Value     210011   \n",
       "44341          6132   Value     210011   \n",
       "44342          6132   Value     210011   \n",
       "44343          6132   Value     210011   \n",
       "44344          6132   Value     210011   \n",
       "44345          6132   Value     210011   \n",
       "44346          6132   Value     210011   \n",
       "44347          6132   Value     210011   \n",
       "44348          6132   Value     210011   \n",
       "44349          6132   Value     210011   \n",
       "44350          6132   Value     210011   \n",
       "44351          6132   Value     210011   \n",
       "44352          6132   Value     210011   \n",
       "44353          6132   Value     210011   \n",
       "\n",
       "                                                    Item  Year Code  \\\n",
       "44335  Number of people undernourished (million) (3-y...   20002002   \n",
       "44336  Number of people undernourished (million) (3-y...   20012003   \n",
       "44337  Number of people undernourished (million) (3-y...   20022004   \n",
       "44338  Number of people undernourished (million) (3-y...   20032005   \n",
       "44339  Number of people undernourished (million) (3-y...   20042006   \n",
       "44340  Number of people undernourished (million) (3-y...   20052007   \n",
       "44341  Number of people undernourished (million) (3-y...   20062008   \n",
       "44342  Number of people undernourished (million) (3-y...   20072009   \n",
       "44343  Number of people undernourished (million) (3-y...   20082010   \n",
       "44344  Number of people undernourished (million) (3-y...   20092011   \n",
       "44345  Number of people undernourished (million) (3-y...   20102012   \n",
       "44346  Number of people undernourished (million) (3-y...   20112013   \n",
       "44347  Number of people undernourished (million) (3-y...   20122014   \n",
       "44348  Number of people undernourished (million) (3-y...   20132015   \n",
       "44349  Number of people undernourished (million) (3-y...   20142016   \n",
       "44350  Number of people undernourished (million) (3-y...   20152017   \n",
       "44351  Number of people undernourished (million) (3-y...   20162018   \n",
       "44352  Number of people undernourished (million) (3-y...   20172019   \n",
       "44353  Number of people undernourished (million) (3-y...   20182020   \n",
       "\n",
       "            Year      Unit  Value Flag Flag Description Note  \n",
       "44335  2000-2002  millions  198.3    F     FAO estimate  NaN  \n",
       "44336  2001-2003  millions  219.3    F     FAO estimate  NaN  \n",
       "44337  2002-2004  millions  239.3    F     FAO estimate  NaN  \n",
       "44338  2003-2005  millions  249.6    F     FAO estimate  NaN  \n",
       "44339  2004-2006  millions  247.8    F     FAO estimate  NaN  \n",
       "44340  2005-2007  millions  228.8    F     FAO estimate  NaN  \n",
       "44341  2006-2008  millions  207.2    F     FAO estimate  NaN  \n",
       "44342  2007-2009  millions  199.0    F     FAO estimate  NaN  \n",
       "44343  2008-2010  millions  199.0    F     FAO estimate  NaN  \n",
       "44344  2009-2011  millions  197.2    F     FAO estimate  NaN  \n",
       "44345  2010-2012  millions  195.0    F     FAO estimate  NaN  \n",
       "44346  2011-2013  millions  189.9    F     FAO estimate  NaN  \n",
       "44347  2012-2014  millions  193.2    F     FAO estimate  NaN  \n",
       "44348  2013-2015  millions  193.3    F     FAO estimate  NaN  \n",
       "44349  2014-2016  millions  192.3    F     FAO estimate  NaN  \n",
       "44350  2015-2017  millions  187.6    F     FAO estimate  NaN  \n",
       "44351  2016-2018  millions  184.9    F     FAO estimate  NaN  \n",
       "44352  2017-2019  millions  189.9    F     FAO estimate  NaN  \n",
       "44353  2018-2020  millions  208.6    F     FAO estimate  NaN  "
      ]
     },
     "execution_count": 50,
     "metadata": {},
     "output_type": "execute_result"
    }
   ],
   "source": [
    "food_security_npu_ind = food_security_npu[food_security_npu['Area'] == 'India']\n",
    "food_security_npu_ind"
   ]
  },
  {
   "cell_type": "code",
   "execution_count": 51,
   "id": "sufficient-kuwait",
   "metadata": {},
   "outputs": [
    {
     "data": {
      "text/plain": [
       "<matplotlib.axes._subplots.AxesSubplot at 0x129f9d4d0>"
      ]
     },
     "execution_count": 51,
     "metadata": {},
     "output_type": "execute_result"
    },
    {
     "data": {
      "image/png": "[encoded data removed]",
      "text/plain": [
       "<Figure size 1800x720 with 1 Axes>"
      ]
     },
     "metadata": {
      "needs_background": "light"
     },
     "output_type": "display_data"
    }
   ],
   "source": [
    "fig_dims = (25, 10)\n",
    "fig, ax = plt.subplots(figsize=fig_dims)\n",
    "food_security_npu_ind.plot.line(x = 'Year', y = 'Value', ax = ax, legend = None)"
   ]
  },
  {
   "cell_type": "code",
   "execution_count": 52,
   "id": "mathematical-powder",
   "metadata": {},
   "outputs": [
    {
     "data": {
      "text/plain": [
       "<matplotlib.axes._subplots.AxesSubplot at 0x129f94c10>"
      ]
     },
     "execution_count": 52,
     "metadata": {},
     "output_type": "execute_result"
    },
    {
     "data": {
      "image/png": "[encoded data removed]",
      "text/plain": [
       "<Figure size 1800x720 with 1 Axes>"
      ]
     },
     "metadata": {
      "needs_background": "light"
     },
     "output_type": "display_data"
    }
   ],
   "source": [
    "food_security_npu_esw = food_security_npu[food_security_npu['Area'] == 'Eswatini']\n",
    "fig_dims = (25, 10)\n",
    "fig, ax = plt.subplots(figsize=fig_dims)\n",
    "food_security_npu_esw.plot.line(x = 'Year', y = 'Value', ax = ax, legend = None)"
   ]
  },
  {
   "cell_type": "code",
   "execution_count": 53,
   "id": "intermediate-ireland",
   "metadata": {},
   "outputs": [
    {
     "data": {
      "text/html": [
       "<div>\n",
       "<style scoped>\n",
       "    .dataframe tbody tr th:only-of-type {\n",
       "        vertical-align: middle;\n",
       "    }\n",
       "\n",
       "    .dataframe tbody tr th {\n",
       "        vertical-align: top;\n",
       "    }\n",
       "\n",
       "    .dataframe thead th {\n",
       "        text-align: right;\n",
       "    }\n",
       "</style>\n",
       "<table border=\"1\" class=\"dataframe\">\n",
       "  <thead>\n",
       "    <tr style=\"text-align: right;\">\n",
       "      <th></th>\n",
       "      <th>Domain Code</th>\n",
       "      <th>Domain</th>\n",
       "      <th>Area Code (FAO)</th>\n",
       "      <th>Area</th>\n",
       "      <th>Element Code</th>\n",
       "      <th>Element</th>\n",
       "      <th>Item Code</th>\n",
       "      <th>Item</th>\n",
       "      <th>Year Code</th>\n",
       "      <th>Year</th>\n",
       "      <th>Unit</th>\n",
       "      <th>Value</th>\n",
       "      <th>Flag</th>\n",
       "      <th>Flag Description</th>\n",
       "      <th>Note</th>\n",
       "    </tr>\n",
       "  </thead>\n",
       "  <tbody>\n",
       "    <tr>\n",
       "      <th>163</th>\n",
       "      <td>FS</td>\n",
       "      <td>Suite of Food Security Indicators</td>\n",
       "      <td>2</td>\n",
       "      <td>Afghanistan</td>\n",
       "      <td>6121</td>\n",
       "      <td>Value</td>\n",
       "      <td>210401</td>\n",
       "      <td>Prevalence of severe food insecurity in the to...</td>\n",
       "      <td>20142016</td>\n",
       "      <td>2014-2016</td>\n",
       "      <td>%</td>\n",
       "      <td>14.8</td>\n",
       "      <td>F</td>\n",
       "      <td>FAO estimate</td>\n",
       "      <td>NaN</td>\n",
       "    </tr>\n",
       "    <tr>\n",
       "      <th>164</th>\n",
       "      <td>FS</td>\n",
       "      <td>Suite of Food Security Indicators</td>\n",
       "      <td>2</td>\n",
       "      <td>Afghanistan</td>\n",
       "      <td>6121</td>\n",
       "      <td>Value</td>\n",
       "      <td>210401</td>\n",
       "      <td>Prevalence of severe food insecurity in the to...</td>\n",
       "      <td>20152017</td>\n",
       "      <td>2015-2017</td>\n",
       "      <td>%</td>\n",
       "      <td>15.1</td>\n",
       "      <td>F</td>\n",
       "      <td>FAO estimate</td>\n",
       "      <td>NaN</td>\n",
       "    </tr>\n",
       "    <tr>\n",
       "      <th>165</th>\n",
       "      <td>FS</td>\n",
       "      <td>Suite of Food Security Indicators</td>\n",
       "      <td>2</td>\n",
       "      <td>Afghanistan</td>\n",
       "      <td>6121</td>\n",
       "      <td>Value</td>\n",
       "      <td>210401</td>\n",
       "      <td>Prevalence of severe food insecurity in the to...</td>\n",
       "      <td>20162018</td>\n",
       "      <td>2016-2018</td>\n",
       "      <td>%</td>\n",
       "      <td>17.3</td>\n",
       "      <td>F</td>\n",
       "      <td>FAO estimate</td>\n",
       "      <td>NaN</td>\n",
       "    </tr>\n",
       "    <tr>\n",
       "      <th>166</th>\n",
       "      <td>FS</td>\n",
       "      <td>Suite of Food Security Indicators</td>\n",
       "      <td>2</td>\n",
       "      <td>Afghanistan</td>\n",
       "      <td>6121</td>\n",
       "      <td>Value</td>\n",
       "      <td>210401</td>\n",
       "      <td>Prevalence of severe food insecurity in the to...</td>\n",
       "      <td>20172019</td>\n",
       "      <td>2017-2019</td>\n",
       "      <td>%</td>\n",
       "      <td>17.3</td>\n",
       "      <td>NaN</td>\n",
       "      <td>Official data</td>\n",
       "      <td>Official estimate integrated with FAO data</td>\n",
       "    </tr>\n",
       "    <tr>\n",
       "      <th>167</th>\n",
       "      <td>FS</td>\n",
       "      <td>Suite of Food Security Indicators</td>\n",
       "      <td>2</td>\n",
       "      <td>Afghanistan</td>\n",
       "      <td>6121</td>\n",
       "      <td>Value</td>\n",
       "      <td>210401</td>\n",
       "      <td>Prevalence of severe food insecurity in the to...</td>\n",
       "      <td>20182020</td>\n",
       "      <td>2018-2020</td>\n",
       "      <td>%</td>\n",
       "      <td>19.8</td>\n",
       "      <td>NaN</td>\n",
       "      <td>Official data</td>\n",
       "      <td>Official estimate integrated with FAO data</td>\n",
       "    </tr>\n",
       "    <tr>\n",
       "      <th>...</th>\n",
       "      <td>...</td>\n",
       "      <td>...</td>\n",
       "      <td>...</td>\n",
       "      <td>...</td>\n",
       "      <td>...</td>\n",
       "      <td>...</td>\n",
       "      <td>...</td>\n",
       "      <td>...</td>\n",
       "      <td>...</td>\n",
       "      <td>...</td>\n",
       "      <td>...</td>\n",
       "      <td>...</td>\n",
       "      <td>...</td>\n",
       "      <td>...</td>\n",
       "      <td>...</td>\n",
       "    </tr>\n",
       "    <tr>\n",
       "      <th>104919</th>\n",
       "      <td>FS</td>\n",
       "      <td>Suite of Food Security Indicators</td>\n",
       "      <td>181</td>\n",
       "      <td>Zimbabwe</td>\n",
       "      <td>6121</td>\n",
       "      <td>Value</td>\n",
       "      <td>210401</td>\n",
       "      <td>Prevalence of severe food insecurity in the to...</td>\n",
       "      <td>20142016</td>\n",
       "      <td>2014-2016</td>\n",
       "      <td>%</td>\n",
       "      <td>35.5</td>\n",
       "      <td>F</td>\n",
       "      <td>FAO estimate</td>\n",
       "      <td>NaN</td>\n",
       "    </tr>\n",
       "    <tr>\n",
       "      <th>104920</th>\n",
       "      <td>FS</td>\n",
       "      <td>Suite of Food Security Indicators</td>\n",
       "      <td>181</td>\n",
       "      <td>Zimbabwe</td>\n",
       "      <td>6121</td>\n",
       "      <td>Value</td>\n",
       "      <td>210401</td>\n",
       "      <td>Prevalence of severe food insecurity in the to...</td>\n",
       "      <td>20152017</td>\n",
       "      <td>2015-2017</td>\n",
       "      <td>%</td>\n",
       "      <td>36.7</td>\n",
       "      <td>F</td>\n",
       "      <td>FAO estimate</td>\n",
       "      <td>NaN</td>\n",
       "    </tr>\n",
       "    <tr>\n",
       "      <th>104921</th>\n",
       "      <td>FS</td>\n",
       "      <td>Suite of Food Security Indicators</td>\n",
       "      <td>181</td>\n",
       "      <td>Zimbabwe</td>\n",
       "      <td>6121</td>\n",
       "      <td>Value</td>\n",
       "      <td>210401</td>\n",
       "      <td>Prevalence of severe food insecurity in the to...</td>\n",
       "      <td>20162018</td>\n",
       "      <td>2016-2018</td>\n",
       "      <td>%</td>\n",
       "      <td>35.9</td>\n",
       "      <td>F</td>\n",
       "      <td>FAO estimate</td>\n",
       "      <td>NaN</td>\n",
       "    </tr>\n",
       "    <tr>\n",
       "      <th>104922</th>\n",
       "      <td>FS</td>\n",
       "      <td>Suite of Food Security Indicators</td>\n",
       "      <td>181</td>\n",
       "      <td>Zimbabwe</td>\n",
       "      <td>6121</td>\n",
       "      <td>Value</td>\n",
       "      <td>210401</td>\n",
       "      <td>Prevalence of severe food insecurity in the to...</td>\n",
       "      <td>20172019</td>\n",
       "      <td>2017-2019</td>\n",
       "      <td>%</td>\n",
       "      <td>34.2</td>\n",
       "      <td>F</td>\n",
       "      <td>FAO estimate</td>\n",
       "      <td>NaN</td>\n",
       "    </tr>\n",
       "    <tr>\n",
       "      <th>104923</th>\n",
       "      <td>FS</td>\n",
       "      <td>Suite of Food Security Indicators</td>\n",
       "      <td>181</td>\n",
       "      <td>Zimbabwe</td>\n",
       "      <td>6121</td>\n",
       "      <td>Value</td>\n",
       "      <td>210401</td>\n",
       "      <td>Prevalence of severe food insecurity in the to...</td>\n",
       "      <td>20182020</td>\n",
       "      <td>2018-2020</td>\n",
       "      <td>%</td>\n",
       "      <td>32.1</td>\n",
       "      <td>F</td>\n",
       "      <td>FAO estimate</td>\n",
       "      <td>NaN</td>\n",
       "    </tr>\n",
       "  </tbody>\n",
       "</table>\n",
       "<p>527 rows × 15 columns</p>\n",
       "</div>"
      ],
      "text/plain": [
       "       Domain Code                             Domain  Area Code (FAO)  \\\n",
       "163             FS  Suite of Food Security Indicators                2   \n",
       "164             FS  Suite of Food Security Indicators                2   \n",
       "165             FS  Suite of Food Security Indicators                2   \n",
       "166             FS  Suite of Food Security Indicators                2   \n",
       "167             FS  Suite of Food Security Indicators                2   \n",
       "...            ...                                ...              ...   \n",
       "104919          FS  Suite of Food Security Indicators              181   \n",
       "104920          FS  Suite of Food Security Indicators              181   \n",
       "104921          FS  Suite of Food Security Indicators              181   \n",
       "104922          FS  Suite of Food Security Indicators              181   \n",
       "104923          FS  Suite of Food Security Indicators              181   \n",
       "\n",
       "               Area  Element Code Element  Item Code  \\\n",
       "163     Afghanistan          6121   Value     210401   \n",
       "164     Afghanistan          6121   Value     210401   \n",
       "165     Afghanistan          6121   Value     210401   \n",
       "166     Afghanistan          6121   Value     210401   \n",
       "167     Afghanistan          6121   Value     210401   \n",
       "...             ...           ...     ...        ...   \n",
       "104919     Zimbabwe          6121   Value     210401   \n",
       "104920     Zimbabwe          6121   Value     210401   \n",
       "104921     Zimbabwe          6121   Value     210401   \n",
       "104922     Zimbabwe          6121   Value     210401   \n",
       "104923     Zimbabwe          6121   Value     210401   \n",
       "\n",
       "                                                     Item  Year Code  \\\n",
       "163     Prevalence of severe food insecurity in the to...   20142016   \n",
       "164     Prevalence of severe food insecurity in the to...   20152017   \n",
       "165     Prevalence of severe food insecurity in the to...   20162018   \n",
       "166     Prevalence of severe food insecurity in the to...   20172019   \n",
       "167     Prevalence of severe food insecurity in the to...   20182020   \n",
       "...                                                   ...        ...   \n",
       "104919  Prevalence of severe food insecurity in the to...   20142016   \n",
       "104920  Prevalence of severe food insecurity in the to...   20152017   \n",
       "104921  Prevalence of severe food insecurity in the to...   20162018   \n",
       "104922  Prevalence of severe food insecurity in the to...   20172019   \n",
       "104923  Prevalence of severe food insecurity in the to...   20182020   \n",
       "\n",
       "             Year Unit  Value Flag Flag Description  \\\n",
       "163     2014-2016    %   14.8    F     FAO estimate   \n",
       "164     2015-2017    %   15.1    F     FAO estimate   \n",
       "165     2016-2018    %   17.3    F     FAO estimate   \n",
       "166     2017-2019    %   17.3  NaN    Official data   \n",
       "167     2018-2020    %   19.8  NaN    Official data   \n",
       "...           ...  ...    ...  ...              ...   \n",
       "104919  2014-2016    %   35.5    F     FAO estimate   \n",
       "104920  2015-2017    %   36.7    F     FAO estimate   \n",
       "104921  2016-2018    %   35.9    F     FAO estimate   \n",
       "104922  2017-2019    %   34.2    F     FAO estimate   \n",
       "104923  2018-2020    %   32.1    F     FAO estimate   \n",
       "\n",
       "                                              Note  \n",
       "163                                            NaN  \n",
       "164                                            NaN  \n",
       "165                                            NaN  \n",
       "166     Official estimate integrated with FAO data  \n",
       "167     Official estimate integrated with FAO data  \n",
       "...                                            ...  \n",
       "104919                                         NaN  \n",
       "104920                                         NaN  \n",
       "104921                                         NaN  \n",
       "104922                                         NaN  \n",
       "104923                                         NaN  \n",
       "\n",
       "[527 rows x 15 columns]"
      ]
     },
     "execution_count": 53,
     "metadata": {},
     "output_type": "execute_result"
    }
   ],
   "source": [
    "food_security_psfi = food_security[food_security['Item'] == 'Prevalence of severe food insecurity in the total population (percent) (3-year average)']\n",
    "food_security_psfi"
   ]
  },
  {
   "cell_type": "code",
   "execution_count": 54,
   "id": "recent-bullet",
   "metadata": {},
   "outputs": [],
   "source": [
    "food_security_psfi_2018 = food_security_psfi[food_security_psfi['Year'] == '2018-2020']\n",
    "food_security_psfi_2018 = food_security_psfi_2018.sort_values(by = 'Value', ascending = False)"
   ]
  },
  {
   "cell_type": "code",
   "execution_count": 55,
   "id": "stable-roman",
   "metadata": {},
   "outputs": [
    {
     "data": {
      "text/plain": [
       "<matplotlib.axes._subplots.AxesSubplot at 0x123bc6e90>"
      ]
     },
     "execution_count": 55,
     "metadata": {},
     "output_type": "execute_result"
    },
    {
     "data": {
      "image/png": "[encoded data removed]",
      "text/plain": [
       "<Figure size 1800x720 with 1 Axes>"
      ]
     },
     "metadata": {
      "needs_background": "light"
     },
     "output_type": "display_data"
    }
   ],
   "source": [
    "fig_dims = (25, 10)\n",
    "fig, ax = plt.subplots(figsize=fig_dims)\n",
    "food_security_psfi_2018.plot.bar(x = 'Area', y = 'Value', ax = ax, legend = None)"
   ]
  },
  {
   "cell_type": "code",
   "execution_count": 56,
   "id": "polish-measurement",
   "metadata": {},
   "outputs": [
    {
     "data": {
      "text/html": [
       "<div>\n",
       "<style scoped>\n",
       "    .dataframe tbody tr th:only-of-type {\n",
       "        vertical-align: middle;\n",
       "    }\n",
       "\n",
       "    .dataframe tbody tr th {\n",
       "        vertical-align: top;\n",
       "    }\n",
       "\n",
       "    .dataframe thead th {\n",
       "        text-align: right;\n",
       "    }\n",
       "</style>\n",
       "<table border=\"1\" class=\"dataframe\">\n",
       "  <thead>\n",
       "    <tr style=\"text-align: right;\">\n",
       "      <th></th>\n",
       "      <th>Domain Code</th>\n",
       "      <th>Domain</th>\n",
       "      <th>Area Code (FAO)</th>\n",
       "      <th>Area</th>\n",
       "      <th>Element Code</th>\n",
       "      <th>Element</th>\n",
       "      <th>Item Code</th>\n",
       "      <th>Item</th>\n",
       "      <th>Year Code</th>\n",
       "      <th>Year</th>\n",
       "      <th>Unit</th>\n",
       "      <th>Value</th>\n",
       "      <th>Flag</th>\n",
       "      <th>Flag Description</th>\n",
       "      <th>Note</th>\n",
       "    </tr>\n",
       "  </thead>\n",
       "  <tbody>\n",
       "    <tr>\n",
       "      <th>88573</th>\n",
       "      <td>FS</td>\n",
       "      <td>Suite of Food Security Indicators</td>\n",
       "      <td>277</td>\n",
       "      <td>South Sudan</td>\n",
       "      <td>6121</td>\n",
       "      <td>Value</td>\n",
       "      <td>210401</td>\n",
       "      <td>Prevalence of severe food insecurity in the to...</td>\n",
       "      <td>20142016</td>\n",
       "      <td>2014-2016</td>\n",
       "      <td>%</td>\n",
       "      <td>65.4</td>\n",
       "      <td>NaN</td>\n",
       "      <td>Official data</td>\n",
       "      <td>Official estimate</td>\n",
       "    </tr>\n",
       "    <tr>\n",
       "      <th>88575</th>\n",
       "      <td>FS</td>\n",
       "      <td>Suite of Food Security Indicators</td>\n",
       "      <td>277</td>\n",
       "      <td>South Sudan</td>\n",
       "      <td>6121</td>\n",
       "      <td>Value</td>\n",
       "      <td>210401</td>\n",
       "      <td>Prevalence of severe food insecurity in the to...</td>\n",
       "      <td>20162018</td>\n",
       "      <td>2016-2018</td>\n",
       "      <td>%</td>\n",
       "      <td>65.4</td>\n",
       "      <td>NaN</td>\n",
       "      <td>Official data</td>\n",
       "      <td>Official estimate</td>\n",
       "    </tr>\n",
       "    <tr>\n",
       "      <th>88576</th>\n",
       "      <td>FS</td>\n",
       "      <td>Suite of Food Security Indicators</td>\n",
       "      <td>277</td>\n",
       "      <td>South Sudan</td>\n",
       "      <td>6121</td>\n",
       "      <td>Value</td>\n",
       "      <td>210401</td>\n",
       "      <td>Prevalence of severe food insecurity in the to...</td>\n",
       "      <td>20172019</td>\n",
       "      <td>2017-2019</td>\n",
       "      <td>%</td>\n",
       "      <td>63.7</td>\n",
       "      <td>NaN</td>\n",
       "      <td>Official data</td>\n",
       "      <td>Official estimate</td>\n",
       "    </tr>\n",
       "    <tr>\n",
       "      <th>88577</th>\n",
       "      <td>FS</td>\n",
       "      <td>Suite of Food Security Indicators</td>\n",
       "      <td>277</td>\n",
       "      <td>South Sudan</td>\n",
       "      <td>6121</td>\n",
       "      <td>Value</td>\n",
       "      <td>210401</td>\n",
       "      <td>Prevalence of severe food insecurity in the to...</td>\n",
       "      <td>20182020</td>\n",
       "      <td>2018-2020</td>\n",
       "      <td>%</td>\n",
       "      <td>62.0</td>\n",
       "      <td>NaN</td>\n",
       "      <td>Official data</td>\n",
       "      <td>Official estimate</td>\n",
       "    </tr>\n",
       "  </tbody>\n",
       "</table>\n",
       "</div>"
      ],
      "text/plain": [
       "      Domain Code                             Domain  Area Code (FAO)  \\\n",
       "88573          FS  Suite of Food Security Indicators              277   \n",
       "88575          FS  Suite of Food Security Indicators              277   \n",
       "88576          FS  Suite of Food Security Indicators              277   \n",
       "88577          FS  Suite of Food Security Indicators              277   \n",
       "\n",
       "              Area  Element Code Element  Item Code  \\\n",
       "88573  South Sudan          6121   Value     210401   \n",
       "88575  South Sudan          6121   Value     210401   \n",
       "88576  South Sudan          6121   Value     210401   \n",
       "88577  South Sudan          6121   Value     210401   \n",
       "\n",
       "                                                    Item  Year Code  \\\n",
       "88573  Prevalence of severe food insecurity in the to...   20142016   \n",
       "88575  Prevalence of severe food insecurity in the to...   20162018   \n",
       "88576  Prevalence of severe food insecurity in the to...   20172019   \n",
       "88577  Prevalence of severe food insecurity in the to...   20182020   \n",
       "\n",
       "            Year Unit  Value Flag Flag Description               Note  \n",
       "88573  2014-2016    %   65.4  NaN    Official data  Official estimate  \n",
       "88575  2016-2018    %   65.4  NaN    Official data  Official estimate  \n",
       "88576  2017-2019    %   63.7  NaN    Official data  Official estimate  \n",
       "88577  2018-2020    %   62.0  NaN    Official data  Official estimate  "
      ]
     },
     "execution_count": 56,
     "metadata": {},
     "output_type": "execute_result"
    }
   ],
   "source": [
    "food_security_psfi_ss = food_security_psfi[food_security_psfi['Area'] == 'South Sudan']\n",
    "food_security_psfi_ss"
   ]
  },
  {
   "cell_type": "code",
   "execution_count": 57,
   "id": "modified-maple",
   "metadata": {},
   "outputs": [
    {
     "data": {
      "text/plain": [
       "<matplotlib.axes._subplots.AxesSubplot at 0x128bb6f10>"
      ]
     },
     "execution_count": 57,
     "metadata": {},
     "output_type": "execute_result"
    },
    {
     "data": {
      "image/png": "[encoded data removed]",
      "text/plain": [
       "<Figure size 720x360 with 1 Axes>"
      ]
     },
     "metadata": {
      "needs_background": "light"
     },
     "output_type": "display_data"
    }
   ],
   "source": [
    "fig_dims = (10, 5)\n",
    "fig, ax = plt.subplots(figsize=fig_dims)\n",
    "food_security_psfi_ss.plot.line(x = 'Year', y = 'Value', ax = ax, legend = None)"
   ]
  },
  {
   "cell_type": "code",
   "execution_count": 58,
   "id": "adult-suicide",
   "metadata": {},
   "outputs": [
    {
     "data": {
      "text/html": [
       "<div>\n",
       "<style scoped>\n",
       "    .dataframe tbody tr th:only-of-type {\n",
       "        vertical-align: middle;\n",
       "    }\n",
       "\n",
       "    .dataframe tbody tr th {\n",
       "        vertical-align: top;\n",
       "    }\n",
       "\n",
       "    .dataframe thead th {\n",
       "        text-align: right;\n",
       "    }\n",
       "</style>\n",
       "<table border=\"1\" class=\"dataframe\">\n",
       "  <thead>\n",
       "    <tr style=\"text-align: right;\">\n",
       "      <th></th>\n",
       "      <th>Domain Code</th>\n",
       "      <th>Domain</th>\n",
       "      <th>Area Code (FAO)</th>\n",
       "      <th>Area</th>\n",
       "      <th>Element Code</th>\n",
       "      <th>Element</th>\n",
       "      <th>Item Code</th>\n",
       "      <th>Item</th>\n",
       "      <th>Year Code</th>\n",
       "      <th>Year</th>\n",
       "      <th>Unit</th>\n",
       "      <th>Value</th>\n",
       "      <th>Flag</th>\n",
       "      <th>Flag Description</th>\n",
       "      <th>Note</th>\n",
       "    </tr>\n",
       "  </thead>\n",
       "  <tbody>\n",
       "    <tr>\n",
       "      <th>5580</th>\n",
       "      <td>FS</td>\n",
       "      <td>Suite of Food Security Indicators</td>\n",
       "      <td>52</td>\n",
       "      <td>Azerbaijan</td>\n",
       "      <td>6121</td>\n",
       "      <td>Value</td>\n",
       "      <td>210401</td>\n",
       "      <td>Prevalence of severe food insecurity in the to...</td>\n",
       "      <td>20142016</td>\n",
       "      <td>2014-2016</td>\n",
       "      <td>%</td>\n",
       "      <td>0.25</td>\n",
       "      <td>F</td>\n",
       "      <td>FAO estimate</td>\n",
       "      <td>NaN</td>\n",
       "    </tr>\n",
       "    <tr>\n",
       "      <th>5581</th>\n",
       "      <td>FS</td>\n",
       "      <td>Suite of Food Security Indicators</td>\n",
       "      <td>52</td>\n",
       "      <td>Azerbaijan</td>\n",
       "      <td>6121</td>\n",
       "      <td>Value</td>\n",
       "      <td>210401</td>\n",
       "      <td>Prevalence of severe food insecurity in the to...</td>\n",
       "      <td>20152017</td>\n",
       "      <td>2015-2017</td>\n",
       "      <td>%</td>\n",
       "      <td>0.25</td>\n",
       "      <td>F</td>\n",
       "      <td>FAO estimate</td>\n",
       "      <td>NaN</td>\n",
       "    </tr>\n",
       "    <tr>\n",
       "      <th>5582</th>\n",
       "      <td>FS</td>\n",
       "      <td>Suite of Food Security Indicators</td>\n",
       "      <td>52</td>\n",
       "      <td>Azerbaijan</td>\n",
       "      <td>6121</td>\n",
       "      <td>Value</td>\n",
       "      <td>210401</td>\n",
       "      <td>Prevalence of severe food insecurity in the to...</td>\n",
       "      <td>20162018</td>\n",
       "      <td>2016-2018</td>\n",
       "      <td>%</td>\n",
       "      <td>0.25</td>\n",
       "      <td>F</td>\n",
       "      <td>FAO estimate</td>\n",
       "      <td>NaN</td>\n",
       "    </tr>\n",
       "    <tr>\n",
       "      <th>5583</th>\n",
       "      <td>FS</td>\n",
       "      <td>Suite of Food Security Indicators</td>\n",
       "      <td>52</td>\n",
       "      <td>Azerbaijan</td>\n",
       "      <td>6121</td>\n",
       "      <td>Value</td>\n",
       "      <td>210401</td>\n",
       "      <td>Prevalence of severe food insecurity in the to...</td>\n",
       "      <td>20172019</td>\n",
       "      <td>2017-2019</td>\n",
       "      <td>%</td>\n",
       "      <td>0.25</td>\n",
       "      <td>F</td>\n",
       "      <td>FAO estimate</td>\n",
       "      <td>NaN</td>\n",
       "    </tr>\n",
       "    <tr>\n",
       "      <th>5584</th>\n",
       "      <td>FS</td>\n",
       "      <td>Suite of Food Security Indicators</td>\n",
       "      <td>52</td>\n",
       "      <td>Azerbaijan</td>\n",
       "      <td>6121</td>\n",
       "      <td>Value</td>\n",
       "      <td>210401</td>\n",
       "      <td>Prevalence of severe food insecurity in the to...</td>\n",
       "      <td>20182020</td>\n",
       "      <td>2018-2020</td>\n",
       "      <td>%</td>\n",
       "      <td>0.25</td>\n",
       "      <td>F</td>\n",
       "      <td>FAO estimate</td>\n",
       "      <td>NaN</td>\n",
       "    </tr>\n",
       "  </tbody>\n",
       "</table>\n",
       "</div>"
      ],
      "text/plain": [
       "     Domain Code                             Domain  Area Code (FAO)  \\\n",
       "5580          FS  Suite of Food Security Indicators               52   \n",
       "5581          FS  Suite of Food Security Indicators               52   \n",
       "5582          FS  Suite of Food Security Indicators               52   \n",
       "5583          FS  Suite of Food Security Indicators               52   \n",
       "5584          FS  Suite of Food Security Indicators               52   \n",
       "\n",
       "            Area  Element Code Element  Item Code  \\\n",
       "5580  Azerbaijan          6121   Value     210401   \n",
       "5581  Azerbaijan          6121   Value     210401   \n",
       "5582  Azerbaijan          6121   Value     210401   \n",
       "5583  Azerbaijan          6121   Value     210401   \n",
       "5584  Azerbaijan          6121   Value     210401   \n",
       "\n",
       "                                                   Item  Year Code       Year  \\\n",
       "5580  Prevalence of severe food insecurity in the to...   20142016  2014-2016   \n",
       "5581  Prevalence of severe food insecurity in the to...   20152017  2015-2017   \n",
       "5582  Prevalence of severe food insecurity in the to...   20162018  2016-2018   \n",
       "5583  Prevalence of severe food insecurity in the to...   20172019  2017-2019   \n",
       "5584  Prevalence of severe food insecurity in the to...   20182020  2018-2020   \n",
       "\n",
       "     Unit  Value Flag Flag Description Note  \n",
       "5580    %   0.25    F     FAO estimate  NaN  \n",
       "5581    %   0.25    F     FAO estimate  NaN  \n",
       "5582    %   0.25    F     FAO estimate  NaN  \n",
       "5583    %   0.25    F     FAO estimate  NaN  \n",
       "5584    %   0.25    F     FAO estimate  NaN  "
      ]
     },
     "execution_count": 58,
     "metadata": {},
     "output_type": "execute_result"
    }
   ],
   "source": [
    "food_security_psfi_az = food_security_psfi[food_security_psfi['Area'] == 'Azerbaijan']\n",
    "food_security_psfi_az"
   ]
  },
  {
   "cell_type": "code",
   "execution_count": 59,
   "id": "neutral-inclusion",
   "metadata": {},
   "outputs": [
    {
     "data": {
      "text/plain": [
       "<matplotlib.axes._subplots.AxesSubplot at 0x127eb65d0>"
      ]
     },
     "execution_count": 59,
     "metadata": {},
     "output_type": "execute_result"
    },
    {
     "data": {
      "image/png": "[encoded data removed]",
      "text/plain": [
       "<Figure size 1800x720 with 1 Axes>"
      ]
     },
     "metadata": {
      "needs_background": "light"
     },
     "output_type": "display_data"
    }
   ],
   "source": [
    "fig_dims = (25, 10)\n",
    "fig, ax = plt.subplots(figsize=fig_dims)\n",
    "food_security_psfi_az.plot.line(x = 'Year', y = 'Value', ax = ax, legend = None)"
   ]
  },
  {
   "cell_type": "code",
   "execution_count": 60,
   "id": "cooked-kingdom",
   "metadata": {},
   "outputs": [
    {
     "data": {
      "text/html": [
       "<div>\n",
       "<style scoped>\n",
       "    .dataframe tbody tr th:only-of-type {\n",
       "        vertical-align: middle;\n",
       "    }\n",
       "\n",
       "    .dataframe tbody tr th {\n",
       "        vertical-align: top;\n",
       "    }\n",
       "\n",
       "    .dataframe thead th {\n",
       "        text-align: right;\n",
       "    }\n",
       "</style>\n",
       "<table border=\"1\" class=\"dataframe\">\n",
       "  <thead>\n",
       "    <tr style=\"text-align: right;\">\n",
       "      <th></th>\n",
       "      <th>Domain Code</th>\n",
       "      <th>Domain</th>\n",
       "      <th>Area Code (FAO)</th>\n",
       "      <th>Area</th>\n",
       "      <th>Element Code</th>\n",
       "      <th>Element</th>\n",
       "      <th>Item Code</th>\n",
       "      <th>Item</th>\n",
       "      <th>Year Code</th>\n",
       "      <th>Year</th>\n",
       "      <th>Unit</th>\n",
       "      <th>Value</th>\n",
       "      <th>Flag</th>\n",
       "      <th>Flag Description</th>\n",
       "      <th>Note</th>\n",
       "    </tr>\n",
       "  </thead>\n",
       "  <tbody>\n",
       "    <tr>\n",
       "      <th>416</th>\n",
       "      <td>FS</td>\n",
       "      <td>Suite of Food Security Indicators</td>\n",
       "      <td>2</td>\n",
       "      <td>Afghanistan</td>\n",
       "      <td>6121</td>\n",
       "      <td>Value</td>\n",
       "      <td>21043</td>\n",
       "      <td>Prevalence of anemia among women of reproducti...</td>\n",
       "      <td>2000</td>\n",
       "      <td>2000</td>\n",
       "      <td>%</td>\n",
       "      <td>35.7</td>\n",
       "      <td>X</td>\n",
       "      <td>International reliable sources</td>\n",
       "      <td>NaN</td>\n",
       "    </tr>\n",
       "    <tr>\n",
       "      <th>417</th>\n",
       "      <td>FS</td>\n",
       "      <td>Suite of Food Security Indicators</td>\n",
       "      <td>2</td>\n",
       "      <td>Afghanistan</td>\n",
       "      <td>6121</td>\n",
       "      <td>Value</td>\n",
       "      <td>21043</td>\n",
       "      <td>Prevalence of anemia among women of reproducti...</td>\n",
       "      <td>2001</td>\n",
       "      <td>2001</td>\n",
       "      <td>%</td>\n",
       "      <td>35.6</td>\n",
       "      <td>X</td>\n",
       "      <td>International reliable sources</td>\n",
       "      <td>NaN</td>\n",
       "    </tr>\n",
       "    <tr>\n",
       "      <th>418</th>\n",
       "      <td>FS</td>\n",
       "      <td>Suite of Food Security Indicators</td>\n",
       "      <td>2</td>\n",
       "      <td>Afghanistan</td>\n",
       "      <td>6121</td>\n",
       "      <td>Value</td>\n",
       "      <td>21043</td>\n",
       "      <td>Prevalence of anemia among women of reproducti...</td>\n",
       "      <td>2002</td>\n",
       "      <td>2002</td>\n",
       "      <td>%</td>\n",
       "      <td>35.4</td>\n",
       "      <td>X</td>\n",
       "      <td>International reliable sources</td>\n",
       "      <td>NaN</td>\n",
       "    </tr>\n",
       "    <tr>\n",
       "      <th>419</th>\n",
       "      <td>FS</td>\n",
       "      <td>Suite of Food Security Indicators</td>\n",
       "      <td>2</td>\n",
       "      <td>Afghanistan</td>\n",
       "      <td>6121</td>\n",
       "      <td>Value</td>\n",
       "      <td>21043</td>\n",
       "      <td>Prevalence of anemia among women of reproducti...</td>\n",
       "      <td>2003</td>\n",
       "      <td>2003</td>\n",
       "      <td>%</td>\n",
       "      <td>35.4</td>\n",
       "      <td>X</td>\n",
       "      <td>International reliable sources</td>\n",
       "      <td>NaN</td>\n",
       "    </tr>\n",
       "    <tr>\n",
       "      <th>420</th>\n",
       "      <td>FS</td>\n",
       "      <td>Suite of Food Security Indicators</td>\n",
       "      <td>2</td>\n",
       "      <td>Afghanistan</td>\n",
       "      <td>6121</td>\n",
       "      <td>Value</td>\n",
       "      <td>21043</td>\n",
       "      <td>Prevalence of anemia among women of reproducti...</td>\n",
       "      <td>2004</td>\n",
       "      <td>2004</td>\n",
       "      <td>%</td>\n",
       "      <td>35.5</td>\n",
       "      <td>X</td>\n",
       "      <td>International reliable sources</td>\n",
       "      <td>NaN</td>\n",
       "    </tr>\n",
       "    <tr>\n",
       "      <th>...</th>\n",
       "      <td>...</td>\n",
       "      <td>...</td>\n",
       "      <td>...</td>\n",
       "      <td>...</td>\n",
       "      <td>...</td>\n",
       "      <td>...</td>\n",
       "      <td>...</td>\n",
       "      <td>...</td>\n",
       "      <td>...</td>\n",
       "      <td>...</td>\n",
       "      <td>...</td>\n",
       "      <td>...</td>\n",
       "      <td>...</td>\n",
       "      <td>...</td>\n",
       "      <td>...</td>\n",
       "    </tr>\n",
       "    <tr>\n",
       "      <th>105211</th>\n",
       "      <td>FS</td>\n",
       "      <td>Suite of Food Security Indicators</td>\n",
       "      <td>181</td>\n",
       "      <td>Zimbabwe</td>\n",
       "      <td>6121</td>\n",
       "      <td>Value</td>\n",
       "      <td>21043</td>\n",
       "      <td>Prevalence of anemia among women of reproducti...</td>\n",
       "      <td>2015</td>\n",
       "      <td>2015</td>\n",
       "      <td>%</td>\n",
       "      <td>29.1</td>\n",
       "      <td>X</td>\n",
       "      <td>International reliable sources</td>\n",
       "      <td>NaN</td>\n",
       "    </tr>\n",
       "    <tr>\n",
       "      <th>105212</th>\n",
       "      <td>FS</td>\n",
       "      <td>Suite of Food Security Indicators</td>\n",
       "      <td>181</td>\n",
       "      <td>Zimbabwe</td>\n",
       "      <td>6121</td>\n",
       "      <td>Value</td>\n",
       "      <td>21043</td>\n",
       "      <td>Prevalence of anemia among women of reproducti...</td>\n",
       "      <td>2016</td>\n",
       "      <td>2016</td>\n",
       "      <td>%</td>\n",
       "      <td>28.9</td>\n",
       "      <td>X</td>\n",
       "      <td>International reliable sources</td>\n",
       "      <td>NaN</td>\n",
       "    </tr>\n",
       "    <tr>\n",
       "      <th>105213</th>\n",
       "      <td>FS</td>\n",
       "      <td>Suite of Food Security Indicators</td>\n",
       "      <td>181</td>\n",
       "      <td>Zimbabwe</td>\n",
       "      <td>6121</td>\n",
       "      <td>Value</td>\n",
       "      <td>21043</td>\n",
       "      <td>Prevalence of anemia among women of reproducti...</td>\n",
       "      <td>2017</td>\n",
       "      <td>2017</td>\n",
       "      <td>%</td>\n",
       "      <td>28.8</td>\n",
       "      <td>X</td>\n",
       "      <td>International reliable sources</td>\n",
       "      <td>NaN</td>\n",
       "    </tr>\n",
       "    <tr>\n",
       "      <th>105214</th>\n",
       "      <td>FS</td>\n",
       "      <td>Suite of Food Security Indicators</td>\n",
       "      <td>181</td>\n",
       "      <td>Zimbabwe</td>\n",
       "      <td>6121</td>\n",
       "      <td>Value</td>\n",
       "      <td>21043</td>\n",
       "      <td>Prevalence of anemia among women of reproducti...</td>\n",
       "      <td>2018</td>\n",
       "      <td>2018</td>\n",
       "      <td>%</td>\n",
       "      <td>28.8</td>\n",
       "      <td>X</td>\n",
       "      <td>International reliable sources</td>\n",
       "      <td>NaN</td>\n",
       "    </tr>\n",
       "    <tr>\n",
       "      <th>105215</th>\n",
       "      <td>FS</td>\n",
       "      <td>Suite of Food Security Indicators</td>\n",
       "      <td>181</td>\n",
       "      <td>Zimbabwe</td>\n",
       "      <td>6121</td>\n",
       "      <td>Value</td>\n",
       "      <td>21043</td>\n",
       "      <td>Prevalence of anemia among women of reproducti...</td>\n",
       "      <td>2019</td>\n",
       "      <td>2019</td>\n",
       "      <td>%</td>\n",
       "      <td>28.9</td>\n",
       "      <td>X</td>\n",
       "      <td>International reliable sources</td>\n",
       "      <td>NaN</td>\n",
       "    </tr>\n",
       "  </tbody>\n",
       "</table>\n",
       "<p>3860 rows × 15 columns</p>\n",
       "</div>"
      ],
      "text/plain": [
       "       Domain Code                             Domain  Area Code (FAO)  \\\n",
       "416             FS  Suite of Food Security Indicators                2   \n",
       "417             FS  Suite of Food Security Indicators                2   \n",
       "418             FS  Suite of Food Security Indicators                2   \n",
       "419             FS  Suite of Food Security Indicators                2   \n",
       "420             FS  Suite of Food Security Indicators                2   \n",
       "...            ...                                ...              ...   \n",
       "105211          FS  Suite of Food Security Indicators              181   \n",
       "105212          FS  Suite of Food Security Indicators              181   \n",
       "105213          FS  Suite of Food Security Indicators              181   \n",
       "105214          FS  Suite of Food Security Indicators              181   \n",
       "105215          FS  Suite of Food Security Indicators              181   \n",
       "\n",
       "               Area  Element Code Element  Item Code  \\\n",
       "416     Afghanistan          6121   Value      21043   \n",
       "417     Afghanistan          6121   Value      21043   \n",
       "418     Afghanistan          6121   Value      21043   \n",
       "419     Afghanistan          6121   Value      21043   \n",
       "420     Afghanistan          6121   Value      21043   \n",
       "...             ...           ...     ...        ...   \n",
       "105211     Zimbabwe          6121   Value      21043   \n",
       "105212     Zimbabwe          6121   Value      21043   \n",
       "105213     Zimbabwe          6121   Value      21043   \n",
       "105214     Zimbabwe          6121   Value      21043   \n",
       "105215     Zimbabwe          6121   Value      21043   \n",
       "\n",
       "                                                     Item  Year Code  Year  \\\n",
       "416     Prevalence of anemia among women of reproducti...       2000  2000   \n",
       "417     Prevalence of anemia among women of reproducti...       2001  2001   \n",
       "418     Prevalence of anemia among women of reproducti...       2002  2002   \n",
       "419     Prevalence of anemia among women of reproducti...       2003  2003   \n",
       "420     Prevalence of anemia among women of reproducti...       2004  2004   \n",
       "...                                                   ...        ...   ...   \n",
       "105211  Prevalence of anemia among women of reproducti...       2015  2015   \n",
       "105212  Prevalence of anemia among women of reproducti...       2016  2016   \n",
       "105213  Prevalence of anemia among women of reproducti...       2017  2017   \n",
       "105214  Prevalence of anemia among women of reproducti...       2018  2018   \n",
       "105215  Prevalence of anemia among women of reproducti...       2019  2019   \n",
       "\n",
       "       Unit  Value Flag                Flag Description Note  \n",
       "416       %   35.7    X  International reliable sources  NaN  \n",
       "417       %   35.6    X  International reliable sources  NaN  \n",
       "418       %   35.4    X  International reliable sources  NaN  \n",
       "419       %   35.4    X  International reliable sources  NaN  \n",
       "420       %   35.5    X  International reliable sources  NaN  \n",
       "...     ...    ...  ...                             ...  ...  \n",
       "105211    %   29.1    X  International reliable sources  NaN  \n",
       "105212    %   28.9    X  International reliable sources  NaN  \n",
       "105213    %   28.8    X  International reliable sources  NaN  \n",
       "105214    %   28.8    X  International reliable sources  NaN  \n",
       "105215    %   28.9    X  International reliable sources  NaN  \n",
       "\n",
       "[3860 rows x 15 columns]"
      ]
     },
     "execution_count": 60,
     "metadata": {},
     "output_type": "execute_result"
    }
   ],
   "source": [
    "food_security_poa = food_security[food_security['Item'] == 'Prevalence of anemia among women of reproductive age (15-49 years)']\n",
    "food_security_poa"
   ]
  },
  {
   "cell_type": "code",
   "execution_count": 61,
   "id": "friendly-kazakhstan",
   "metadata": {},
   "outputs": [],
   "source": [
    "import plotly.graph_objects as go\n",
    "import pandas as pd\n",
    "\n",
    "countrycodes = pd.read_csv('https://raw.githubusercontent.com/plotly/datasets/master/2014_world_gdp_with_codes.csv')\n",
    "\n",
    "food_security = pd.merge(food_security, countrycodes, how = 'left', left_on = 'Area', right_on = 'COUNTRY')\n",
    "df = food_security[food_security['Item'] == 'Prevalence of severe food insecurity in the total population (percent) (3-year average)']\n",
    "df = df[df['Year'] == '2018-2020']"
   ]
  },
  {
   "cell_type": "code",
   "execution_count": 62,
   "id": "substantial-mercury",
   "metadata": {},
   "outputs": [
    {
     "data": {
      "application/vnd.plotly.v1+json": {
       "config": {
        "plotlyServerURL": "https://plot.ly"
       },
       "data": [
        {
         "autocolorscale": false,
         "colorbar": {
          "ticksuffix": "%",
          "title": {
           "text": "Severe Food Insecurity<br>Percentage of Population"
          }
         },
         "colorscale": [
          [
           0,
           "rgb(247,251,255)"
          ],
          [
           0.125,
           "rgb(222,235,247)"
          ],
          [
           0.25,
           "rgb(198,219,239)"
          ],
          [
           0.375,
           "rgb(158,202,225)"
          ],
          [
           0.5,
           "rgb(107,174,214)"
          ],
          [
           0.625,
           "rgb(66,146,198)"
          ],
          [
           0.75,
           "rgb(33,113,181)"
          ],
          [
           0.875,
           "rgb(8,81,156)"
          ],
          [
           1,
           "rgb(8,48,107)"
          ]
         ],
         "locations": [
          "AFG",
          "ALB",
          "DZA",
          "AGO",
          "ARG",
          "ARM",
          "AUS",
          "AUT",
          "AZE",
          "BGD",
          "BEL",
          "BIH",
          "BWA",
          "BRA",
          "BGR",
          "BFA",
          "CPV",
          "KHM",
          "CMR",
          "CAN",
          "CAF",
          "CHL",
          null,
          "CRI",
          "HRV",
          null,
          null,
          "DNK",
          "ECU",
          "EGY",
          "SLV",
          "EST",
          null,
          "ETH",
          "FJI",
          "FIN",
          "FRA",
          null,
          "GEO",
          "DEU",
          "GHA",
          "GRC",
          "GTM",
          "GIN",
          "HND",
          "HUN",
          "ISL",
          "IDN",
          null,
          "IRL",
          "ISR",
          "ITA",
          "JPN",
          "KAZ",
          "KEN",
          "KIR",
          "KWT",
          "KGZ",
          null,
          "LVA",
          "LSO",
          "LBR",
          "LBY",
          "LTU",
          "LUX",
          "MWI",
          "MYS",
          "MLT",
          "MRT",
          "MUS",
          "MEX",
          "MNG",
          "MNE",
          "MOZ",
          null,
          "NAM",
          "NPL",
          "NLD",
          "NZL",
          "NGA",
          null,
          "NOR",
          null,
          "PER",
          "PHL",
          "POL",
          "PRT",
          null,
          null,
          "ROU",
          null,
          "WSM",
          "SEN",
          "SRB",
          "SYC",
          "SLE",
          "SGP",
          "SVK",
          "SVN",
          "SOM",
          "ZAF",
          "SSD",
          "ESP",
          "SDN",
          "SWE",
          "CHE",
          "THA",
          "TON",
          "TUN",
          "UGA",
          "UKR",
          null,
          null,
          null,
          "URY",
          "UZB",
          "VUT",
          null,
          "ZMB",
          "ZWE"
         ],
         "marker": {
          "line": {
           "color": "darkgray",
           "width": 0.5
          }
         },
         "reversescale": false,
         "text": [
          "Afghanistan",
          "Albania",
          "Algeria",
          "Angola",
          "Argentina",
          "Armenia",
          "Australia",
          "Austria",
          "Azerbaijan",
          "Bangladesh",
          "Belgium",
          "Bosnia and Herzegovina",
          "Botswana",
          "Brazil",
          "Bulgaria",
          "Burkina Faso",
          "Cabo Verde",
          "Cambodia",
          "Cameroon",
          "Canada",
          "Central African Republic",
          "Chile",
          null,
          "Costa Rica",
          "Croatia",
          null,
          null,
          "Denmark",
          "Ecuador",
          "Egypt",
          "El Salvador",
          "Estonia",
          null,
          "Ethiopia",
          "Fiji",
          "Finland",
          "France",
          null,
          "Georgia",
          "Germany",
          "Ghana",
          "Greece",
          "Guatemala",
          "Guinea",
          "Honduras",
          "Hungary",
          "Iceland",
          "Indonesia",
          null,
          "Ireland",
          "Israel",
          "Italy",
          "Japan",
          "Kazakhstan",
          "Kenya",
          "Kiribati",
          "Kuwait",
          "Kyrgyzstan",
          null,
          "Latvia",
          "Lesotho",
          "Liberia",
          "Libya",
          "Lithuania",
          "Luxembourg",
          "Malawi",
          "Malaysia",
          "Malta",
          "Mauritania",
          "Mauritius",
          "Mexico",
          "Mongolia",
          "Montenegro",
          "Mozambique",
          null,
          "Namibia",
          "Nepal",
          "Netherlands",
          "New Zealand",
          "Nigeria",
          null,
          "Norway",
          null,
          "Peru",
          "Philippines",
          "Poland",
          "Portugal",
          null,
          null,
          "Romania",
          null,
          "Samoa",
          "Senegal",
          "Serbia",
          "Seychelles",
          "Sierra Leone",
          "Singapore",
          "Slovakia",
          "Slovenia",
          "Somalia",
          "South Africa",
          "South Sudan",
          "Spain",
          "Sudan",
          "Sweden",
          "Switzerland",
          "Thailand",
          "Tonga",
          "Tunisia",
          "Uganda",
          "Ukraine",
          null,
          null,
          null,
          "Uruguay",
          "Uzbekistan",
          "Vanuatu",
          null,
          "Zambia",
          "Zimbabwe"
         ],
         "type": "choropleth",
         "z": [
          19.8,
          8.8,
          6.9,
          26.9,
          12.6,
          1.1,
          3.3,
          0.9,
          0.25,
          10.5,
          1.1,
          2,
          22.2,
          3.5,
          2.4,
          15.4,
          7.6,
          13.4,
          26.7,
          0.9,
          61.8,
          4.3,
          51.7,
          2.6,
          1.3,
          0.8,
          38.5,
          1.1,
          11.6,
          6.7,
          13.8,
          0.8,
          30.8,
          16.4,
          2,
          1.9,
          0.7,
          25.7,
          9.5,
          0.7,
          8.6,
          1.7,
          19.2,
          49.7,
          14.6,
          1.4,
          1.5,
          0.7,
          8.7,
          4.3,
          1.9,
          1.2,
          0.7,
          0.25,
          25.7,
          7.9,
          4.9,
          1.1,
          8.9,
          0.7,
          27,
          37.3,
          18.6,
          1.7,
          0.8,
          51.4,
          7.5,
          0.9,
          6.5,
          8.3,
          5.8,
          4.9,
          2.8,
          40.5,
          1.9,
          32.1,
          12,
          1.4,
          3.9,
          21.4,
          5,
          1,
          4.4,
          19.2,
          4,
          0.25,
          3.2,
          0.6,
          4.5,
          3.4,
          0.25,
          3.4,
          13.6,
          2.6,
          3.3,
          31.8,
          0.9,
          1.1,
          0.25,
          43,
          19.3,
          62,
          1.8,
          16.8,
          1.2,
          0.25,
          8.5,
          6,
          10.7,
          21.7,
          2.5,
          0.7,
          24.7,
          0.8,
          6.7,
          4,
          2.4,
          0.5,
          23.2,
          32.1
         ]
        }
       ],
       "layout": {
        "geo": {
         "projection": {
          "type": "equirectangular"
         },
         "showcoastlines": false,
         "showframe": false
        },
        "template": {
         "data": {
          "bar": [
           {
            "error_x": {
             "color": "#2a3f5f"
            },
            "error_y": {
             "color": "#2a3f5f"
            },
            "marker": {
             "line": {
              "color": "#E5ECF6",
              "width": 0.5
             }
            },
            "type": "bar"
           }
          ],
          "barpolar": [
           {
            "marker": {
             "line": {
              "color": "#E5ECF6",
              "width": 0.5
             }
            },
            "type": "barpolar"
           }
          ],
          "carpet": [
           {
            "aaxis": {
             "endlinecolor": "#2a3f5f",
             "gridcolor": "white",
             "linecolor": "white",
             "minorgridcolor": "white",
             "startlinecolor": "#2a3f5f"
            },
            "baxis": {
             "endlinecolor": "#2a3f5f",
             "gridcolor": "white",
             "linecolor": "white",
             "minorgridcolor": "white",
             "startlinecolor": "#2a3f5f"
            },
            "type": "carpet"
           }
          ],
          "choropleth": [
           {
            "colorbar": {
             "outlinewidth": 0,
             "ticks": ""
            },
            "type": "choropleth"
           }
          ],
          "contour": [
           {
            "colorbar": {
             "outlinewidth": 0,
             "ticks": ""
            },
            "colorscale": [
             [
              0,
              "#0d0887"
             ],
             [
              0.1111111111111111,
              "#46039f"
             ],
             [
              0.2222222222222222,
              "#7201a8"
             ],
             [
              0.3333333333333333,
              "#9c179e"
             ],
             [
              0.4444444444444444,
              "#bd3786"
             ],
             [
              0.5555555555555556,
              "#d8576b"
             ],
             [
              0.6666666666666666,
              "#ed7953"
             ],
             [
              0.7777777777777778,
              "#fb9f3a"
             ],
             [
              0.8888888888888888,
              "#fdca26"
             ],
             [
              1,
              "#f0f921"
             ]
            ],
            "type": "contour"
           }
          ],
          "contourcarpet": [
           {
            "colorbar": {
             "outlinewidth": 0,
             "ticks": ""
            },
            "type": "contourcarpet"
           }
          ],
          "heatmap": [
           {
            "colorbar": {
             "outlinewidth": 0,
             "ticks": ""
            },
            "colorscale": [
             [
              0,
              "#0d0887"
             ],
             [
              0.1111111111111111,
              "#46039f"
             ],
             [
              0.2222222222222222,
              "#7201a8"
             ],
             [
              0.3333333333333333,
              "#9c179e"
             ],
             [
              0.4444444444444444,
              "#bd3786"
             ],
             [
              0.5555555555555556,
              "#d8576b"
             ],
             [
              0.6666666666666666,
              "#ed7953"
             ],
             [
              0.7777777777777778,
              "#fb9f3a"
             ],
             [
              0.8888888888888888,
              "#fdca26"
             ],
             [
              1,
              "#f0f921"
             ]
            ],
            "type": "heatmap"
           }
          ],
          "heatmapgl": [
           {
            "colorbar": {
             "outlinewidth": 0,
             "ticks": ""
            },
            "colorscale": [
             [
              0,
              "#0d0887"
             ],
             [
              0.1111111111111111,
              "#46039f"
             ],
             [
              0.2222222222222222,
              "#7201a8"
             ],
             [
              0.3333333333333333,
              "#9c179e"
             ],
             [
              0.4444444444444444,
              "#bd3786"
             ],
             [
              0.5555555555555556,
              "#d8576b"
             ],
             [
              0.6666666666666666,
              "#ed7953"
             ],
             [
              0.7777777777777778,
              "#fb9f3a"
             ],
             [
              0.8888888888888888,
              "#fdca26"
             ],
             [
              1,
              "#f0f921"
             ]
            ],
            "type": "heatmapgl"
           }
          ],
          "histogram": [
           {
            "marker": {
             "colorbar": {
              "outlinewidth": 0,
              "ticks": ""
             }
            },
            "type": "histogram"
           }
          ],
          "histogram2d": [
           {
            "colorbar": {
             "outlinewidth": 0,
             "ticks": ""
            },
            "colorscale": [
             [
              0,
              "#0d0887"
             ],
             [
              0.1111111111111111,
              "#46039f"
             ],
             [
              0.2222222222222222,
              "#7201a8"
             ],
             [
              0.3333333333333333,
              "#9c179e"
             ],
             [
              0.4444444444444444,
              "#bd3786"
             ],
             [
              0.5555555555555556,
              "#d8576b"
             ],
             [
              0.6666666666666666,
              "#ed7953"
             ],
             [
              0.7777777777777778,
              "#fb9f3a"
             ],
             [
              0.8888888888888888,
              "#fdca26"
             ],
             [
              1,
              "#f0f921"
             ]
            ],
            "type": "histogram2d"
           }
          ],
          "histogram2dcontour": [
           {
            "colorbar": {
             "outlinewidth": 0,
             "ticks": ""
            },
            "colorscale": [
             [
              0,
              "#0d0887"
             ],
             [
              0.1111111111111111,
              "#46039f"
             ],
             [
              0.2222222222222222,
              "#7201a8"
             ],
             [
              0.3333333333333333,
              "#9c179e"
             ],
             [
              0.4444444444444444,
              "#bd3786"
             ],
             [
              0.5555555555555556,
              "#d8576b"
             ],
             [
              0.6666666666666666,
              "#ed7953"
             ],
             [
              0.7777777777777778,
              "#fb9f3a"
             ],
             [
              0.8888888888888888,
              "#fdca26"
             ],
             [
              1,
              "#f0f921"
             ]
            ],
            "type": "histogram2dcontour"
           }
          ],
          "mesh3d": [
           {
            "colorbar": {
             "outlinewidth": 0,
             "ticks": ""
            },
            "type": "mesh3d"
           }
          ],
          "parcoords": [
           {
            "line": {
             "colorbar": {
              "outlinewidth": 0,
              "ticks": ""
             }
            },
            "type": "parcoords"
           }
          ],
          "pie": [
           {
            "automargin": true,
            "type": "pie"
           }
          ],
          "scatter": [
           {
            "marker": {
             "colorbar": {
              "outlinewidth": 0,
              "ticks": ""
             }
            },
            "type": "scatter"
           }
          ],
          "scatter3d": [
           {
            "line": {
             "colorbar": {
              "outlinewidth": 0,
              "ticks": ""
             }
            },
            "marker": {
             "colorbar": {
              "outlinewidth": 0,
              "ticks": ""
             }
            },
            "type": "scatter3d"
           }
          ],
          "scattercarpet": [
           {
            "marker": {
             "colorbar": {
              "outlinewidth": 0,
              "ticks": ""
             }
            },
            "type": "scattercarpet"
           }
          ],
          "scattergeo": [
           {
            "marker": {
             "colorbar": {
              "outlinewidth": 0,
              "ticks": ""
             }
            },
            "type": "scattergeo"
           }
          ],
          "scattergl": [
           {
            "marker": {
             "colorbar": {
              "outlinewidth": 0,
              "ticks": ""
             }
            },
            "type": "scattergl"
           }
          ],
          "scattermapbox": [
           {
            "marker": {
             "colorbar": {
              "outlinewidth": 0,
              "ticks": ""
             }
            },
            "type": "scattermapbox"
           }
          ],
          "scatterpolar": [
           {
            "marker": {
             "colorbar": {
              "outlinewidth": 0,
              "ticks": ""
             }
            },
            "type": "scatterpolar"
           }
          ],
          "scatterpolargl": [
           {
            "marker": {
             "colorbar": {
              "outlinewidth": 0,
              "ticks": ""
             }
            },
            "type": "scatterpolargl"
           }
          ],
          "scatterternary": [
           {
            "marker": {
             "colorbar": {
              "outlinewidth": 0,
              "ticks": ""
             }
            },
            "type": "scatterternary"
           }
          ],
          "surface": [
           {
            "colorbar": {
             "outlinewidth": 0,
             "ticks": ""
            },
            "colorscale": [
             [
              0,
              "#0d0887"
             ],
             [
              0.1111111111111111,
              "#46039f"
             ],
             [
              0.2222222222222222,
              "#7201a8"
             ],
             [
              0.3333333333333333,
              "#9c179e"
             ],
             [
              0.4444444444444444,
              "#bd3786"
             ],
             [
              0.5555555555555556,
              "#d8576b"
             ],
             [
              0.6666666666666666,
              "#ed7953"
             ],
             [
              0.7777777777777778,
              "#fb9f3a"
             ],
             [
              0.8888888888888888,
              "#fdca26"
             ],
             [
              1,
              "#f0f921"
             ]
            ],
            "type": "surface"
           }
          ],
          "table": [
           {
            "cells": {
             "fill": {
              "color": "#EBF0F8"
             },
             "line": {
              "color": "white"
             }
            },
            "header": {
             "fill": {
              "color": "#C8D4E3"
             },
             "line": {
              "color": "white"
             }
            },
            "type": "table"
           }
          ]
         },
         "layout": {
          "annotationdefaults": {
           "arrowcolor": "#2a3f5f",
           "arrowhead": 0,
           "arrowwidth": 1
          },
          "coloraxis": {
           "colorbar": {
            "outlinewidth": 0,
            "ticks": ""
           }
          },
          "colorscale": {
           "diverging": [
            [
             0,
             "#8e0152"
            ],
            [
             0.1,
             "#c51b7d"
            ],
            [
             0.2,
             "#de77ae"
            ],
            [
             0.3,
             "#f1b6da"
            ],
            [
             0.4,
             "#fde0ef"
            ],
            [
             0.5,
             "#f7f7f7"
            ],
            [
             0.6,
             "#e6f5d0"
            ],
            [
             0.7,
             "#b8e186"
            ],
            [
             0.8,
             "#7fbc41"
            ],
            [
             0.9,
             "#4d9221"
            ],
            [
             1,
             "#276419"
            ]
           ],
           "sequential": [
            [
             0,
             "#0d0887"
            ],
            [
             0.1111111111111111,
             "#46039f"
            ],
            [
             0.2222222222222222,
             "#7201a8"
            ],
            [
             0.3333333333333333,
             "#9c179e"
            ],
            [
             0.4444444444444444,
             "#bd3786"
            ],
            [
             0.5555555555555556,
             "#d8576b"
            ],
            [
             0.6666666666666666,
             "#ed7953"
            ],
            [
             0.7777777777777778,
             "#fb9f3a"
            ],
            [
             0.8888888888888888,
             "#fdca26"
            ],
            [
             1,
             "#f0f921"
            ]
           ],
           "sequentialminus": [
            [
             0,
             "#0d0887"
            ],
            [
             0.1111111111111111,
             "#46039f"
            ],
            [
             0.2222222222222222,
             "#7201a8"
            ],
            [
             0.3333333333333333,
             "#9c179e"
            ],
            [
             0.4444444444444444,
             "#bd3786"
            ],
            [
             0.5555555555555556,
             "#d8576b"
            ],
            [
             0.6666666666666666,
             "#ed7953"
            ],
            [
             0.7777777777777778,
             "#fb9f3a"
            ],
            [
             0.8888888888888888,
             "#fdca26"
            ],
            [
             1,
             "#f0f921"
            ]
           ]
          },
          "colorway": [
           "#636efa",
           "#EF553B",
           "#00cc96",
           "#ab63fa",
           "#FFA15A",
           "#19d3f3",
           "#FF6692",
           "#B6E880",
           "#FF97FF",
           "#FECB52"
          ],
          "font": {
           "color": "#2a3f5f"
          },
          "geo": {
           "bgcolor": "white",
           "lakecolor": "white",
           "landcolor": "#E5ECF6",
           "showlakes": true,
           "showland": true,
           "subunitcolor": "white"
          },
          "hoverlabel": {
           "align": "left"
          },
          "hovermode": "closest",
          "mapbox": {
           "style": "light"
          },
          "paper_bgcolor": "white",
          "plot_bgcolor": "#E5ECF6",
          "polar": {
           "angularaxis": {
            "gridcolor": "white",
            "linecolor": "white",
            "ticks": ""
           },
           "bgcolor": "#E5ECF6",
           "radialaxis": {
            "gridcolor": "white",
            "linecolor": "white",
            "ticks": ""
           }
          },
          "scene": {
           "xaxis": {
            "backgroundcolor": "#E5ECF6",
            "gridcolor": "white",
            "gridwidth": 2,
            "linecolor": "white",
            "showbackground": true,
            "ticks": "",
            "zerolinecolor": "white"
           },
           "yaxis": {
            "backgroundcolor": "#E5ECF6",
            "gridcolor": "white",
            "gridwidth": 2,
            "linecolor": "white",
            "showbackground": true,
            "ticks": "",
            "zerolinecolor": "white"
           },
           "zaxis": {
            "backgroundcolor": "#E5ECF6",
            "gridcolor": "white",
            "gridwidth": 2,
            "linecolor": "white",
            "showbackground": true,
            "ticks": "",
            "zerolinecolor": "white"
           }
          },
          "shapedefaults": {
           "line": {
            "color": "#2a3f5f"
           }
          },
          "ternary": {
           "aaxis": {
            "gridcolor": "white",
            "linecolor": "white",
            "ticks": ""
           },
           "baxis": {
            "gridcolor": "white",
            "linecolor": "white",
            "ticks": ""
           },
           "bgcolor": "#E5ECF6",
           "caxis": {
            "gridcolor": "white",
            "linecolor": "white",
            "ticks": ""
           }
          },
          "title": {
           "x": 0.05
          },
          "xaxis": {
           "automargin": true,
           "gridcolor": "white",
           "linecolor": "white",
           "ticks": "",
           "title": {
            "standoff": 15
           },
           "zerolinecolor": "white",
           "zerolinewidth": 2
          },
          "yaxis": {
           "automargin": true,
           "gridcolor": "white",
           "linecolor": "white",
           "ticks": "",
           "title": {
            "standoff": 15
           },
           "zerolinecolor": "white",
           "zerolinewidth": 2
          }
         }
        },
        "title": {
         "text": "Prevalence of Severe Food Insecurity in the Total Population in 2018-2020"
        }
       }
      },
      "text/html": [
       "<div>\n",
       "        \n",
       "        \n",
       "            <div id=\"a4ed01de-db80-4b25-8f83-1c37d734b21f\" class=\"plotly-graph-div\" style=\"height:525px; width:100%;\"></div>\n",
       "            <script type=\"text/javascript\">\n",
       "                require([\"plotly\"], function(Plotly) {\n",
       "                    window.PLOTLYENV=window.PLOTLYENV || {};\n",
       "                    \n",
       "                if (document.getElementById(\"a4ed01de-db80-4b25-8f83-1c37d734b21f\")) {\n",
       "                    Plotly.newPlot(\n",
       "                        'a4ed01de-db80-4b25-8f83-1c37d734b21f',\n",
       "                        [{\"autocolorscale\": false, \"colorbar\": {\"ticksuffix\": \"%\", \"title\": {\"text\": \"Severe Food Insecurity<br>Percentage of Population\"}}, \"colorscale\": [[0.0, \"rgb(247,251,255)\"], [0.125, \"rgb(222,235,247)\"], [0.25, \"rgb(198,219,239)\"], [0.375, \"rgb(158,202,225)\"], [0.5, \"rgb(107,174,214)\"], [0.625, \"rgb(66,146,198)\"], [0.75, \"rgb(33,113,181)\"], [0.875, \"rgb(8,81,156)\"], [1.0, \"rgb(8,48,107)\"]], \"locations\": [\"AFG\", \"ALB\", \"DZA\", \"AGO\", \"ARG\", \"ARM\", \"AUS\", \"AUT\", \"AZE\", \"BGD\", \"BEL\", \"BIH\", \"BWA\", \"BRA\", \"BGR\", \"BFA\", \"CPV\", \"KHM\", \"CMR\", \"CAN\", \"CAF\", \"CHL\", null, \"CRI\", \"HRV\", null, null, \"DNK\", \"ECU\", \"EGY\", \"SLV\", \"EST\", null, \"ETH\", \"FJI\", \"FIN\", \"FRA\", null, \"GEO\", \"DEU\", \"GHA\", \"GRC\", \"GTM\", \"GIN\", \"HND\", \"HUN\", \"ISL\", \"IDN\", null, \"IRL\", \"ISR\", \"ITA\", \"JPN\", \"KAZ\", \"KEN\", \"KIR\", \"KWT\", \"KGZ\", null, \"LVA\", \"LSO\", \"LBR\", \"LBY\", \"LTU\", \"LUX\", \"MWI\", \"MYS\", \"MLT\", \"MRT\", \"MUS\", \"MEX\", \"MNG\", \"MNE\", \"MOZ\", null, \"NAM\", \"NPL\", \"NLD\", \"NZL\", \"NGA\", null, \"NOR\", null, \"PER\", \"PHL\", \"POL\", \"PRT\", null, null, \"ROU\", null, \"WSM\", \"SEN\", \"SRB\", \"SYC\", \"SLE\", \"SGP\", \"SVK\", \"SVN\", \"SOM\", \"ZAF\", \"SSD\", \"ESP\", \"SDN\", \"SWE\", \"CHE\", \"THA\", \"TON\", \"TUN\", \"UGA\", \"UKR\", null, null, null, \"URY\", \"UZB\", \"VUT\", null, \"ZMB\", \"ZWE\"], \"marker\": {\"line\": {\"color\": \"darkgray\", \"width\": 0.5}}, \"reversescale\": false, \"text\": [\"Afghanistan\", \"Albania\", \"Algeria\", \"Angola\", \"Argentina\", \"Armenia\", \"Australia\", \"Austria\", \"Azerbaijan\", \"Bangladesh\", \"Belgium\", \"Bosnia and Herzegovina\", \"Botswana\", \"Brazil\", \"Bulgaria\", \"Burkina Faso\", \"Cabo Verde\", \"Cambodia\", \"Cameroon\", \"Canada\", \"Central African Republic\", \"Chile\", null, \"Costa Rica\", \"Croatia\", null, null, \"Denmark\", \"Ecuador\", \"Egypt\", \"El Salvador\", \"Estonia\", null, \"Ethiopia\", \"Fiji\", \"Finland\", \"France\", null, \"Georgia\", \"Germany\", \"Ghana\", \"Greece\", \"Guatemala\", \"Guinea\", \"Honduras\", \"Hungary\", \"Iceland\", \"Indonesia\", null, \"Ireland\", \"Israel\", \"Italy\", \"Japan\", \"Kazakhstan\", \"Kenya\", \"Kiribati\", \"Kuwait\", \"Kyrgyzstan\", null, \"Latvia\", \"Lesotho\", \"Liberia\", \"Libya\", \"Lithuania\", \"Luxembourg\", \"Malawi\", \"Malaysia\", \"Malta\", \"Mauritania\", \"Mauritius\", \"Mexico\", \"Mongolia\", \"Montenegro\", \"Mozambique\", null, \"Namibia\", \"Nepal\", \"Netherlands\", \"New Zealand\", \"Nigeria\", null, \"Norway\", null, \"Peru\", \"Philippines\", \"Poland\", \"Portugal\", null, null, \"Romania\", null, \"Samoa\", \"Senegal\", \"Serbia\", \"Seychelles\", \"Sierra Leone\", \"Singapore\", \"Slovakia\", \"Slovenia\", \"Somalia\", \"South Africa\", \"South Sudan\", \"Spain\", \"Sudan\", \"Sweden\", \"Switzerland\", \"Thailand\", \"Tonga\", \"Tunisia\", \"Uganda\", \"Ukraine\", null, null, null, \"Uruguay\", \"Uzbekistan\", \"Vanuatu\", null, \"Zambia\", \"Zimbabwe\"], \"type\": \"choropleth\", \"z\": [19.8, 8.8, 6.9, 26.9, 12.6, 1.1, 3.3, 0.9, 0.25, 10.5, 1.1, 2.0, 22.2, 3.5, 2.4, 15.4, 7.6, 13.4, 26.7, 0.9, 61.8, 4.3, 51.7, 2.6, 1.3, 0.8, 38.5, 1.1, 11.6, 6.7, 13.8, 0.8, 30.8, 16.4, 2.0, 1.9, 0.7, 25.7, 9.5, 0.7, 8.6, 1.7, 19.2, 49.7, 14.6, 1.4, 1.5, 0.7, 8.7, 4.3, 1.9, 1.2, 0.7, 0.25, 25.7, 7.9, 4.9, 1.1, 8.9, 0.7, 27.0, 37.3, 18.6, 1.7, 0.8, 51.4, 7.5, 0.9, 6.5, 8.3, 5.8, 4.9, 2.8, 40.5, 1.9, 32.1, 12.0, 1.4, 3.9, 21.4, 5.0, 1.0, 4.4, 19.2, 4.0, 0.25, 3.2, 0.6, 4.5, 3.4, 0.25, 3.4, 13.6, 2.6, 3.3, 31.8, 0.9, 1.1, 0.25, 43.0, 19.3, 62.0, 1.8, 16.8, 1.2, 0.25, 8.5, 6.0, 10.7, 21.7, 2.5, 0.7, 24.7, 0.8, 6.7, 4.0, 2.4, 0.5, 23.2, 32.1]}],\n",
       "                        {\"geo\": {\"projection\": {\"type\": \"equirectangular\"}, \"showcoastlines\": false, \"showframe\": false}, \"template\": {\"data\": {\"bar\": [{\"error_x\": {\"color\": \"#2a3f5f\"}, \"error_y\": {\"color\": \"#2a3f5f\"}, \"marker\": {\"line\": {\"color\": \"#E5ECF6\", \"width\": 0.5}}, \"type\": \"bar\"}], \"barpolar\": [{\"marker\": {\"line\": {\"color\": \"#E5ECF6\", \"width\": 0.5}}, \"type\": \"barpolar\"}], \"carpet\": [{\"aaxis\": {\"endlinecolor\": \"#2a3f5f\", \"gridcolor\": \"white\", \"linecolor\": \"white\", \"minorgridcolor\": \"white\", \"startlinecolor\": \"#2a3f5f\"}, \"baxis\": {\"endlinecolor\": \"#2a3f5f\", \"gridcolor\": \"white\", \"linecolor\": \"white\", \"minorgridcolor\": \"white\", \"startlinecolor\": \"#2a3f5f\"}, \"type\": \"carpet\"}], \"choropleth\": [{\"colorbar\": {\"outlinewidth\": 0, \"ticks\": \"\"}, \"type\": \"choropleth\"}], \"contour\": [{\"colorbar\": {\"outlinewidth\": 0, \"ticks\": \"\"}, \"colorscale\": [[0.0, \"#0d0887\"], [0.1111111111111111, \"#46039f\"], [0.2222222222222222, \"#7201a8\"], [0.3333333333333333, \"#9c179e\"], [0.4444444444444444, \"#bd3786\"], [0.5555555555555556, \"#d8576b\"], [0.6666666666666666, \"#ed7953\"], [0.7777777777777778, \"#fb9f3a\"], [0.8888888888888888, \"#fdca26\"], [1.0, \"#f0f921\"]], \"type\": \"contour\"}], \"contourcarpet\": [{\"colorbar\": {\"outlinewidth\": 0, \"ticks\": \"\"}, \"type\": \"contourcarpet\"}], \"heatmap\": [{\"colorbar\": {\"outlinewidth\": 0, \"ticks\": \"\"}, \"colorscale\": [[0.0, \"#0d0887\"], [0.1111111111111111, \"#46039f\"], [0.2222222222222222, \"#7201a8\"], [0.3333333333333333, \"#9c179e\"], [0.4444444444444444, \"#bd3786\"], [0.5555555555555556, \"#d8576b\"], [0.6666666666666666, \"#ed7953\"], [0.7777777777777778, \"#fb9f3a\"], [0.8888888888888888, \"#fdca26\"], [1.0, \"#f0f921\"]], \"type\": \"heatmap\"}], \"heatmapgl\": [{\"colorbar\": {\"outlinewidth\": 0, \"ticks\": \"\"}, \"colorscale\": [[0.0, \"#0d0887\"], [0.1111111111111111, \"#46039f\"], [0.2222222222222222, \"#7201a8\"], [0.3333333333333333, \"#9c179e\"], [0.4444444444444444, \"#bd3786\"], [0.5555555555555556, \"#d8576b\"], [0.6666666666666666, \"#ed7953\"], [0.7777777777777778, \"#fb9f3a\"], [0.8888888888888888, \"#fdca26\"], [1.0, \"#f0f921\"]], \"type\": \"heatmapgl\"}], \"histogram\": [{\"marker\": {\"colorbar\": {\"outlinewidth\": 0, \"ticks\": \"\"}}, \"type\": \"histogram\"}], \"histogram2d\": [{\"colorbar\": {\"outlinewidth\": 0, \"ticks\": \"\"}, \"colorscale\": [[0.0, \"#0d0887\"], [0.1111111111111111, \"#46039f\"], [0.2222222222222222, \"#7201a8\"], [0.3333333333333333, \"#9c179e\"], [0.4444444444444444, \"#bd3786\"], [0.5555555555555556, \"#d8576b\"], [0.6666666666666666, \"#ed7953\"], [0.7777777777777778, \"#fb9f3a\"], [0.8888888888888888, \"#fdca26\"], [1.0, \"#f0f921\"]], \"type\": \"histogram2d\"}], \"histogram2dcontour\": [{\"colorbar\": {\"outlinewidth\": 0, \"ticks\": \"\"}, \"colorscale\": [[0.0, \"#0d0887\"], [0.1111111111111111, \"#46039f\"], [0.2222222222222222, \"#7201a8\"], [0.3333333333333333, \"#9c179e\"], [0.4444444444444444, \"#bd3786\"], [0.5555555555555556, \"#d8576b\"], [0.6666666666666666, \"#ed7953\"], [0.7777777777777778, \"#fb9f3a\"], [0.8888888888888888, \"#fdca26\"], [1.0, \"#f0f921\"]], \"type\": \"histogram2dcontour\"}], \"mesh3d\": [{\"colorbar\": {\"outlinewidth\": 0, \"ticks\": \"\"}, \"type\": \"mesh3d\"}], \"parcoords\": [{\"line\": {\"colorbar\": {\"outlinewidth\": 0, \"ticks\": \"\"}}, \"type\": \"parcoords\"}], \"pie\": [{\"automargin\": true, \"type\": \"pie\"}], \"scatter\": [{\"marker\": {\"colorbar\": {\"outlinewidth\": 0, \"ticks\": \"\"}}, \"type\": \"scatter\"}], \"scatter3d\": [{\"line\": {\"colorbar\": {\"outlinewidth\": 0, \"ticks\": \"\"}}, \"marker\": {\"colorbar\": {\"outlinewidth\": 0, \"ticks\": \"\"}}, \"type\": \"scatter3d\"}], \"scattercarpet\": [{\"marker\": {\"colorbar\": {\"outlinewidth\": 0, \"ticks\": \"\"}}, \"type\": \"scattercarpet\"}], \"scattergeo\": [{\"marker\": {\"colorbar\": {\"outlinewidth\": 0, \"ticks\": \"\"}}, \"type\": \"scattergeo\"}], \"scattergl\": [{\"marker\": {\"colorbar\": {\"outlinewidth\": 0, \"ticks\": \"\"}}, \"type\": \"scattergl\"}], \"scattermapbox\": [{\"marker\": {\"colorbar\": {\"outlinewidth\": 0, \"ticks\": \"\"}}, \"type\": \"scattermapbox\"}], \"scatterpolar\": [{\"marker\": {\"colorbar\": {\"outlinewidth\": 0, \"ticks\": \"\"}}, \"type\": \"scatterpolar\"}], \"scatterpolargl\": [{\"marker\": {\"colorbar\": {\"outlinewidth\": 0, \"ticks\": \"\"}}, \"type\": \"scatterpolargl\"}], \"scatterternary\": [{\"marker\": {\"colorbar\": {\"outlinewidth\": 0, \"ticks\": \"\"}}, \"type\": \"scatterternary\"}], \"surface\": [{\"colorbar\": {\"outlinewidth\": 0, \"ticks\": \"\"}, \"colorscale\": [[0.0, \"#0d0887\"], [0.1111111111111111, \"#46039f\"], [0.2222222222222222, \"#7201a8\"], [0.3333333333333333, \"#9c179e\"], [0.4444444444444444, \"#bd3786\"], [0.5555555555555556, \"#d8576b\"], [0.6666666666666666, \"#ed7953\"], [0.7777777777777778, \"#fb9f3a\"], [0.8888888888888888, \"#fdca26\"], [1.0, \"#f0f921\"]], \"type\": \"surface\"}], \"table\": [{\"cells\": {\"fill\": {\"color\": \"#EBF0F8\"}, \"line\": {\"color\": \"white\"}}, \"header\": {\"fill\": {\"color\": \"#C8D4E3\"}, \"line\": {\"color\": \"white\"}}, \"type\": \"table\"}]}, \"layout\": {\"annotationdefaults\": {\"arrowcolor\": \"#2a3f5f\", \"arrowhead\": 0, \"arrowwidth\": 1}, \"coloraxis\": {\"colorbar\": {\"outlinewidth\": 0, \"ticks\": \"\"}}, \"colorscale\": {\"diverging\": [[0, \"#8e0152\"], [0.1, \"#c51b7d\"], [0.2, \"#de77ae\"], [0.3, \"#f1b6da\"], [0.4, \"#fde0ef\"], [0.5, \"#f7f7f7\"], [0.6, \"#e6f5d0\"], [0.7, \"#b8e186\"], [0.8, \"#7fbc41\"], [0.9, \"#4d9221\"], [1, \"#276419\"]], \"sequential\": [[0.0, \"#0d0887\"], [0.1111111111111111, \"#46039f\"], [0.2222222222222222, \"#7201a8\"], [0.3333333333333333, \"#9c179e\"], [0.4444444444444444, \"#bd3786\"], [0.5555555555555556, \"#d8576b\"], [0.6666666666666666, \"#ed7953\"], [0.7777777777777778, \"#fb9f3a\"], [0.8888888888888888, \"#fdca26\"], [1.0, \"#f0f921\"]], \"sequentialminus\": [[0.0, \"#0d0887\"], [0.1111111111111111, \"#46039f\"], [0.2222222222222222, \"#7201a8\"], [0.3333333333333333, \"#9c179e\"], [0.4444444444444444, \"#bd3786\"], [0.5555555555555556, \"#d8576b\"], [0.6666666666666666, \"#ed7953\"], [0.7777777777777778, \"#fb9f3a\"], [0.8888888888888888, \"#fdca26\"], [1.0, \"#f0f921\"]]}, \"colorway\": [\"#636efa\", \"#EF553B\", \"#00cc96\", \"#ab63fa\", \"#FFA15A\", \"#19d3f3\", \"#FF6692\", \"#B6E880\", \"#FF97FF\", \"#FECB52\"], \"font\": {\"color\": \"#2a3f5f\"}, \"geo\": {\"bgcolor\": \"white\", \"lakecolor\": \"white\", \"landcolor\": \"#E5ECF6\", \"showlakes\": true, \"showland\": true, \"subunitcolor\": \"white\"}, \"hoverlabel\": {\"align\": \"left\"}, \"hovermode\": \"closest\", \"mapbox\": {\"style\": \"light\"}, \"paper_bgcolor\": \"white\", \"plot_bgcolor\": \"#E5ECF6\", \"polar\": {\"angularaxis\": {\"gridcolor\": \"white\", \"linecolor\": \"white\", \"ticks\": \"\"}, \"bgcolor\": \"#E5ECF6\", \"radialaxis\": {\"gridcolor\": \"white\", \"linecolor\": \"white\", \"ticks\": \"\"}}, \"scene\": {\"xaxis\": {\"backgroundcolor\": \"#E5ECF6\", \"gridcolor\": \"white\", \"gridwidth\": 2, \"linecolor\": \"white\", \"showbackground\": true, \"ticks\": \"\", \"zerolinecolor\": \"white\"}, \"yaxis\": {\"backgroundcolor\": \"#E5ECF6\", \"gridcolor\": \"white\", \"gridwidth\": 2, \"linecolor\": \"white\", \"showbackground\": true, \"ticks\": \"\", \"zerolinecolor\": \"white\"}, \"zaxis\": {\"backgroundcolor\": \"#E5ECF6\", \"gridcolor\": \"white\", \"gridwidth\": 2, \"linecolor\": \"white\", \"showbackground\": true, \"ticks\": \"\", \"zerolinecolor\": \"white\"}}, \"shapedefaults\": {\"line\": {\"color\": \"#2a3f5f\"}}, \"ternary\": {\"aaxis\": {\"gridcolor\": \"white\", \"linecolor\": \"white\", \"ticks\": \"\"}, \"baxis\": {\"gridcolor\": \"white\", \"linecolor\": \"white\", \"ticks\": \"\"}, \"bgcolor\": \"#E5ECF6\", \"caxis\": {\"gridcolor\": \"white\", \"linecolor\": \"white\", \"ticks\": \"\"}}, \"title\": {\"x\": 0.05}, \"xaxis\": {\"automargin\": true, \"gridcolor\": \"white\", \"linecolor\": \"white\", \"ticks\": \"\", \"title\": {\"standoff\": 15}, \"zerolinecolor\": \"white\", \"zerolinewidth\": 2}, \"yaxis\": {\"automargin\": true, \"gridcolor\": \"white\", \"linecolor\": \"white\", \"ticks\": \"\", \"title\": {\"standoff\": 15}, \"zerolinecolor\": \"white\", \"zerolinewidth\": 2}}}, \"title\": {\"text\": \"Prevalence of Severe Food Insecurity in the Total Population in 2018-2020\"}},\n",
       "                        {\"responsive\": true}\n",
       "                    ).then(function(){\n",
       "                            \n",
       "var gd = document.getElementById('a4ed01de-db80-4b25-8f83-1c37d734b21f');\n",
       "var x = new MutationObserver(function (mutations, observer) {{\n",
       "        var display = window.getComputedStyle(gd).display;\n",
       "        if (!display || display === 'none') {{\n",
       "            console.log([gd, 'removed!']);\n",
       "            Plotly.purge(gd);\n",
       "            observer.disconnect();\n",
       "        }}\n",
       "}});\n",
       "\n",
       "// Listen for the removal of the full notebook cells\n",
       "var notebookContainer = gd.closest('#notebook-container');\n",
       "if (notebookContainer) {{\n",
       "    x.observe(notebookContainer, {childList: true});\n",
       "}}\n",
       "\n",
       "// Listen for the clearing of the current output cell\n",
       "var outputEl = gd.closest('.output');\n",
       "if (outputEl) {{\n",
       "    x.observe(outputEl, {childList: true});\n",
       "}}\n",
       "\n",
       "                        })\n",
       "                };\n",
       "                });\n",
       "            </script>\n",
       "        </div>"
      ]
     },
     "metadata": {},
     "output_type": "display_data"
    }
   ],
   "source": [
    "fig = go.Figure(data=go.Choropleth(\n",
    "    locations = df['CODE'],\n",
    "    z = df['Value'],\n",
    "    text = df['COUNTRY'],\n",
    "    colorscale = 'Blues',\n",
    "    autocolorscale=False,\n",
    "    reversescale=False,\n",
    "    marker_line_color='darkgray',\n",
    "    marker_line_width=0.5,\n",
    "    colorbar_ticksuffix = '%',\n",
    "    colorbar_title = 'Severe Food Insecurity<br>Percentage of Population',\n",
    "))\n",
    "\n",
    "fig.update_layout(\n",
    "    title_text='Prevalence of Severe Food Insecurity in the Total Population in 2018-2020',\n",
    "    geo=dict(\n",
    "        showframe=False,\n",
    "        showcoastlines=False,\n",
    "        projection_type='equirectangular'\n",
    "    )\n",
    ")\n",
    "\n",
    "fig.show()"
   ]
  },
  {
   "cell_type": "code",
   "execution_count": 63,
   "id": "available-closing",
   "metadata": {},
   "outputs": [],
   "source": [
    "df2 = food_security[food_security['Item'] == 'Prevalence of severe food insecurity in the total population (percent) (3-year average)']\n",
    "df2 = df2[df2['Year'] == '2014-2016']"
   ]
  },
  {
   "cell_type": "code",
   "execution_count": 64,
   "id": "opponent-princeton",
   "metadata": {},
   "outputs": [
    {
     "data": {
      "application/vnd.plotly.v1+json": {
       "config": {
        "plotlyServerURL": "https://plot.ly"
       },
       "data": [
        {
         "autocolorscale": false,
         "colorbar": {
          "ticksuffix": "%",
          "title": {
           "text": "Severe Food Insecurity<br>Percentage of Population"
          }
         },
         "colorscale": [
          [
           0,
           "rgb(247,251,255)"
          ],
          [
           0.125,
           "rgb(222,235,247)"
          ],
          [
           0.25,
           "rgb(198,219,239)"
          ],
          [
           0.375,
           "rgb(158,202,225)"
          ],
          [
           0.5,
           "rgb(107,174,214)"
          ],
          [
           0.625,
           "rgb(66,146,198)"
          ],
          [
           0.75,
           "rgb(33,113,181)"
          ],
          [
           0.875,
           "rgb(8,81,156)"
          ],
          [
           1,
           "rgb(8,48,107)"
          ]
         ],
         "locations": [
          "AFG",
          "ALB",
          "DZA",
          "AGO",
          "ARG",
          "AUS",
          "AUT",
          "AZE",
          "BGD",
          "BIH",
          "BWA",
          "BRA",
          "BGR",
          "BFA",
          "KHM",
          "CAN",
          "CHL",
          null,
          "CRI",
          "HRV",
          null,
          "DNK",
          "ECU",
          "EGY",
          "SLV",
          "EST",
          null,
          "ETH",
          "FIN",
          "FRA",
          null,
          "GEO",
          "DEU",
          "GHA",
          "GRC",
          "GTM",
          "GIN",
          "HND",
          "HUN",
          "ISL",
          "IDN",
          null,
          "IRL",
          "ISR",
          "ITA",
          "JPN",
          "KEN",
          "KWT",
          "LVA",
          "LBY",
          "LTU",
          "LUX",
          "MWI",
          "MYS",
          "MLT",
          "MRT",
          "MUS",
          "MEX",
          "MNG",
          "MNE",
          "NAM",
          "NPL",
          "NLD",
          "NZL",
          "NGA",
          null,
          "NOR",
          "PER",
          "PHL",
          "POL",
          "PRT",
          null,
          null,
          "ROU",
          null,
          "LCA",
          "SEN",
          "SRB",
          "SYC",
          "SLE",
          "SGP",
          "SVK",
          "SVN",
          "ZAF",
          "SSD",
          "ESP",
          "SDN",
          "SWE",
          "CHE",
          "THA",
          "TUN",
          "UGA",
          "UKR",
          null,
          null,
          "URY",
          "UZB",
          "ZMB",
          "ZWE"
         ],
         "marker": {
          "line": {
           "color": "darkgray",
           "width": 0.5
          }
         },
         "reversescale": false,
         "text": [
          "Afghanistan",
          "Albania",
          "Algeria",
          "Angola",
          "Argentina",
          "Australia",
          "Austria",
          "Azerbaijan",
          "Bangladesh",
          "Bosnia and Herzegovina",
          "Botswana",
          "Brazil",
          "Bulgaria",
          "Burkina Faso",
          "Cambodia",
          "Canada",
          "Chile",
          null,
          "Costa Rica",
          "Croatia",
          null,
          "Denmark",
          "Ecuador",
          "Egypt",
          "El Salvador",
          "Estonia",
          null,
          "Ethiopia",
          "Finland",
          "France",
          null,
          "Georgia",
          "Germany",
          "Ghana",
          "Greece",
          "Guatemala",
          "Guinea",
          "Honduras",
          "Hungary",
          "Iceland",
          "Indonesia",
          null,
          "Ireland",
          "Israel",
          "Italy",
          "Japan",
          "Kenya",
          "Kuwait",
          "Latvia",
          "Libya",
          "Lithuania",
          "Luxembourg",
          "Malawi",
          "Malaysia",
          "Malta",
          "Mauritania",
          "Mauritius",
          "Mexico",
          "Mongolia",
          "Montenegro",
          "Namibia",
          "Nepal",
          "Netherlands",
          "New Zealand",
          "Nigeria",
          null,
          "Norway",
          "Peru",
          "Philippines",
          "Poland",
          "Portugal",
          null,
          null,
          "Romania",
          null,
          "Saint Lucia",
          "Senegal",
          "Serbia",
          "Seychelles",
          "Sierra Leone",
          "Singapore",
          "Slovakia",
          "Slovenia",
          "South Africa",
          "South Sudan",
          "Spain",
          "Sudan",
          "Sweden",
          "Switzerland",
          "Thailand",
          "Tunisia",
          "Uganda",
          "Ukraine",
          null,
          null,
          "Uruguay",
          "Uzbekistan",
          "Zambia",
          "Zimbabwe"
         ],
         "type": "choropleth",
         "z": [
          14.8,
          10,
          13,
          21,
          5.8,
          2.8,
          1.1,
          0.25,
          13.3,
          1.5,
          19.6,
          1.9,
          1.9,
          10,
          16.9,
          0.6,
          2.9,
          42.6,
          1.8,
          0.6,
          0.7,
          1,
          6,
          8.4,
          13.8,
          0.9,
          29.4,
          14.5,
          2.4,
          1.6,
          23.6,
          7,
          1,
          7.6,
          2.6,
          16.1,
          44.3,
          14.2,
          1.4,
          1.7,
          0.7,
          9.5,
          3.4,
          1.3,
          1.2,
          0.25,
          17.3,
          4.9,
          0.6,
          11.2,
          2.5,
          1.8,
          51.8,
          7.8,
          1.5,
          4.6,
          5.2,
          3.6,
          3.4,
          2.1,
          28.9,
          10.4,
          1.5,
          2.8,
          6.6,
          3.6,
          1.1,
          13.5,
          3.2,
          1.8,
          4.1,
          0.25,
          1.6,
          5.6,
          0.7,
          4.5,
          14.5,
          1.7,
          3.2,
          30.4,
          1,
          1.1,
          0.9,
          18,
          65.4,
          1.1,
          13.4,
          0.8,
          1.5,
          4.2,
          9.1,
          17.5,
          2,
          1.9,
          1.1,
          6.8,
          1.9,
          21.8,
          35.5
         ]
        }
       ],
       "layout": {
        "geo": {
         "projection": {
          "type": "equirectangular"
         },
         "showcoastlines": false,
         "showframe": false
        },
        "template": {
         "data": {
          "bar": [
           {
            "error_x": {
             "color": "#2a3f5f"
            },
            "error_y": {
             "color": "#2a3f5f"
            },
            "marker": {
             "line": {
              "color": "#E5ECF6",
              "width": 0.5
             }
            },
            "type": "bar"
           }
          ],
          "barpolar": [
           {
            "marker": {
             "line": {
              "color": "#E5ECF6",
              "width": 0.5
             }
            },
            "type": "barpolar"
           }
          ],
          "carpet": [
           {
            "aaxis": {
             "endlinecolor": "#2a3f5f",
             "gridcolor": "white",
             "linecolor": "white",
             "minorgridcolor": "white",
             "startlinecolor": "#2a3f5f"
            },
            "baxis": {
             "endlinecolor": "#2a3f5f",
             "gridcolor": "white",
             "linecolor": "white",
             "minorgridcolor": "white",
             "startlinecolor": "#2a3f5f"
            },
            "type": "carpet"
           }
          ],
          "choropleth": [
           {
            "colorbar": {
             "outlinewidth": 0,
             "ticks": ""
            },
            "type": "choropleth"
           }
          ],
          "contour": [
           {
            "colorbar": {
             "outlinewidth": 0,
             "ticks": ""
            },
            "colorscale": [
             [
              0,
              "#0d0887"
             ],
             [
              0.1111111111111111,
              "#46039f"
             ],
             [
              0.2222222222222222,
              "#7201a8"
             ],
             [
              0.3333333333333333,
              "#9c179e"
             ],
             [
              0.4444444444444444,
              "#bd3786"
             ],
             [
              0.5555555555555556,
              "#d8576b"
             ],
             [
              0.6666666666666666,
              "#ed7953"
             ],
             [
              0.7777777777777778,
              "#fb9f3a"
             ],
             [
              0.8888888888888888,
              "#fdca26"
             ],
             [
              1,
              "#f0f921"
             ]
            ],
            "type": "contour"
           }
          ],
          "contourcarpet": [
           {
            "colorbar": {
             "outlinewidth": 0,
             "ticks": ""
            },
            "type": "contourcarpet"
           }
          ],
          "heatmap": [
           {
            "colorbar": {
             "outlinewidth": 0,
             "ticks": ""
            },
            "colorscale": [
             [
              0,
              "#0d0887"
             ],
             [
              0.1111111111111111,
              "#46039f"
             ],
             [
              0.2222222222222222,
              "#7201a8"
             ],
             [
              0.3333333333333333,
              "#9c179e"
             ],
             [
              0.4444444444444444,
              "#bd3786"
             ],
             [
              0.5555555555555556,
              "#d8576b"
             ],
             [
              0.6666666666666666,
              "#ed7953"
             ],
             [
              0.7777777777777778,
              "#fb9f3a"
             ],
             [
              0.8888888888888888,
              "#fdca26"
             ],
             [
              1,
              "#f0f921"
             ]
            ],
            "type": "heatmap"
           }
          ],
          "heatmapgl": [
           {
            "colorbar": {
             "outlinewidth": 0,
             "ticks": ""
            },
            "colorscale": [
             [
              0,
              "#0d0887"
             ],
             [
              0.1111111111111111,
              "#46039f"
             ],
             [
              0.2222222222222222,
              "#7201a8"
             ],
             [
              0.3333333333333333,
              "#9c179e"
             ],
             [
              0.4444444444444444,
              "#bd3786"
             ],
             [
              0.5555555555555556,
              "#d8576b"
             ],
             [
              0.6666666666666666,
              "#ed7953"
             ],
             [
              0.7777777777777778,
              "#fb9f3a"
             ],
             [
              0.8888888888888888,
              "#fdca26"
             ],
             [
              1,
              "#f0f921"
             ]
            ],
            "type": "heatmapgl"
           }
          ],
          "histogram": [
           {
            "marker": {
             "colorbar": {
              "outlinewidth": 0,
              "ticks": ""
             }
            },
            "type": "histogram"
           }
          ],
          "histogram2d": [
           {
            "colorbar": {
             "outlinewidth": 0,
             "ticks": ""
            },
            "colorscale": [
             [
              0,
              "#0d0887"
             ],
             [
              0.1111111111111111,
              "#46039f"
             ],
             [
              0.2222222222222222,
              "#7201a8"
             ],
             [
              0.3333333333333333,
              "#9c179e"
             ],
             [
              0.4444444444444444,
              "#bd3786"
             ],
             [
              0.5555555555555556,
              "#d8576b"
             ],
             [
              0.6666666666666666,
              "#ed7953"
             ],
             [
              0.7777777777777778,
              "#fb9f3a"
             ],
             [
              0.8888888888888888,
              "#fdca26"
             ],
             [
              1,
              "#f0f921"
             ]
            ],
            "type": "histogram2d"
           }
          ],
          "histogram2dcontour": [
           {
            "colorbar": {
             "outlinewidth": 0,
             "ticks": ""
            },
            "colorscale": [
             [
              0,
              "#0d0887"
             ],
             [
              0.1111111111111111,
              "#46039f"
             ],
             [
              0.2222222222222222,
              "#7201a8"
             ],
             [
              0.3333333333333333,
              "#9c179e"
             ],
             [
              0.4444444444444444,
              "#bd3786"
             ],
             [
              0.5555555555555556,
              "#d8576b"
             ],
             [
              0.6666666666666666,
              "#ed7953"
             ],
             [
              0.7777777777777778,
              "#fb9f3a"
             ],
             [
              0.8888888888888888,
              "#fdca26"
             ],
             [
              1,
              "#f0f921"
             ]
            ],
            "type": "histogram2dcontour"
           }
          ],
          "mesh3d": [
           {
            "colorbar": {
             "outlinewidth": 0,
             "ticks": ""
            },
            "type": "mesh3d"
           }
          ],
          "parcoords": [
           {
            "line": {
             "colorbar": {
              "outlinewidth": 0,
              "ticks": ""
             }
            },
            "type": "parcoords"
           }
          ],
          "pie": [
           {
            "automargin": true,
            "type": "pie"
           }
          ],
          "scatter": [
           {
            "marker": {
             "colorbar": {
              "outlinewidth": 0,
              "ticks": ""
             }
            },
            "type": "scatter"
           }
          ],
          "scatter3d": [
           {
            "line": {
             "colorbar": {
              "outlinewidth": 0,
              "ticks": ""
             }
            },
            "marker": {
             "colorbar": {
              "outlinewidth": 0,
              "ticks": ""
             }
            },
            "type": "scatter3d"
           }
          ],
          "scattercarpet": [
           {
            "marker": {
             "colorbar": {
              "outlinewidth": 0,
              "ticks": ""
             }
            },
            "type": "scattercarpet"
           }
          ],
          "scattergeo": [
           {
            "marker": {
             "colorbar": {
              "outlinewidth": 0,
              "ticks": ""
             }
            },
            "type": "scattergeo"
           }
          ],
          "scattergl": [
           {
            "marker": {
             "colorbar": {
              "outlinewidth": 0,
              "ticks": ""
             }
            },
            "type": "scattergl"
           }
          ],
          "scattermapbox": [
           {
            "marker": {
             "colorbar": {
              "outlinewidth": 0,
              "ticks": ""
             }
            },
            "type": "scattermapbox"
           }
          ],
          "scatterpolar": [
           {
            "marker": {
             "colorbar": {
              "outlinewidth": 0,
              "ticks": ""
             }
            },
            "type": "scatterpolar"
           }
          ],
          "scatterpolargl": [
           {
            "marker": {
             "colorbar": {
              "outlinewidth": 0,
              "ticks": ""
             }
            },
            "type": "scatterpolargl"
           }
          ],
          "scatterternary": [
           {
            "marker": {
             "colorbar": {
              "outlinewidth": 0,
              "ticks": ""
             }
            },
            "type": "scatterternary"
           }
          ],
          "surface": [
           {
            "colorbar": {
             "outlinewidth": 0,
             "ticks": ""
            },
            "colorscale": [
             [
              0,
              "#0d0887"
             ],
             [
              0.1111111111111111,
              "#46039f"
             ],
             [
              0.2222222222222222,
              "#7201a8"
             ],
             [
              0.3333333333333333,
              "#9c179e"
             ],
             [
              0.4444444444444444,
              "#bd3786"
             ],
             [
              0.5555555555555556,
              "#d8576b"
             ],
             [
              0.6666666666666666,
              "#ed7953"
             ],
             [
              0.7777777777777778,
              "#fb9f3a"
             ],
             [
              0.8888888888888888,
              "#fdca26"
             ],
             [
              1,
              "#f0f921"
             ]
            ],
            "type": "surface"
           }
          ],
          "table": [
           {
            "cells": {
             "fill": {
              "color": "#EBF0F8"
             },
             "line": {
              "color": "white"
             }
            },
            "header": {
             "fill": {
              "color": "#C8D4E3"
             },
             "line": {
              "color": "white"
             }
            },
            "type": "table"
           }
          ]
         },
         "layout": {
          "annotationdefaults": {
           "arrowcolor": "#2a3f5f",
           "arrowhead": 0,
           "arrowwidth": 1
          },
          "coloraxis": {
           "colorbar": {
            "outlinewidth": 0,
            "ticks": ""
           }
          },
          "colorscale": {
           "diverging": [
            [
             0,
             "#8e0152"
            ],
            [
             0.1,
             "#c51b7d"
            ],
            [
             0.2,
             "#de77ae"
            ],
            [
             0.3,
             "#f1b6da"
            ],
            [
             0.4,
             "#fde0ef"
            ],
            [
             0.5,
             "#f7f7f7"
            ],
            [
             0.6,
             "#e6f5d0"
            ],
            [
             0.7,
             "#b8e186"
            ],
            [
             0.8,
             "#7fbc41"
            ],
            [
             0.9,
             "#4d9221"
            ],
            [
             1,
             "#276419"
            ]
           ],
           "sequential": [
            [
             0,
             "#0d0887"
            ],
            [
             0.1111111111111111,
             "#46039f"
            ],
            [
             0.2222222222222222,
             "#7201a8"
            ],
            [
             0.3333333333333333,
             "#9c179e"
            ],
            [
             0.4444444444444444,
             "#bd3786"
            ],
            [
             0.5555555555555556,
             "#d8576b"
            ],
            [
             0.6666666666666666,
             "#ed7953"
            ],
            [
             0.7777777777777778,
             "#fb9f3a"
            ],
            [
             0.8888888888888888,
             "#fdca26"
            ],
            [
             1,
             "#f0f921"
            ]
           ],
           "sequentialminus": [
            [
             0,
             "#0d0887"
            ],
            [
             0.1111111111111111,
             "#46039f"
            ],
            [
             0.2222222222222222,
             "#7201a8"
            ],
            [
             0.3333333333333333,
             "#9c179e"
            ],
            [
             0.4444444444444444,
             "#bd3786"
            ],
            [
             0.5555555555555556,
             "#d8576b"
            ],
            [
             0.6666666666666666,
             "#ed7953"
            ],
            [
             0.7777777777777778,
             "#fb9f3a"
            ],
            [
             0.8888888888888888,
             "#fdca26"
            ],
            [
             1,
             "#f0f921"
            ]
           ]
          },
          "colorway": [
           "#636efa",
           "#EF553B",
           "#00cc96",
           "#ab63fa",
           "#FFA15A",
           "#19d3f3",
           "#FF6692",
           "#B6E880",
           "#FF97FF",
           "#FECB52"
          ],
          "font": {
           "color": "#2a3f5f"
          },
          "geo": {
           "bgcolor": "white",
           "lakecolor": "white",
           "landcolor": "#E5ECF6",
           "showlakes": true,
           "showland": true,
           "subunitcolor": "white"
          },
          "hoverlabel": {
           "align": "left"
          },
          "hovermode": "closest",
          "mapbox": {
           "style": "light"
          },
          "paper_bgcolor": "white",
          "plot_bgcolor": "#E5ECF6",
          "polar": {
           "angularaxis": {
            "gridcolor": "white",
            "linecolor": "white",
            "ticks": ""
           },
           "bgcolor": "#E5ECF6",
           "radialaxis": {
            "gridcolor": "white",
            "linecolor": "white",
            "ticks": ""
           }
          },
          "scene": {
           "xaxis": {
            "backgroundcolor": "#E5ECF6",
            "gridcolor": "white",
            "gridwidth": 2,
            "linecolor": "white",
            "showbackground": true,
            "ticks": "",
            "zerolinecolor": "white"
           },
           "yaxis": {
            "backgroundcolor": "#E5ECF6",
            "gridcolor": "white",
            "gridwidth": 2,
            "linecolor": "white",
            "showbackground": true,
            "ticks": "",
            "zerolinecolor": "white"
           },
           "zaxis": {
            "backgroundcolor": "#E5ECF6",
            "gridcolor": "white",
            "gridwidth": 2,
            "linecolor": "white",
            "showbackground": true,
            "ticks": "",
            "zerolinecolor": "white"
           }
          },
          "shapedefaults": {
           "line": {
            "color": "#2a3f5f"
           }
          },
          "ternary": {
           "aaxis": {
            "gridcolor": "white",
            "linecolor": "white",
            "ticks": ""
           },
           "baxis": {
            "gridcolor": "white",
            "linecolor": "white",
            "ticks": ""
           },
           "bgcolor": "#E5ECF6",
           "caxis": {
            "gridcolor": "white",
            "linecolor": "white",
            "ticks": ""
           }
          },
          "title": {
           "x": 0.05
          },
          "xaxis": {
           "automargin": true,
           "gridcolor": "white",
           "linecolor": "white",
           "ticks": "",
           "title": {
            "standoff": 15
           },
           "zerolinecolor": "white",
           "zerolinewidth": 2
          },
          "yaxis": {
           "automargin": true,
           "gridcolor": "white",
           "linecolor": "white",
           "ticks": "",
           "title": {
            "standoff": 15
           },
           "zerolinecolor": "white",
           "zerolinewidth": 2
          }
         }
        },
        "title": {
         "text": "Prevalence of Severe Food Insecurity in the Total Population in 2014-2016"
        }
       }
      },
      "text/html": [
       "<div>\n",
       "        \n",
       "        \n",
       "            <div id=\"e0e14901-c411-4c97-aa6e-a1d57fa5416b\" class=\"plotly-graph-div\" style=\"height:525px; width:100%;\"></div>\n",
       "            <script type=\"text/javascript\">\n",
       "                require([\"plotly\"], function(Plotly) {\n",
       "                    window.PLOTLYENV=window.PLOTLYENV || {};\n",
       "                    \n",
       "                if (document.getElementById(\"e0e14901-c411-4c97-aa6e-a1d57fa5416b\")) {\n",
       "                    Plotly.newPlot(\n",
       "                        'e0e14901-c411-4c97-aa6e-a1d57fa5416b',\n",
       "                        [{\"autocolorscale\": false, \"colorbar\": {\"ticksuffix\": \"%\", \"title\": {\"text\": \"Severe Food Insecurity<br>Percentage of Population\"}}, \"colorscale\": [[0.0, \"rgb(247,251,255)\"], [0.125, \"rgb(222,235,247)\"], [0.25, \"rgb(198,219,239)\"], [0.375, \"rgb(158,202,225)\"], [0.5, \"rgb(107,174,214)\"], [0.625, \"rgb(66,146,198)\"], [0.75, \"rgb(33,113,181)\"], [0.875, \"rgb(8,81,156)\"], [1.0, \"rgb(8,48,107)\"]], \"locations\": [\"AFG\", \"ALB\", \"DZA\", \"AGO\", \"ARG\", \"AUS\", \"AUT\", \"AZE\", \"BGD\", \"BIH\", \"BWA\", \"BRA\", \"BGR\", \"BFA\", \"KHM\", \"CAN\", \"CHL\", null, \"CRI\", \"HRV\", null, \"DNK\", \"ECU\", \"EGY\", \"SLV\", \"EST\", null, \"ETH\", \"FIN\", \"FRA\", null, \"GEO\", \"DEU\", \"GHA\", \"GRC\", \"GTM\", \"GIN\", \"HND\", \"HUN\", \"ISL\", \"IDN\", null, \"IRL\", \"ISR\", \"ITA\", \"JPN\", \"KEN\", \"KWT\", \"LVA\", \"LBY\", \"LTU\", \"LUX\", \"MWI\", \"MYS\", \"MLT\", \"MRT\", \"MUS\", \"MEX\", \"MNG\", \"MNE\", \"NAM\", \"NPL\", \"NLD\", \"NZL\", \"NGA\", null, \"NOR\", \"PER\", \"PHL\", \"POL\", \"PRT\", null, null, \"ROU\", null, \"LCA\", \"SEN\", \"SRB\", \"SYC\", \"SLE\", \"SGP\", \"SVK\", \"SVN\", \"ZAF\", \"SSD\", \"ESP\", \"SDN\", \"SWE\", \"CHE\", \"THA\", \"TUN\", \"UGA\", \"UKR\", null, null, \"URY\", \"UZB\", \"ZMB\", \"ZWE\"], \"marker\": {\"line\": {\"color\": \"darkgray\", \"width\": 0.5}}, \"reversescale\": false, \"text\": [\"Afghanistan\", \"Albania\", \"Algeria\", \"Angola\", \"Argentina\", \"Australia\", \"Austria\", \"Azerbaijan\", \"Bangladesh\", \"Bosnia and Herzegovina\", \"Botswana\", \"Brazil\", \"Bulgaria\", \"Burkina Faso\", \"Cambodia\", \"Canada\", \"Chile\", null, \"Costa Rica\", \"Croatia\", null, \"Denmark\", \"Ecuador\", \"Egypt\", \"El Salvador\", \"Estonia\", null, \"Ethiopia\", \"Finland\", \"France\", null, \"Georgia\", \"Germany\", \"Ghana\", \"Greece\", \"Guatemala\", \"Guinea\", \"Honduras\", \"Hungary\", \"Iceland\", \"Indonesia\", null, \"Ireland\", \"Israel\", \"Italy\", \"Japan\", \"Kenya\", \"Kuwait\", \"Latvia\", \"Libya\", \"Lithuania\", \"Luxembourg\", \"Malawi\", \"Malaysia\", \"Malta\", \"Mauritania\", \"Mauritius\", \"Mexico\", \"Mongolia\", \"Montenegro\", \"Namibia\", \"Nepal\", \"Netherlands\", \"New Zealand\", \"Nigeria\", null, \"Norway\", \"Peru\", \"Philippines\", \"Poland\", \"Portugal\", null, null, \"Romania\", null, \"Saint Lucia\", \"Senegal\", \"Serbia\", \"Seychelles\", \"Sierra Leone\", \"Singapore\", \"Slovakia\", \"Slovenia\", \"South Africa\", \"South Sudan\", \"Spain\", \"Sudan\", \"Sweden\", \"Switzerland\", \"Thailand\", \"Tunisia\", \"Uganda\", \"Ukraine\", null, null, \"Uruguay\", \"Uzbekistan\", \"Zambia\", \"Zimbabwe\"], \"type\": \"choropleth\", \"z\": [14.8, 10.0, 13.0, 21.0, 5.8, 2.8, 1.1, 0.25, 13.3, 1.5, 19.6, 1.9, 1.9, 10.0, 16.9, 0.6, 2.9, 42.6, 1.8, 0.6, 0.7, 1.0, 6.0, 8.4, 13.8, 0.9, 29.4, 14.5, 2.4, 1.6, 23.6, 7.0, 1.0, 7.6, 2.6, 16.1, 44.3, 14.2, 1.4, 1.7, 0.7, 9.5, 3.4, 1.3, 1.2, 0.25, 17.3, 4.9, 0.6, 11.2, 2.5, 1.8, 51.8, 7.8, 1.5, 4.6, 5.2, 3.6, 3.4, 2.1, 28.9, 10.4, 1.5, 2.8, 6.6, 3.6, 1.1, 13.5, 3.2, 1.8, 4.1, 0.25, 1.6, 5.6, 0.7, 4.5, 14.5, 1.7, 3.2, 30.4, 1.0, 1.1, 0.9, 18.0, 65.4, 1.1, 13.4, 0.8, 1.5, 4.2, 9.1, 17.5, 2.0, 1.9, 1.1, 6.8, 1.9, 21.8, 35.5]}],\n",
       "                        {\"geo\": {\"projection\": {\"type\": \"equirectangular\"}, \"showcoastlines\": false, \"showframe\": false}, \"template\": {\"data\": {\"bar\": [{\"error_x\": {\"color\": \"#2a3f5f\"}, \"error_y\": {\"color\": \"#2a3f5f\"}, \"marker\": {\"line\": {\"color\": \"#E5ECF6\", \"width\": 0.5}}, \"type\": \"bar\"}], \"barpolar\": [{\"marker\": {\"line\": {\"color\": \"#E5ECF6\", \"width\": 0.5}}, \"type\": \"barpolar\"}], \"carpet\": [{\"aaxis\": {\"endlinecolor\": \"#2a3f5f\", \"gridcolor\": \"white\", \"linecolor\": \"white\", \"minorgridcolor\": \"white\", \"startlinecolor\": \"#2a3f5f\"}, \"baxis\": {\"endlinecolor\": \"#2a3f5f\", \"gridcolor\": \"white\", \"linecolor\": \"white\", \"minorgridcolor\": \"white\", \"startlinecolor\": \"#2a3f5f\"}, \"type\": \"carpet\"}], \"choropleth\": [{\"colorbar\": {\"outlinewidth\": 0, \"ticks\": \"\"}, \"type\": \"choropleth\"}], \"contour\": [{\"colorbar\": {\"outlinewidth\": 0, \"ticks\": \"\"}, \"colorscale\": [[0.0, \"#0d0887\"], [0.1111111111111111, \"#46039f\"], [0.2222222222222222, \"#7201a8\"], [0.3333333333333333, \"#9c179e\"], [0.4444444444444444, \"#bd3786\"], [0.5555555555555556, \"#d8576b\"], [0.6666666666666666, \"#ed7953\"], [0.7777777777777778, \"#fb9f3a\"], [0.8888888888888888, \"#fdca26\"], [1.0, \"#f0f921\"]], \"type\": \"contour\"}], \"contourcarpet\": [{\"colorbar\": {\"outlinewidth\": 0, \"ticks\": \"\"}, \"type\": \"contourcarpet\"}], \"heatmap\": [{\"colorbar\": {\"outlinewidth\": 0, \"ticks\": \"\"}, \"colorscale\": [[0.0, \"#0d0887\"], [0.1111111111111111, \"#46039f\"], [0.2222222222222222, \"#7201a8\"], [0.3333333333333333, \"#9c179e\"], [0.4444444444444444, \"#bd3786\"], [0.5555555555555556, \"#d8576b\"], [0.6666666666666666, \"#ed7953\"], [0.7777777777777778, \"#fb9f3a\"], [0.8888888888888888, \"#fdca26\"], [1.0, \"#f0f921\"]], \"type\": \"heatmap\"}], \"heatmapgl\": [{\"colorbar\": {\"outlinewidth\": 0, \"ticks\": \"\"}, \"colorscale\": [[0.0, \"#0d0887\"], [0.1111111111111111, \"#46039f\"], [0.2222222222222222, \"#7201a8\"], [0.3333333333333333, \"#9c179e\"], [0.4444444444444444, \"#bd3786\"], [0.5555555555555556, \"#d8576b\"], [0.6666666666666666, \"#ed7953\"], [0.7777777777777778, \"#fb9f3a\"], [0.8888888888888888, \"#fdca26\"], [1.0, \"#f0f921\"]], \"type\": \"heatmapgl\"}], \"histogram\": [{\"marker\": {\"colorbar\": {\"outlinewidth\": 0, \"ticks\": \"\"}}, \"type\": \"histogram\"}], \"histogram2d\": [{\"colorbar\": {\"outlinewidth\": 0, \"ticks\": \"\"}, \"colorscale\": [[0.0, \"#0d0887\"], [0.1111111111111111, \"#46039f\"], [0.2222222222222222, \"#7201a8\"], [0.3333333333333333, \"#9c179e\"], [0.4444444444444444, \"#bd3786\"], [0.5555555555555556, \"#d8576b\"], [0.6666666666666666, \"#ed7953\"], [0.7777777777777778, \"#fb9f3a\"], [0.8888888888888888, \"#fdca26\"], [1.0, \"#f0f921\"]], \"type\": \"histogram2d\"}], \"histogram2dcontour\": [{\"colorbar\": {\"outlinewidth\": 0, \"ticks\": \"\"}, \"colorscale\": [[0.0, \"#0d0887\"], [0.1111111111111111, \"#46039f\"], [0.2222222222222222, \"#7201a8\"], [0.3333333333333333, \"#9c179e\"], [0.4444444444444444, \"#bd3786\"], [0.5555555555555556, \"#d8576b\"], [0.6666666666666666, \"#ed7953\"], [0.7777777777777778, \"#fb9f3a\"], [0.8888888888888888, \"#fdca26\"], [1.0, \"#f0f921\"]], \"type\": \"histogram2dcontour\"}], \"mesh3d\": [{\"colorbar\": {\"outlinewidth\": 0, \"ticks\": \"\"}, \"type\": \"mesh3d\"}], \"parcoords\": [{\"line\": {\"colorbar\": {\"outlinewidth\": 0, \"ticks\": \"\"}}, \"type\": \"parcoords\"}], \"pie\": [{\"automargin\": true, \"type\": \"pie\"}], \"scatter\": [{\"marker\": {\"colorbar\": {\"outlinewidth\": 0, \"ticks\": \"\"}}, \"type\": \"scatter\"}], \"scatter3d\": [{\"line\": {\"colorbar\": {\"outlinewidth\": 0, \"ticks\": \"\"}}, \"marker\": {\"colorbar\": {\"outlinewidth\": 0, \"ticks\": \"\"}}, \"type\": \"scatter3d\"}], \"scattercarpet\": [{\"marker\": {\"colorbar\": {\"outlinewidth\": 0, \"ticks\": \"\"}}, \"type\": \"scattercarpet\"}], \"scattergeo\": [{\"marker\": {\"colorbar\": {\"outlinewidth\": 0, \"ticks\": \"\"}}, \"type\": \"scattergeo\"}], \"scattergl\": [{\"marker\": {\"colorbar\": {\"outlinewidth\": 0, \"ticks\": \"\"}}, \"type\": \"scattergl\"}], \"scattermapbox\": [{\"marker\": {\"colorbar\": {\"outlinewidth\": 0, \"ticks\": \"\"}}, \"type\": \"scattermapbox\"}], \"scatterpolar\": [{\"marker\": {\"colorbar\": {\"outlinewidth\": 0, \"ticks\": \"\"}}, \"type\": \"scatterpolar\"}], \"scatterpolargl\": [{\"marker\": {\"colorbar\": {\"outlinewidth\": 0, \"ticks\": \"\"}}, \"type\": \"scatterpolargl\"}], \"scatterternary\": [{\"marker\": {\"colorbar\": {\"outlinewidth\": 0, \"ticks\": \"\"}}, \"type\": \"scatterternary\"}], \"surface\": [{\"colorbar\": {\"outlinewidth\": 0, \"ticks\": \"\"}, \"colorscale\": [[0.0, \"#0d0887\"], [0.1111111111111111, \"#46039f\"], [0.2222222222222222, \"#7201a8\"], [0.3333333333333333, \"#9c179e\"], [0.4444444444444444, \"#bd3786\"], [0.5555555555555556, \"#d8576b\"], [0.6666666666666666, \"#ed7953\"], [0.7777777777777778, \"#fb9f3a\"], [0.8888888888888888, \"#fdca26\"], [1.0, \"#f0f921\"]], \"type\": \"surface\"}], \"table\": [{\"cells\": {\"fill\": {\"color\": \"#EBF0F8\"}, \"line\": {\"color\": \"white\"}}, \"header\": {\"fill\": {\"color\": \"#C8D4E3\"}, \"line\": {\"color\": \"white\"}}, \"type\": \"table\"}]}, \"layout\": {\"annotationdefaults\": {\"arrowcolor\": \"#2a3f5f\", \"arrowhead\": 0, \"arrowwidth\": 1}, \"coloraxis\": {\"colorbar\": {\"outlinewidth\": 0, \"ticks\": \"\"}}, \"colorscale\": {\"diverging\": [[0, \"#8e0152\"], [0.1, \"#c51b7d\"], [0.2, \"#de77ae\"], [0.3, \"#f1b6da\"], [0.4, \"#fde0ef\"], [0.5, \"#f7f7f7\"], [0.6, \"#e6f5d0\"], [0.7, \"#b8e186\"], [0.8, \"#7fbc41\"], [0.9, \"#4d9221\"], [1, \"#276419\"]], \"sequential\": [[0.0, \"#0d0887\"], [0.1111111111111111, \"#46039f\"], [0.2222222222222222, \"#7201a8\"], [0.3333333333333333, \"#9c179e\"], [0.4444444444444444, \"#bd3786\"], [0.5555555555555556, \"#d8576b\"], [0.6666666666666666, \"#ed7953\"], [0.7777777777777778, \"#fb9f3a\"], [0.8888888888888888, \"#fdca26\"], [1.0, \"#f0f921\"]], \"sequentialminus\": [[0.0, \"#0d0887\"], [0.1111111111111111, \"#46039f\"], [0.2222222222222222, \"#7201a8\"], [0.3333333333333333, \"#9c179e\"], [0.4444444444444444, \"#bd3786\"], [0.5555555555555556, \"#d8576b\"], [0.6666666666666666, \"#ed7953\"], [0.7777777777777778, \"#fb9f3a\"], [0.8888888888888888, \"#fdca26\"], [1.0, \"#f0f921\"]]}, \"colorway\": [\"#636efa\", \"#EF553B\", \"#00cc96\", \"#ab63fa\", \"#FFA15A\", \"#19d3f3\", \"#FF6692\", \"#B6E880\", \"#FF97FF\", \"#FECB52\"], \"font\": {\"color\": \"#2a3f5f\"}, \"geo\": {\"bgcolor\": \"white\", \"lakecolor\": \"white\", \"landcolor\": \"#E5ECF6\", \"showlakes\": true, \"showland\": true, \"subunitcolor\": \"white\"}, \"hoverlabel\": {\"align\": \"left\"}, \"hovermode\": \"closest\", \"mapbox\": {\"style\": \"light\"}, \"paper_bgcolor\": \"white\", \"plot_bgcolor\": \"#E5ECF6\", \"polar\": {\"angularaxis\": {\"gridcolor\": \"white\", \"linecolor\": \"white\", \"ticks\": \"\"}, \"bgcolor\": \"#E5ECF6\", \"radialaxis\": {\"gridcolor\": \"white\", \"linecolor\": \"white\", \"ticks\": \"\"}}, \"scene\": {\"xaxis\": {\"backgroundcolor\": \"#E5ECF6\", \"gridcolor\": \"white\", \"gridwidth\": 2, \"linecolor\": \"white\", \"showbackground\": true, \"ticks\": \"\", \"zerolinecolor\": \"white\"}, \"yaxis\": {\"backgroundcolor\": \"#E5ECF6\", \"gridcolor\": \"white\", \"gridwidth\": 2, \"linecolor\": \"white\", \"showbackground\": true, \"ticks\": \"\", \"zerolinecolor\": \"white\"}, \"zaxis\": {\"backgroundcolor\": \"#E5ECF6\", \"gridcolor\": \"white\", \"gridwidth\": 2, \"linecolor\": \"white\", \"showbackground\": true, \"ticks\": \"\", \"zerolinecolor\": \"white\"}}, \"shapedefaults\": {\"line\": {\"color\": \"#2a3f5f\"}}, \"ternary\": {\"aaxis\": {\"gridcolor\": \"white\", \"linecolor\": \"white\", \"ticks\": \"\"}, \"baxis\": {\"gridcolor\": \"white\", \"linecolor\": \"white\", \"ticks\": \"\"}, \"bgcolor\": \"#E5ECF6\", \"caxis\": {\"gridcolor\": \"white\", \"linecolor\": \"white\", \"ticks\": \"\"}}, \"title\": {\"x\": 0.05}, \"xaxis\": {\"automargin\": true, \"gridcolor\": \"white\", \"linecolor\": \"white\", \"ticks\": \"\", \"title\": {\"standoff\": 15}, \"zerolinecolor\": \"white\", \"zerolinewidth\": 2}, \"yaxis\": {\"automargin\": true, \"gridcolor\": \"white\", \"linecolor\": \"white\", \"ticks\": \"\", \"title\": {\"standoff\": 15}, \"zerolinecolor\": \"white\", \"zerolinewidth\": 2}}}, \"title\": {\"text\": \"Prevalence of Severe Food Insecurity in the Total Population in 2014-2016\"}},\n",
       "                        {\"responsive\": true}\n",
       "                    ).then(function(){\n",
       "                            \n",
       "var gd = document.getElementById('e0e14901-c411-4c97-aa6e-a1d57fa5416b');\n",
       "var x = new MutationObserver(function (mutations, observer) {{\n",
       "        var display = window.getComputedStyle(gd).display;\n",
       "        if (!display || display === 'none') {{\n",
       "            console.log([gd, 'removed!']);\n",
       "            Plotly.purge(gd);\n",
       "            observer.disconnect();\n",
       "        }}\n",
       "}});\n",
       "\n",
       "// Listen for the removal of the full notebook cells\n",
       "var notebookContainer = gd.closest('#notebook-container');\n",
       "if (notebookContainer) {{\n",
       "    x.observe(notebookContainer, {childList: true});\n",
       "}}\n",
       "\n",
       "// Listen for the clearing of the current output cell\n",
       "var outputEl = gd.closest('.output');\n",
       "if (outputEl) {{\n",
       "    x.observe(outputEl, {childList: true});\n",
       "}}\n",
       "\n",
       "                        })\n",
       "                };\n",
       "                });\n",
       "            </script>\n",
       "        </div>"
      ]
     },
     "metadata": {},
     "output_type": "display_data"
    }
   ],
   "source": [
    "fig = go.Figure(data=go.Choropleth(\n",
    "    locations = df2['CODE'],\n",
    "    z = df2['Value'],\n",
    "    text = df2['COUNTRY'],\n",
    "    colorscale = 'Blues',\n",
    "    autocolorscale=False,\n",
    "    reversescale=False,\n",
    "    marker_line_color='darkgray',\n",
    "    marker_line_width=0.5,\n",
    "    colorbar_ticksuffix = '%',\n",
    "    colorbar_title = 'Severe Food Insecurity<br>Percentage of Population',\n",
    "))\n",
    "\n",
    "fig.update_layout(\n",
    "    title_text='Prevalence of Severe Food Insecurity in the Total Population in 2014-2016',\n",
    "    geo=dict(\n",
    "        showframe=False,\n",
    "        showcoastlines=False,\n",
    "        projection_type='equirectangular'\n",
    "    )\n",
    ")\n",
    "\n",
    "fig.show()"
   ]
  },
  {
   "cell_type": "code",
   "execution_count": 65,
   "id": "communist-longer",
   "metadata": {},
   "outputs": [],
   "source": [
    "df3 = food_security[food_security['Item'] == 'Prevalence of moderate or severe food insecurity in the total population (percent) (3-year average)']\n",
    "df3 = df3[df3['Year'] == '2018-2020']"
   ]
  },
  {
   "cell_type": "code",
   "execution_count": 66,
   "id": "following-laser",
   "metadata": {},
   "outputs": [
    {
     "data": {
      "application/vnd.plotly.v1+json": {
       "config": {
        "plotlyServerURL": "https://plot.ly"
       },
       "data": [
        {
         "autocolorscale": false,
         "colorbar": {
          "ticksuffix": "%",
          "title": {
           "text": "Moderate/Severe Food Insecurity<br>Percentage of Population"
          }
         },
         "colorscale": [
          [
           0,
           "rgb(247,251,255)"
          ],
          [
           0.125,
           "rgb(222,235,247)"
          ],
          [
           0.25,
           "rgb(198,219,239)"
          ],
          [
           0.375,
           "rgb(158,202,225)"
          ],
          [
           0.5,
           "rgb(107,174,214)"
          ],
          [
           0.625,
           "rgb(66,146,198)"
          ],
          [
           0.75,
           "rgb(33,113,181)"
          ],
          [
           0.875,
           "rgb(8,81,156)"
          ],
          [
           1,
           "rgb(8,48,107)"
          ]
         ],
         "locations": [
          "AFG",
          "ALB",
          "DZA",
          "AGO",
          "ARG",
          "ARM",
          "AUS",
          "AUT",
          "AZE",
          "BGD",
          "BEL",
          "BIH",
          "BWA",
          "BRA",
          "BGR",
          "BFA",
          "CPV",
          "KHM",
          "CMR",
          "CAN",
          "CAF",
          "CHL",
          null,
          "CRI",
          "HRV",
          null,
          null,
          "DNK",
          "ECU",
          "EGY",
          "SLV",
          "EST",
          null,
          "ETH",
          "FJI",
          "FIN",
          "FRA",
          null,
          "GEO",
          "DEU",
          "GHA",
          "GRC",
          "GTM",
          "GIN",
          "HND",
          "HUN",
          "ISL",
          "IDN",
          null,
          "IRL",
          "ISR",
          "ITA",
          "JPN",
          "KAZ",
          "KEN",
          "KIR",
          "KWT",
          "KGZ",
          null,
          "LVA",
          "LSO",
          "LBR",
          "LBY",
          "LTU",
          "LUX",
          "MWI",
          "MYS",
          "MLT",
          "MRT",
          "MUS",
          "MEX",
          "MNG",
          "MNE",
          "MAR",
          "MOZ",
          null,
          "NAM",
          "NPL",
          "NLD",
          "NZL",
          "NGA",
          null,
          "NOR",
          null,
          "PER",
          "PHL",
          "POL",
          "PRT",
          null,
          null,
          "ROU",
          null,
          "WSM",
          "SEN",
          "SRB",
          "SYC",
          "SLE",
          "SGP",
          "SVK",
          "SVN",
          "SOM",
          "ZAF",
          "SSD",
          "ESP",
          "SDN",
          "SWE",
          "CHE",
          "THA",
          "TON",
          "TUN",
          "UGA",
          "UKR",
          null,
          null,
          null,
          "URY",
          "UZB",
          "VUT",
          null,
          "ZMB",
          "ZWE"
         ],
         "marker": {
          "line": {
           "color": "darkgray",
           "width": 0.5
          }
         },
         "reversescale": false,
         "text": [
          "Afghanistan",
          "Albania",
          "Algeria",
          "Angola",
          "Argentina",
          "Armenia",
          "Australia",
          "Austria",
          "Azerbaijan",
          "Bangladesh",
          "Belgium",
          "Bosnia and Herzegovina",
          "Botswana",
          "Brazil",
          "Bulgaria",
          "Burkina Faso",
          "Cabo Verde",
          "Cambodia",
          "Cameroon",
          "Canada",
          "Central African Republic",
          "Chile",
          null,
          "Costa Rica",
          "Croatia",
          null,
          null,
          "Denmark",
          "Ecuador",
          "Egypt",
          "El Salvador",
          "Estonia",
          null,
          "Ethiopia",
          "Fiji",
          "Finland",
          "France",
          null,
          "Georgia",
          "Germany",
          "Ghana",
          "Greece",
          "Guatemala",
          "Guinea",
          "Honduras",
          "Hungary",
          "Iceland",
          "Indonesia",
          null,
          "Ireland",
          "Israel",
          "Italy",
          "Japan",
          "Kazakhstan",
          "Kenya",
          "Kiribati",
          "Kuwait",
          "Kyrgyzstan",
          null,
          "Latvia",
          "Lesotho",
          "Liberia",
          "Libya",
          "Lithuania",
          "Luxembourg",
          "Malawi",
          "Malaysia",
          "Malta",
          "Mauritania",
          "Mauritius",
          "Mexico",
          "Mongolia",
          "Montenegro",
          "Morocco",
          "Mozambique",
          null,
          "Namibia",
          "Nepal",
          "Netherlands",
          "New Zealand",
          "Nigeria",
          null,
          "Norway",
          null,
          "Peru",
          "Philippines",
          "Poland",
          "Portugal",
          null,
          null,
          "Romania",
          null,
          "Samoa",
          "Senegal",
          "Serbia",
          "Seychelles",
          "Sierra Leone",
          "Singapore",
          "Slovakia",
          "Slovenia",
          "Somalia",
          "South Africa",
          "South Sudan",
          "Spain",
          "Sudan",
          "Sweden",
          "Switzerland",
          "Thailand",
          "Tonga",
          "Tunisia",
          "Uganda",
          "Ukraine",
          null,
          null,
          null,
          "Uruguay",
          "Uzbekistan",
          "Vanuatu",
          null,
          "Zambia",
          "Zimbabwe"
         ],
         "type": "choropleth",
         "z": [
          63.1,
          33.8,
          17.6,
          73.5,
          35.8,
          12.7,
          12.3,
          3,
          8.9,
          31.9,
          3.7,
          10,
          50.8,
          23.5,
          13.2,
          47.9,
          35.1,
          44.8,
          55.8,
          5.8,
          81.3,
          17.9,
          88.3,
          15.3,
          11,
          4.2,
          69.2,
          5,
          32.7,
          27.8,
          47.1,
          7.9,
          64.1,
          56.3,
          14.3,
          8,
          5.8,
          56,
          39.7,
          3.4,
          50.2,
          8.6,
          49.7,
          74.1,
          45.6,
          8.6,
          6.6,
          6.2,
          42.5,
          8.3,
          13.7,
          6.7,
          3.4,
          2.3,
          68.5,
          40.9,
          12.2,
          7,
          29.4,
          10.2,
          49.7,
          80.6,
          37.4,
          11.3,
          3.1,
          81.8,
          18.7,
          4.3,
          39.8,
          24.2,
          26.1,
          26.2,
          13.5,
          28,
          71.1,
          22.2,
          57.6,
          36.4,
          4.7,
          14,
          57.7,
          17.7,
          4.1,
          26.3,
          47.8,
          42.7,
          5.8,
          11.5,
          5.1,
          27.2,
          13.9,
          6,
          23.6,
          40.9,
          12,
          14.7,
          83.9,
          4.5,
          6,
          8.2,
          79.1,
          44.9,
          84.8,
          8.8,
          49.4,
          5.3,
          2,
          29.8,
          23.2,
          25.1,
          69.2,
          19.9,
          3.9,
          56.4,
          8,
          23.5,
          19.7,
          23.3,
          6.5,
          51.4,
          69.8
         ]
        }
       ],
       "layout": {
        "geo": {
         "projection": {
          "type": "equirectangular"
         },
         "showcoastlines": false,
         "showframe": false
        },
        "template": {
         "data": {
          "bar": [
           {
            "error_x": {
             "color": "#2a3f5f"
            },
            "error_y": {
             "color": "#2a3f5f"
            },
            "marker": {
             "line": {
              "color": "#E5ECF6",
              "width": 0.5
             }
            },
            "type": "bar"
           }
          ],
          "barpolar": [
           {
            "marker": {
             "line": {
              "color": "#E5ECF6",
              "width": 0.5
             }
            },
            "type": "barpolar"
           }
          ],
          "carpet": [
           {
            "aaxis": {
             "endlinecolor": "#2a3f5f",
             "gridcolor": "white",
             "linecolor": "white",
             "minorgridcolor": "white",
             "startlinecolor": "#2a3f5f"
            },
            "baxis": {
             "endlinecolor": "#2a3f5f",
             "gridcolor": "white",
             "linecolor": "white",
             "minorgridcolor": "white",
             "startlinecolor": "#2a3f5f"
            },
            "type": "carpet"
           }
          ],
          "choropleth": [
           {
            "colorbar": {
             "outlinewidth": 0,
             "ticks": ""
            },
            "type": "choropleth"
           }
          ],
          "contour": [
           {
            "colorbar": {
             "outlinewidth": 0,
             "ticks": ""
            },
            "colorscale": [
             [
              0,
              "#0d0887"
             ],
             [
              0.1111111111111111,
              "#46039f"
             ],
             [
              0.2222222222222222,
              "#7201a8"
             ],
             [
              0.3333333333333333,
              "#9c179e"
             ],
             [
              0.4444444444444444,
              "#bd3786"
             ],
             [
              0.5555555555555556,
              "#d8576b"
             ],
             [
              0.6666666666666666,
              "#ed7953"
             ],
             [
              0.7777777777777778,
              "#fb9f3a"
             ],
             [
              0.8888888888888888,
              "#fdca26"
             ],
             [
              1,
              "#f0f921"
             ]
            ],
            "type": "contour"
           }
          ],
          "contourcarpet": [
           {
            "colorbar": {
             "outlinewidth": 0,
             "ticks": ""
            },
            "type": "contourcarpet"
           }
          ],
          "heatmap": [
           {
            "colorbar": {
             "outlinewidth": 0,
             "ticks": ""
            },
            "colorscale": [
             [
              0,
              "#0d0887"
             ],
             [
              0.1111111111111111,
              "#46039f"
             ],
             [
              0.2222222222222222,
              "#7201a8"
             ],
             [
              0.3333333333333333,
              "#9c179e"
             ],
             [
              0.4444444444444444,
              "#bd3786"
             ],
             [
              0.5555555555555556,
              "#d8576b"
             ],
             [
              0.6666666666666666,
              "#ed7953"
             ],
             [
              0.7777777777777778,
              "#fb9f3a"
             ],
             [
              0.8888888888888888,
              "#fdca26"
             ],
             [
              1,
              "#f0f921"
             ]
            ],
            "type": "heatmap"
           }
          ],
          "heatmapgl": [
           {
            "colorbar": {
             "outlinewidth": 0,
             "ticks": ""
            },
            "colorscale": [
             [
              0,
              "#0d0887"
             ],
             [
              0.1111111111111111,
              "#46039f"
             ],
             [
              0.2222222222222222,
              "#7201a8"
             ],
             [
              0.3333333333333333,
              "#9c179e"
             ],
             [
              0.4444444444444444,
              "#bd3786"
             ],
             [
              0.5555555555555556,
              "#d8576b"
             ],
             [
              0.6666666666666666,
              "#ed7953"
             ],
             [
              0.7777777777777778,
              "#fb9f3a"
             ],
             [
              0.8888888888888888,
              "#fdca26"
             ],
             [
              1,
              "#f0f921"
             ]
            ],
            "type": "heatmapgl"
           }
          ],
          "histogram": [
           {
            "marker": {
             "colorbar": {
              "outlinewidth": 0,
              "ticks": ""
             }
            },
            "type": "histogram"
           }
          ],
          "histogram2d": [
           {
            "colorbar": {
             "outlinewidth": 0,
             "ticks": ""
            },
            "colorscale": [
             [
              0,
              "#0d0887"
             ],
             [
              0.1111111111111111,
              "#46039f"
             ],
             [
              0.2222222222222222,
              "#7201a8"
             ],
             [
              0.3333333333333333,
              "#9c179e"
             ],
             [
              0.4444444444444444,
              "#bd3786"
             ],
             [
              0.5555555555555556,
              "#d8576b"
             ],
             [
              0.6666666666666666,
              "#ed7953"
             ],
             [
              0.7777777777777778,
              "#fb9f3a"
             ],
             [
              0.8888888888888888,
              "#fdca26"
             ],
             [
              1,
              "#f0f921"
             ]
            ],
            "type": "histogram2d"
           }
          ],
          "histogram2dcontour": [
           {
            "colorbar": {
             "outlinewidth": 0,
             "ticks": ""
            },
            "colorscale": [
             [
              0,
              "#0d0887"
             ],
             [
              0.1111111111111111,
              "#46039f"
             ],
             [
              0.2222222222222222,
              "#7201a8"
             ],
             [
              0.3333333333333333,
              "#9c179e"
             ],
             [
              0.4444444444444444,
              "#bd3786"
             ],
             [
              0.5555555555555556,
              "#d8576b"
             ],
             [
              0.6666666666666666,
              "#ed7953"
             ],
             [
              0.7777777777777778,
              "#fb9f3a"
             ],
             [
              0.8888888888888888,
              "#fdca26"
             ],
             [
              1,
              "#f0f921"
             ]
            ],
            "type": "histogram2dcontour"
           }
          ],
          "mesh3d": [
           {
            "colorbar": {
             "outlinewidth": 0,
             "ticks": ""
            },
            "type": "mesh3d"
           }
          ],
          "parcoords": [
           {
            "line": {
             "colorbar": {
              "outlinewidth": 0,
              "ticks": ""
             }
            },
            "type": "parcoords"
           }
          ],
          "pie": [
           {
            "automargin": true,
            "type": "pie"
           }
          ],
          "scatter": [
           {
            "marker": {
             "colorbar": {
              "outlinewidth": 0,
              "ticks": ""
             }
            },
            "type": "scatter"
           }
          ],
          "scatter3d": [
           {
            "line": {
             "colorbar": {
              "outlinewidth": 0,
              "ticks": ""
             }
            },
            "marker": {
             "colorbar": {
              "outlinewidth": 0,
              "ticks": ""
             }
            },
            "type": "scatter3d"
           }
          ],
          "scattercarpet": [
           {
            "marker": {
             "colorbar": {
              "outlinewidth": 0,
              "ticks": ""
             }
            },
            "type": "scattercarpet"
           }
          ],
          "scattergeo": [
           {
            "marker": {
             "colorbar": {
              "outlinewidth": 0,
              "ticks": ""
             }
            },
            "type": "scattergeo"
           }
          ],
          "scattergl": [
           {
            "marker": {
             "colorbar": {
              "outlinewidth": 0,
              "ticks": ""
             }
            },
            "type": "scattergl"
           }
          ],
          "scattermapbox": [
           {
            "marker": {
             "colorbar": {
              "outlinewidth": 0,
              "ticks": ""
             }
            },
            "type": "scattermapbox"
           }
          ],
          "scatterpolar": [
           {
            "marker": {
             "colorbar": {
              "outlinewidth": 0,
              "ticks": ""
             }
            },
            "type": "scatterpolar"
           }
          ],
          "scatterpolargl": [
           {
            "marker": {
             "colorbar": {
              "outlinewidth": 0,
              "ticks": ""
             }
            },
            "type": "scatterpolargl"
           }
          ],
          "scatterternary": [
           {
            "marker": {
             "colorbar": {
              "outlinewidth": 0,
              "ticks": ""
             }
            },
            "type": "scatterternary"
           }
          ],
          "surface": [
           {
            "colorbar": {
             "outlinewidth": 0,
             "ticks": ""
            },
            "colorscale": [
             [
              0,
              "#0d0887"
             ],
             [
              0.1111111111111111,
              "#46039f"
             ],
             [
              0.2222222222222222,
              "#7201a8"
             ],
             [
              0.3333333333333333,
              "#9c179e"
             ],
             [
              0.4444444444444444,
              "#bd3786"
             ],
             [
              0.5555555555555556,
              "#d8576b"
             ],
             [
              0.6666666666666666,
              "#ed7953"
             ],
             [
              0.7777777777777778,
              "#fb9f3a"
             ],
             [
              0.8888888888888888,
              "#fdca26"
             ],
             [
              1,
              "#f0f921"
             ]
            ],
            "type": "surface"
           }
          ],
          "table": [
           {
            "cells": {
             "fill": {
              "color": "#EBF0F8"
             },
             "line": {
              "color": "white"
             }
            },
            "header": {
             "fill": {
              "color": "#C8D4E3"
             },
             "line": {
              "color": "white"
             }
            },
            "type": "table"
           }
          ]
         },
         "layout": {
          "annotationdefaults": {
           "arrowcolor": "#2a3f5f",
           "arrowhead": 0,
           "arrowwidth": 1
          },
          "coloraxis": {
           "colorbar": {
            "outlinewidth": 0,
            "ticks": ""
           }
          },
          "colorscale": {
           "diverging": [
            [
             0,
             "#8e0152"
            ],
            [
             0.1,
             "#c51b7d"
            ],
            [
             0.2,
             "#de77ae"
            ],
            [
             0.3,
             "#f1b6da"
            ],
            [
             0.4,
             "#fde0ef"
            ],
            [
             0.5,
             "#f7f7f7"
            ],
            [
             0.6,
             "#e6f5d0"
            ],
            [
             0.7,
             "#b8e186"
            ],
            [
             0.8,
             "#7fbc41"
            ],
            [
             0.9,
             "#4d9221"
            ],
            [
             1,
             "#276419"
            ]
           ],
           "sequential": [
            [
             0,
             "#0d0887"
            ],
            [
             0.1111111111111111,
             "#46039f"
            ],
            [
             0.2222222222222222,
             "#7201a8"
            ],
            [
             0.3333333333333333,
             "#9c179e"
            ],
            [
             0.4444444444444444,
             "#bd3786"
            ],
            [
             0.5555555555555556,
             "#d8576b"
            ],
            [
             0.6666666666666666,
             "#ed7953"
            ],
            [
             0.7777777777777778,
             "#fb9f3a"
            ],
            [
             0.8888888888888888,
             "#fdca26"
            ],
            [
             1,
             "#f0f921"
            ]
           ],
           "sequentialminus": [
            [
             0,
             "#0d0887"
            ],
            [
             0.1111111111111111,
             "#46039f"
            ],
            [
             0.2222222222222222,
             "#7201a8"
            ],
            [
             0.3333333333333333,
             "#9c179e"
            ],
            [
             0.4444444444444444,
             "#bd3786"
            ],
            [
             0.5555555555555556,
             "#d8576b"
            ],
            [
             0.6666666666666666,
             "#ed7953"
            ],
            [
             0.7777777777777778,
             "#fb9f3a"
            ],
            [
             0.8888888888888888,
             "#fdca26"
            ],
            [
             1,
             "#f0f921"
            ]
           ]
          },
          "colorway": [
           "#636efa",
           "#EF553B",
           "#00cc96",
           "#ab63fa",
           "#FFA15A",
           "#19d3f3",
           "#FF6692",
           "#B6E880",
           "#FF97FF",
           "#FECB52"
          ],
          "font": {
           "color": "#2a3f5f"
          },
          "geo": {
           "bgcolor": "white",
           "lakecolor": "white",
           "landcolor": "#E5ECF6",
           "showlakes": true,
           "showland": true,
           "subunitcolor": "white"
          },
          "hoverlabel": {
           "align": "left"
          },
          "hovermode": "closest",
          "mapbox": {
           "style": "light"
          },
          "paper_bgcolor": "white",
          "plot_bgcolor": "#E5ECF6",
          "polar": {
           "angularaxis": {
            "gridcolor": "white",
            "linecolor": "white",
            "ticks": ""
           },
           "bgcolor": "#E5ECF6",
           "radialaxis": {
            "gridcolor": "white",
            "linecolor": "white",
            "ticks": ""
           }
          },
          "scene": {
           "xaxis": {
            "backgroundcolor": "#E5ECF6",
            "gridcolor": "white",
            "gridwidth": 2,
            "linecolor": "white",
            "showbackground": true,
            "ticks": "",
            "zerolinecolor": "white"
           },
           "yaxis": {
            "backgroundcolor": "#E5ECF6",
            "gridcolor": "white",
            "gridwidth": 2,
            "linecolor": "white",
            "showbackground": true,
            "ticks": "",
            "zerolinecolor": "white"
           },
           "zaxis": {
            "backgroundcolor": "#E5ECF6",
            "gridcolor": "white",
            "gridwidth": 2,
            "linecolor": "white",
            "showbackground": true,
            "ticks": "",
            "zerolinecolor": "white"
           }
          },
          "shapedefaults": {
           "line": {
            "color": "#2a3f5f"
           }
          },
          "ternary": {
           "aaxis": {
            "gridcolor": "white",
            "linecolor": "white",
            "ticks": ""
           },
           "baxis": {
            "gridcolor": "white",
            "linecolor": "white",
            "ticks": ""
           },
           "bgcolor": "#E5ECF6",
           "caxis": {
            "gridcolor": "white",
            "linecolor": "white",
            "ticks": ""
           }
          },
          "title": {
           "x": 0.05
          },
          "xaxis": {
           "automargin": true,
           "gridcolor": "white",
           "linecolor": "white",
           "ticks": "",
           "title": {
            "standoff": 15
           },
           "zerolinecolor": "white",
           "zerolinewidth": 2
          },
          "yaxis": {
           "automargin": true,
           "gridcolor": "white",
           "linecolor": "white",
           "ticks": "",
           "title": {
            "standoff": 15
           },
           "zerolinecolor": "white",
           "zerolinewidth": 2
          }
         }
        },
        "title": {
         "text": "Prevalence of Moderate or Severe Food Insecurity in the Total Population in 2018-2020"
        }
       }
      },
      "text/html": [
       "<div>\n",
       "        \n",
       "        \n",
       "            <div id=\"56d05709-5f76-4c8d-9d0a-4200d5b44a3f\" class=\"plotly-graph-div\" style=\"height:525px; width:100%;\"></div>\n",
       "            <script type=\"text/javascript\">\n",
       "                require([\"plotly\"], function(Plotly) {\n",
       "                    window.PLOTLYENV=window.PLOTLYENV || {};\n",
       "                    \n",
       "                if (document.getElementById(\"56d05709-5f76-4c8d-9d0a-4200d5b44a3f\")) {\n",
       "                    Plotly.newPlot(\n",
       "                        '56d05709-5f76-4c8d-9d0a-4200d5b44a3f',\n",
       "                        [{\"autocolorscale\": false, \"colorbar\": {\"ticksuffix\": \"%\", \"title\": {\"text\": \"Moderate/Severe Food Insecurity<br>Percentage of Population\"}}, \"colorscale\": [[0.0, \"rgb(247,251,255)\"], [0.125, \"rgb(222,235,247)\"], [0.25, \"rgb(198,219,239)\"], [0.375, \"rgb(158,202,225)\"], [0.5, \"rgb(107,174,214)\"], [0.625, \"rgb(66,146,198)\"], [0.75, \"rgb(33,113,181)\"], [0.875, \"rgb(8,81,156)\"], [1.0, \"rgb(8,48,107)\"]], \"locations\": [\"AFG\", \"ALB\", \"DZA\", \"AGO\", \"ARG\", \"ARM\", \"AUS\", \"AUT\", \"AZE\", \"BGD\", \"BEL\", \"BIH\", \"BWA\", \"BRA\", \"BGR\", \"BFA\", \"CPV\", \"KHM\", \"CMR\", \"CAN\", \"CAF\", \"CHL\", null, \"CRI\", \"HRV\", null, null, \"DNK\", \"ECU\", \"EGY\", \"SLV\", \"EST\", null, \"ETH\", \"FJI\", \"FIN\", \"FRA\", null, \"GEO\", \"DEU\", \"GHA\", \"GRC\", \"GTM\", \"GIN\", \"HND\", \"HUN\", \"ISL\", \"IDN\", null, \"IRL\", \"ISR\", \"ITA\", \"JPN\", \"KAZ\", \"KEN\", \"KIR\", \"KWT\", \"KGZ\", null, \"LVA\", \"LSO\", \"LBR\", \"LBY\", \"LTU\", \"LUX\", \"MWI\", \"MYS\", \"MLT\", \"MRT\", \"MUS\", \"MEX\", \"MNG\", \"MNE\", \"MAR\", \"MOZ\", null, \"NAM\", \"NPL\", \"NLD\", \"NZL\", \"NGA\", null, \"NOR\", null, \"PER\", \"PHL\", \"POL\", \"PRT\", null, null, \"ROU\", null, \"WSM\", \"SEN\", \"SRB\", \"SYC\", \"SLE\", \"SGP\", \"SVK\", \"SVN\", \"SOM\", \"ZAF\", \"SSD\", \"ESP\", \"SDN\", \"SWE\", \"CHE\", \"THA\", \"TON\", \"TUN\", \"UGA\", \"UKR\", null, null, null, \"URY\", \"UZB\", \"VUT\", null, \"ZMB\", \"ZWE\"], \"marker\": {\"line\": {\"color\": \"darkgray\", \"width\": 0.5}}, \"reversescale\": false, \"text\": [\"Afghanistan\", \"Albania\", \"Algeria\", \"Angola\", \"Argentina\", \"Armenia\", \"Australia\", \"Austria\", \"Azerbaijan\", \"Bangladesh\", \"Belgium\", \"Bosnia and Herzegovina\", \"Botswana\", \"Brazil\", \"Bulgaria\", \"Burkina Faso\", \"Cabo Verde\", \"Cambodia\", \"Cameroon\", \"Canada\", \"Central African Republic\", \"Chile\", null, \"Costa Rica\", \"Croatia\", null, null, \"Denmark\", \"Ecuador\", \"Egypt\", \"El Salvador\", \"Estonia\", null, \"Ethiopia\", \"Fiji\", \"Finland\", \"France\", null, \"Georgia\", \"Germany\", \"Ghana\", \"Greece\", \"Guatemala\", \"Guinea\", \"Honduras\", \"Hungary\", \"Iceland\", \"Indonesia\", null, \"Ireland\", \"Israel\", \"Italy\", \"Japan\", \"Kazakhstan\", \"Kenya\", \"Kiribati\", \"Kuwait\", \"Kyrgyzstan\", null, \"Latvia\", \"Lesotho\", \"Liberia\", \"Libya\", \"Lithuania\", \"Luxembourg\", \"Malawi\", \"Malaysia\", \"Malta\", \"Mauritania\", \"Mauritius\", \"Mexico\", \"Mongolia\", \"Montenegro\", \"Morocco\", \"Mozambique\", null, \"Namibia\", \"Nepal\", \"Netherlands\", \"New Zealand\", \"Nigeria\", null, \"Norway\", null, \"Peru\", \"Philippines\", \"Poland\", \"Portugal\", null, null, \"Romania\", null, \"Samoa\", \"Senegal\", \"Serbia\", \"Seychelles\", \"Sierra Leone\", \"Singapore\", \"Slovakia\", \"Slovenia\", \"Somalia\", \"South Africa\", \"South Sudan\", \"Spain\", \"Sudan\", \"Sweden\", \"Switzerland\", \"Thailand\", \"Tonga\", \"Tunisia\", \"Uganda\", \"Ukraine\", null, null, null, \"Uruguay\", \"Uzbekistan\", \"Vanuatu\", null, \"Zambia\", \"Zimbabwe\"], \"type\": \"choropleth\", \"z\": [63.1, 33.8, 17.6, 73.5, 35.8, 12.7, 12.3, 3.0, 8.9, 31.9, 3.7, 10.0, 50.8, 23.5, 13.2, 47.9, 35.1, 44.8, 55.8, 5.8, 81.3, 17.9, 88.3, 15.3, 11.0, 4.2, 69.2, 5.0, 32.7, 27.8, 47.1, 7.9, 64.1, 56.3, 14.3, 8.0, 5.8, 56.0, 39.7, 3.4, 50.2, 8.6, 49.7, 74.1, 45.6, 8.6, 6.6, 6.2, 42.5, 8.3, 13.7, 6.7, 3.4, 2.3, 68.5, 40.9, 12.2, 7.0, 29.4, 10.2, 49.7, 80.6, 37.4, 11.3, 3.1, 81.8, 18.7, 4.3, 39.8, 24.2, 26.1, 26.2, 13.5, 28.0, 71.1, 22.2, 57.6, 36.4, 4.7, 14.0, 57.7, 17.7, 4.1, 26.3, 47.8, 42.7, 5.8, 11.5, 5.1, 27.2, 13.9, 6.0, 23.6, 40.9, 12.0, 14.7, 83.9, 4.5, 6.0, 8.2, 79.1, 44.9, 84.8, 8.8, 49.4, 5.3, 2.0, 29.8, 23.2, 25.1, 69.2, 19.9, 3.9, 56.4, 8.0, 23.5, 19.7, 23.3, 6.5, 51.4, 69.8]}],\n",
       "                        {\"geo\": {\"projection\": {\"type\": \"equirectangular\"}, \"showcoastlines\": false, \"showframe\": false}, \"template\": {\"data\": {\"bar\": [{\"error_x\": {\"color\": \"#2a3f5f\"}, \"error_y\": {\"color\": \"#2a3f5f\"}, \"marker\": {\"line\": {\"color\": \"#E5ECF6\", \"width\": 0.5}}, \"type\": \"bar\"}], \"barpolar\": [{\"marker\": {\"line\": {\"color\": \"#E5ECF6\", \"width\": 0.5}}, \"type\": \"barpolar\"}], \"carpet\": [{\"aaxis\": {\"endlinecolor\": \"#2a3f5f\", \"gridcolor\": \"white\", \"linecolor\": \"white\", \"minorgridcolor\": \"white\", \"startlinecolor\": \"#2a3f5f\"}, \"baxis\": {\"endlinecolor\": \"#2a3f5f\", \"gridcolor\": \"white\", \"linecolor\": \"white\", \"minorgridcolor\": \"white\", \"startlinecolor\": \"#2a3f5f\"}, \"type\": \"carpet\"}], \"choropleth\": [{\"colorbar\": {\"outlinewidth\": 0, \"ticks\": \"\"}, \"type\": \"choropleth\"}], \"contour\": [{\"colorbar\": {\"outlinewidth\": 0, \"ticks\": \"\"}, \"colorscale\": [[0.0, \"#0d0887\"], [0.1111111111111111, \"#46039f\"], [0.2222222222222222, \"#7201a8\"], [0.3333333333333333, \"#9c179e\"], [0.4444444444444444, \"#bd3786\"], [0.5555555555555556, \"#d8576b\"], [0.6666666666666666, \"#ed7953\"], [0.7777777777777778, \"#fb9f3a\"], [0.8888888888888888, \"#fdca26\"], [1.0, \"#f0f921\"]], \"type\": \"contour\"}], \"contourcarpet\": [{\"colorbar\": {\"outlinewidth\": 0, \"ticks\": \"\"}, \"type\": \"contourcarpet\"}], \"heatmap\": [{\"colorbar\": {\"outlinewidth\": 0, \"ticks\": \"\"}, \"colorscale\": [[0.0, \"#0d0887\"], [0.1111111111111111, \"#46039f\"], [0.2222222222222222, \"#7201a8\"], [0.3333333333333333, \"#9c179e\"], [0.4444444444444444, \"#bd3786\"], [0.5555555555555556, \"#d8576b\"], [0.6666666666666666, \"#ed7953\"], [0.7777777777777778, \"#fb9f3a\"], [0.8888888888888888, \"#fdca26\"], [1.0, \"#f0f921\"]], \"type\": \"heatmap\"}], \"heatmapgl\": [{\"colorbar\": {\"outlinewidth\": 0, \"ticks\": \"\"}, \"colorscale\": [[0.0, \"#0d0887\"], [0.1111111111111111, \"#46039f\"], [0.2222222222222222, \"#7201a8\"], [0.3333333333333333, \"#9c179e\"], [0.4444444444444444, \"#bd3786\"], [0.5555555555555556, \"#d8576b\"], [0.6666666666666666, \"#ed7953\"], [0.7777777777777778, \"#fb9f3a\"], [0.8888888888888888, \"#fdca26\"], [1.0, \"#f0f921\"]], \"type\": \"heatmapgl\"}], \"histogram\": [{\"marker\": {\"colorbar\": {\"outlinewidth\": 0, \"ticks\": \"\"}}, \"type\": \"histogram\"}], \"histogram2d\": [{\"colorbar\": {\"outlinewidth\": 0, \"ticks\": \"\"}, \"colorscale\": [[0.0, \"#0d0887\"], [0.1111111111111111, \"#46039f\"], [0.2222222222222222, \"#7201a8\"], [0.3333333333333333, \"#9c179e\"], [0.4444444444444444, \"#bd3786\"], [0.5555555555555556, \"#d8576b\"], [0.6666666666666666, \"#ed7953\"], [0.7777777777777778, \"#fb9f3a\"], [0.8888888888888888, \"#fdca26\"], [1.0, \"#f0f921\"]], \"type\": \"histogram2d\"}], \"histogram2dcontour\": [{\"colorbar\": {\"outlinewidth\": 0, \"ticks\": \"\"}, \"colorscale\": [[0.0, \"#0d0887\"], [0.1111111111111111, \"#46039f\"], [0.2222222222222222, \"#7201a8\"], [0.3333333333333333, \"#9c179e\"], [0.4444444444444444, \"#bd3786\"], [0.5555555555555556, \"#d8576b\"], [0.6666666666666666, \"#ed7953\"], [0.7777777777777778, \"#fb9f3a\"], [0.8888888888888888, \"#fdca26\"], [1.0, \"#f0f921\"]], \"type\": \"histogram2dcontour\"}], \"mesh3d\": [{\"colorbar\": {\"outlinewidth\": 0, \"ticks\": \"\"}, \"type\": \"mesh3d\"}], \"parcoords\": [{\"line\": {\"colorbar\": {\"outlinewidth\": 0, \"ticks\": \"\"}}, \"type\": \"parcoords\"}], \"pie\": [{\"automargin\": true, \"type\": \"pie\"}], \"scatter\": [{\"marker\": {\"colorbar\": {\"outlinewidth\": 0, \"ticks\": \"\"}}, \"type\": \"scatter\"}], \"scatter3d\": [{\"line\": {\"colorbar\": {\"outlinewidth\": 0, \"ticks\": \"\"}}, \"marker\": {\"colorbar\": {\"outlinewidth\": 0, \"ticks\": \"\"}}, \"type\": \"scatter3d\"}], \"scattercarpet\": [{\"marker\": {\"colorbar\": {\"outlinewidth\": 0, \"ticks\": \"\"}}, \"type\": \"scattercarpet\"}], \"scattergeo\": [{\"marker\": {\"colorbar\": {\"outlinewidth\": 0, \"ticks\": \"\"}}, \"type\": \"scattergeo\"}], \"scattergl\": [{\"marker\": {\"colorbar\": {\"outlinewidth\": 0, \"ticks\": \"\"}}, \"type\": \"scattergl\"}], \"scattermapbox\": [{\"marker\": {\"colorbar\": {\"outlinewidth\": 0, \"ticks\": \"\"}}, \"type\": \"scattermapbox\"}], \"scatterpolar\": [{\"marker\": {\"colorbar\": {\"outlinewidth\": 0, \"ticks\": \"\"}}, \"type\": \"scatterpolar\"}], \"scatterpolargl\": [{\"marker\": {\"colorbar\": {\"outlinewidth\": 0, \"ticks\": \"\"}}, \"type\": \"scatterpolargl\"}], \"scatterternary\": [{\"marker\": {\"colorbar\": {\"outlinewidth\": 0, \"ticks\": \"\"}}, \"type\": \"scatterternary\"}], \"surface\": [{\"colorbar\": {\"outlinewidth\": 0, \"ticks\": \"\"}, \"colorscale\": [[0.0, \"#0d0887\"], [0.1111111111111111, \"#46039f\"], [0.2222222222222222, \"#7201a8\"], [0.3333333333333333, \"#9c179e\"], [0.4444444444444444, \"#bd3786\"], [0.5555555555555556, \"#d8576b\"], [0.6666666666666666, \"#ed7953\"], [0.7777777777777778, \"#fb9f3a\"], [0.8888888888888888, \"#fdca26\"], [1.0, \"#f0f921\"]], \"type\": \"surface\"}], \"table\": [{\"cells\": {\"fill\": {\"color\": \"#EBF0F8\"}, \"line\": {\"color\": \"white\"}}, \"header\": {\"fill\": {\"color\": \"#C8D4E3\"}, \"line\": {\"color\": \"white\"}}, \"type\": \"table\"}]}, \"layout\": {\"annotationdefaults\": {\"arrowcolor\": \"#2a3f5f\", \"arrowhead\": 0, \"arrowwidth\": 1}, \"coloraxis\": {\"colorbar\": {\"outlinewidth\": 0, \"ticks\": \"\"}}, \"colorscale\": {\"diverging\": [[0, \"#8e0152\"], [0.1, \"#c51b7d\"], [0.2, \"#de77ae\"], [0.3, \"#f1b6da\"], [0.4, \"#fde0ef\"], [0.5, \"#f7f7f7\"], [0.6, \"#e6f5d0\"], [0.7, \"#b8e186\"], [0.8, \"#7fbc41\"], [0.9, \"#4d9221\"], [1, \"#276419\"]], \"sequential\": [[0.0, \"#0d0887\"], [0.1111111111111111, \"#46039f\"], [0.2222222222222222, \"#7201a8\"], [0.3333333333333333, \"#9c179e\"], [0.4444444444444444, \"#bd3786\"], [0.5555555555555556, \"#d8576b\"], [0.6666666666666666, \"#ed7953\"], [0.7777777777777778, \"#fb9f3a\"], [0.8888888888888888, \"#fdca26\"], [1.0, \"#f0f921\"]], \"sequentialminus\": [[0.0, \"#0d0887\"], [0.1111111111111111, \"#46039f\"], [0.2222222222222222, \"#7201a8\"], [0.3333333333333333, \"#9c179e\"], [0.4444444444444444, \"#bd3786\"], [0.5555555555555556, \"#d8576b\"], [0.6666666666666666, \"#ed7953\"], [0.7777777777777778, \"#fb9f3a\"], [0.8888888888888888, \"#fdca26\"], [1.0, \"#f0f921\"]]}, \"colorway\": [\"#636efa\", \"#EF553B\", \"#00cc96\", \"#ab63fa\", \"#FFA15A\", \"#19d3f3\", \"#FF6692\", \"#B6E880\", \"#FF97FF\", \"#FECB52\"], \"font\": {\"color\": \"#2a3f5f\"}, \"geo\": {\"bgcolor\": \"white\", \"lakecolor\": \"white\", \"landcolor\": \"#E5ECF6\", \"showlakes\": true, \"showland\": true, \"subunitcolor\": \"white\"}, \"hoverlabel\": {\"align\": \"left\"}, \"hovermode\": \"closest\", \"mapbox\": {\"style\": \"light\"}, \"paper_bgcolor\": \"white\", \"plot_bgcolor\": \"#E5ECF6\", \"polar\": {\"angularaxis\": {\"gridcolor\": \"white\", \"linecolor\": \"white\", \"ticks\": \"\"}, \"bgcolor\": \"#E5ECF6\", \"radialaxis\": {\"gridcolor\": \"white\", \"linecolor\": \"white\", \"ticks\": \"\"}}, \"scene\": {\"xaxis\": {\"backgroundcolor\": \"#E5ECF6\", \"gridcolor\": \"white\", \"gridwidth\": 2, \"linecolor\": \"white\", \"showbackground\": true, \"ticks\": \"\", \"zerolinecolor\": \"white\"}, \"yaxis\": {\"backgroundcolor\": \"#E5ECF6\", \"gridcolor\": \"white\", \"gridwidth\": 2, \"linecolor\": \"white\", \"showbackground\": true, \"ticks\": \"\", \"zerolinecolor\": \"white\"}, \"zaxis\": {\"backgroundcolor\": \"#E5ECF6\", \"gridcolor\": \"white\", \"gridwidth\": 2, \"linecolor\": \"white\", \"showbackground\": true, \"ticks\": \"\", \"zerolinecolor\": \"white\"}}, \"shapedefaults\": {\"line\": {\"color\": \"#2a3f5f\"}}, \"ternary\": {\"aaxis\": {\"gridcolor\": \"white\", \"linecolor\": \"white\", \"ticks\": \"\"}, \"baxis\": {\"gridcolor\": \"white\", \"linecolor\": \"white\", \"ticks\": \"\"}, \"bgcolor\": \"#E5ECF6\", \"caxis\": {\"gridcolor\": \"white\", \"linecolor\": \"white\", \"ticks\": \"\"}}, \"title\": {\"x\": 0.05}, \"xaxis\": {\"automargin\": true, \"gridcolor\": \"white\", \"linecolor\": \"white\", \"ticks\": \"\", \"title\": {\"standoff\": 15}, \"zerolinecolor\": \"white\", \"zerolinewidth\": 2}, \"yaxis\": {\"automargin\": true, \"gridcolor\": \"white\", \"linecolor\": \"white\", \"ticks\": \"\", \"title\": {\"standoff\": 15}, \"zerolinecolor\": \"white\", \"zerolinewidth\": 2}}}, \"title\": {\"text\": \"Prevalence of Moderate or Severe Food Insecurity in the Total Population in 2018-2020\"}},\n",
       "                        {\"responsive\": true}\n",
       "                    ).then(function(){\n",
       "                            \n",
       "var gd = document.getElementById('56d05709-5f76-4c8d-9d0a-4200d5b44a3f');\n",
       "var x = new MutationObserver(function (mutations, observer) {{\n",
       "        var display = window.getComputedStyle(gd).display;\n",
       "        if (!display || display === 'none') {{\n",
       "            console.log([gd, 'removed!']);\n",
       "            Plotly.purge(gd);\n",
       "            observer.disconnect();\n",
       "        }}\n",
       "}});\n",
       "\n",
       "// Listen for the removal of the full notebook cells\n",
       "var notebookContainer = gd.closest('#notebook-container');\n",
       "if (notebookContainer) {{\n",
       "    x.observe(notebookContainer, {childList: true});\n",
       "}}\n",
       "\n",
       "// Listen for the clearing of the current output cell\n",
       "var outputEl = gd.closest('.output');\n",
       "if (outputEl) {{\n",
       "    x.observe(outputEl, {childList: true});\n",
       "}}\n",
       "\n",
       "                        })\n",
       "                };\n",
       "                });\n",
       "            </script>\n",
       "        </div>"
      ]
     },
     "metadata": {},
     "output_type": "display_data"
    }
   ],
   "source": [
    "fig = go.Figure(data=go.Choropleth(\n",
    "    locations = df3['CODE'],\n",
    "    z = df3['Value'],\n",
    "    text = df3['COUNTRY'],\n",
    "    colorscale = 'Blues',\n",
    "    autocolorscale=False,\n",
    "    reversescale=False,\n",
    "    marker_line_color='darkgray',\n",
    "    marker_line_width=0.5,\n",
    "    colorbar_ticksuffix = '%',\n",
    "    colorbar_title = 'Moderate/Severe Food Insecurity<br>Percentage of Population',\n",
    "))\n",
    "\n",
    "fig.update_layout(\n",
    "    title_text='Prevalence of Moderate or Severe Food Insecurity in the Total Population in 2018-2020',\n",
    "    geo=dict(\n",
    "        showframe=False,\n",
    "        showcoastlines=False,\n",
    "        projection_type='equirectangular'\n",
    "    )\n",
    ")\n",
    "\n",
    "fig.show()"
   ]
  },
  {
   "cell_type": "code",
   "execution_count": 67,
   "id": "single-specification",
   "metadata": {},
   "outputs": [],
   "source": [
    "df4 = food_security[food_security['Item'] == 'Prevalence of moderate or severe food insecurity in the total population (percent) (3-year average)']\n",
    "df4 = df4[df4['Year'] == '2014-2016']"
   ]
  },
  {
   "cell_type": "code",
   "execution_count": 68,
   "id": "gothic-invasion",
   "metadata": {},
   "outputs": [
    {
     "data": {
      "application/vnd.plotly.v1+json": {
       "config": {
        "plotlyServerURL": "https://plot.ly"
       },
       "data": [
        {
         "autocolorscale": false,
         "colorbar": {
          "ticksuffix": "%",
          "title": {
           "text": "Moderate/Severe Food Insecurity<br>Percentage of Population"
          }
         },
         "colorscale": [
          [
           0,
           "rgb(247,251,255)"
          ],
          [
           0.125,
           "rgb(222,235,247)"
          ],
          [
           0.25,
           "rgb(198,219,239)"
          ],
          [
           0.375,
           "rgb(158,202,225)"
          ],
          [
           0.5,
           "rgb(107,174,214)"
          ],
          [
           0.625,
           "rgb(66,146,198)"
          ],
          [
           0.75,
           "rgb(33,113,181)"
          ],
          [
           0.875,
           "rgb(8,81,156)"
          ],
          [
           1,
           "rgb(8,48,107)"
          ]
         ],
         "locations": [
          "AFG",
          "ALB",
          "DZA",
          "AGO",
          "ARG",
          "AUS",
          "AUT",
          "AZE",
          "BGD",
          "BIH",
          "BWA",
          "BRA",
          "BGR",
          "BFA",
          "KHM",
          "CAN",
          "CHL",
          null,
          "CRI",
          "HRV",
          null,
          "DNK",
          "ECU",
          "EGY",
          "SLV",
          "EST",
          null,
          "ETH",
          "FIN",
          "FRA",
          null,
          "GEO",
          "DEU",
          "GHA",
          "GRC",
          "GTM",
          "GIN",
          "HND",
          "HUN",
          "ISL",
          "IDN",
          null,
          "IRL",
          "ISR",
          "ITA",
          "JPN",
          "KEN",
          "KWT",
          "LVA",
          "LBY",
          "LTU",
          "LUX",
          "MWI",
          "MYS",
          "MLT",
          "MRT",
          "MUS",
          "MEX",
          "MNG",
          "MNE",
          "NAM",
          "NPL",
          "NLD",
          "NZL",
          "NGA",
          null,
          "NOR",
          "PER",
          "PHL",
          "POL",
          "PRT",
          null,
          null,
          "ROU",
          null,
          "LCA",
          "SEN",
          "SRB",
          "SYC",
          "SLE",
          "SGP",
          "SVK",
          "SVN",
          "ZAF",
          "SSD",
          "ESP",
          "SDN",
          "SWE",
          "CHE",
          "THA",
          "TUN",
          "UGA",
          "UKR",
          null,
          null,
          "URY",
          "UZB",
          "ZMB",
          "ZWE"
         ],
         "marker": {
          "line": {
           "color": "darkgray",
           "width": 0.5
          }
         },
         "reversescale": false,
         "text": [
          "Afghanistan",
          "Albania",
          "Algeria",
          "Angola",
          "Argentina",
          "Australia",
          "Austria",
          "Azerbaijan",
          "Bangladesh",
          "Bosnia and Herzegovina",
          "Botswana",
          "Brazil",
          "Bulgaria",
          "Burkina Faso",
          "Cambodia",
          "Canada",
          "Chile",
          null,
          "Costa Rica",
          "Croatia",
          null,
          "Denmark",
          "Ecuador",
          "Egypt",
          "El Salvador",
          "Estonia",
          null,
          "Ethiopia",
          "Finland",
          "France",
          null,
          "Georgia",
          "Germany",
          "Ghana",
          "Greece",
          "Guatemala",
          "Guinea",
          "Honduras",
          "Hungary",
          "Iceland",
          "Indonesia",
          null,
          "Ireland",
          "Israel",
          "Italy",
          "Japan",
          "Kenya",
          "Kuwait",
          "Latvia",
          "Libya",
          "Lithuania",
          "Luxembourg",
          "Malawi",
          "Malaysia",
          "Malta",
          "Mauritania",
          "Mauritius",
          "Mexico",
          "Mongolia",
          "Montenegro",
          "Namibia",
          "Nepal",
          "Netherlands",
          "New Zealand",
          "Nigeria",
          null,
          "Norway",
          "Peru",
          "Philippines",
          "Poland",
          "Portugal",
          null,
          null,
          "Romania",
          null,
          "Saint Lucia",
          "Senegal",
          "Serbia",
          "Seychelles",
          "Sierra Leone",
          "Singapore",
          "Slovakia",
          "Slovenia",
          "South Africa",
          "South Sudan",
          "Spain",
          "Sudan",
          "Sweden",
          "Switzerland",
          "Thailand",
          "Tunisia",
          "Uganda",
          "Ukraine",
          null,
          null,
          "Uruguay",
          "Uzbekistan",
          "Zambia",
          "Zimbabwe"
         ],
         "type": "choropleth",
         "z": [
          45.1,
          38.8,
          22.9,
          66.5,
          19.2,
          10.8,
          5.5,
          5.9,
          32.2,
          9.6,
          45.9,
          18.3,
          14.9,
          41.8,
          48.9,
          5,
          10.8,
          82,
          12.2,
          6.5,
          5.8,
          5.9,
          20.7,
          27.8,
          42.2,
          9.5,
          62.6,
          56.2,
          9.3,
          6.8,
          52.7,
          31.8,
          4.1,
          49.3,
          15.8,
          42.7,
          72.5,
          41.6,
          11.3,
          6.4,
          6,
          48,
          8.9,
          11,
          8.6,
          2.6,
          53,
          12.6,
          9.9,
          29.1,
          15.3,
          4.7,
          81.9,
          17.4,
          5.9,
          26.3,
          13,
          25.6,
          21,
          12.6,
          53.2,
          29.5,
          5.7,
          10,
          36.5,
          15.1,
          4.8,
          37.2,
          41.2,
          8.9,
          14.7,
          4.8,
          19.3,
          19.3,
          8.2,
          22.2,
          39.3,
          11.4,
          14.3,
          78.4,
          2.8,
          6.2,
          12.3,
          42.9,
          85.1,
          7.1,
          41.4,
          4.5,
          4.8,
          15.1,
          18.2,
          58,
          19.8,
          6.3,
          10.5,
          21.6,
          11.2,
          48.8,
          64.7
         ]
        }
       ],
       "layout": {
        "geo": {
         "projection": {
          "type": "equirectangular"
         },
         "showcoastlines": false,
         "showframe": false
        },
        "template": {
         "data": {
          "bar": [
           {
            "error_x": {
             "color": "#2a3f5f"
            },
            "error_y": {
             "color": "#2a3f5f"
            },
            "marker": {
             "line": {
              "color": "#E5ECF6",
              "width": 0.5
             }
            },
            "type": "bar"
           }
          ],
          "barpolar": [
           {
            "marker": {
             "line": {
              "color": "#E5ECF6",
              "width": 0.5
             }
            },
            "type": "barpolar"
           }
          ],
          "carpet": [
           {
            "aaxis": {
             "endlinecolor": "#2a3f5f",
             "gridcolor": "white",
             "linecolor": "white",
             "minorgridcolor": "white",
             "startlinecolor": "#2a3f5f"
            },
            "baxis": {
             "endlinecolor": "#2a3f5f",
             "gridcolor": "white",
             "linecolor": "white",
             "minorgridcolor": "white",
             "startlinecolor": "#2a3f5f"
            },
            "type": "carpet"
           }
          ],
          "choropleth": [
           {
            "colorbar": {
             "outlinewidth": 0,
             "ticks": ""
            },
            "type": "choropleth"
           }
          ],
          "contour": [
           {
            "colorbar": {
             "outlinewidth": 0,
             "ticks": ""
            },
            "colorscale": [
             [
              0,
              "#0d0887"
             ],
             [
              0.1111111111111111,
              "#46039f"
             ],
             [
              0.2222222222222222,
              "#7201a8"
             ],
             [
              0.3333333333333333,
              "#9c179e"
             ],
             [
              0.4444444444444444,
              "#bd3786"
             ],
             [
              0.5555555555555556,
              "#d8576b"
             ],
             [
              0.6666666666666666,
              "#ed7953"
             ],
             [
              0.7777777777777778,
              "#fb9f3a"
             ],
             [
              0.8888888888888888,
              "#fdca26"
             ],
             [
              1,
              "#f0f921"
             ]
            ],
            "type": "contour"
           }
          ],
          "contourcarpet": [
           {
            "colorbar": {
             "outlinewidth": 0,
             "ticks": ""
            },
            "type": "contourcarpet"
           }
          ],
          "heatmap": [
           {
            "colorbar": {
             "outlinewidth": 0,
             "ticks": ""
            },
            "colorscale": [
             [
              0,
              "#0d0887"
             ],
             [
              0.1111111111111111,
              "#46039f"
             ],
             [
              0.2222222222222222,
              "#7201a8"
             ],
             [
              0.3333333333333333,
              "#9c179e"
             ],
             [
              0.4444444444444444,
              "#bd3786"
             ],
             [
              0.5555555555555556,
              "#d8576b"
             ],
             [
              0.6666666666666666,
              "#ed7953"
             ],
             [
              0.7777777777777778,
              "#fb9f3a"
             ],
             [
              0.8888888888888888,
              "#fdca26"
             ],
             [
              1,
              "#f0f921"
             ]
            ],
            "type": "heatmap"
           }
          ],
          "heatmapgl": [
           {
            "colorbar": {
             "outlinewidth": 0,
             "ticks": ""
            },
            "colorscale": [
             [
              0,
              "#0d0887"
             ],
             [
              0.1111111111111111,
              "#46039f"
             ],
             [
              0.2222222222222222,
              "#7201a8"
             ],
             [
              0.3333333333333333,
              "#9c179e"
             ],
             [
              0.4444444444444444,
              "#bd3786"
             ],
             [
              0.5555555555555556,
              "#d8576b"
             ],
             [
              0.6666666666666666,
              "#ed7953"
             ],
             [
              0.7777777777777778,
              "#fb9f3a"
             ],
             [
              0.8888888888888888,
              "#fdca26"
             ],
             [
              1,
              "#f0f921"
             ]
            ],
            "type": "heatmapgl"
           }
          ],
          "histogram": [
           {
            "marker": {
             "colorbar": {
              "outlinewidth": 0,
              "ticks": ""
             }
            },
            "type": "histogram"
           }
          ],
          "histogram2d": [
           {
            "colorbar": {
             "outlinewidth": 0,
             "ticks": ""
            },
            "colorscale": [
             [
              0,
              "#0d0887"
             ],
             [
              0.1111111111111111,
              "#46039f"
             ],
             [
              0.2222222222222222,
              "#7201a8"
             ],
             [
              0.3333333333333333,
              "#9c179e"
             ],
             [
              0.4444444444444444,
              "#bd3786"
             ],
             [
              0.5555555555555556,
              "#d8576b"
             ],
             [
              0.6666666666666666,
              "#ed7953"
             ],
             [
              0.7777777777777778,
              "#fb9f3a"
             ],
             [
              0.8888888888888888,
              "#fdca26"
             ],
             [
              1,
              "#f0f921"
             ]
            ],
            "type": "histogram2d"
           }
          ],
          "histogram2dcontour": [
           {
            "colorbar": {
             "outlinewidth": 0,
             "ticks": ""
            },
            "colorscale": [
             [
              0,
              "#0d0887"
             ],
             [
              0.1111111111111111,
              "#46039f"
             ],
             [
              0.2222222222222222,
              "#7201a8"
             ],
             [
              0.3333333333333333,
              "#9c179e"
             ],
             [
              0.4444444444444444,
              "#bd3786"
             ],
             [
              0.5555555555555556,
              "#d8576b"
             ],
             [
              0.6666666666666666,
              "#ed7953"
             ],
             [
              0.7777777777777778,
              "#fb9f3a"
             ],
             [
              0.8888888888888888,
              "#fdca26"
             ],
             [
              1,
              "#f0f921"
             ]
            ],
            "type": "histogram2dcontour"
           }
          ],
          "mesh3d": [
           {
            "colorbar": {
             "outlinewidth": 0,
             "ticks": ""
            },
            "type": "mesh3d"
           }
          ],
          "parcoords": [
           {
            "line": {
             "colorbar": {
              "outlinewidth": 0,
              "ticks": ""
             }
            },
            "type": "parcoords"
           }
          ],
          "pie": [
           {
            "automargin": true,
            "type": "pie"
           }
          ],
          "scatter": [
           {
            "marker": {
             "colorbar": {
              "outlinewidth": 0,
              "ticks": ""
             }
            },
            "type": "scatter"
           }
          ],
          "scatter3d": [
           {
            "line": {
             "colorbar": {
              "outlinewidth": 0,
              "ticks": ""
             }
            },
            "marker": {
             "colorbar": {
              "outlinewidth": 0,
              "ticks": ""
             }
            },
            "type": "scatter3d"
           }
          ],
          "scattercarpet": [
           {
            "marker": {
             "colorbar": {
              "outlinewidth": 0,
              "ticks": ""
             }
            },
            "type": "scattercarpet"
           }
          ],
          "scattergeo": [
           {
            "marker": {
             "colorbar": {
              "outlinewidth": 0,
              "ticks": ""
             }
            },
            "type": "scattergeo"
           }
          ],
          "scattergl": [
           {
            "marker": {
             "colorbar": {
              "outlinewidth": 0,
              "ticks": ""
             }
            },
            "type": "scattergl"
           }
          ],
          "scattermapbox": [
           {
            "marker": {
             "colorbar": {
              "outlinewidth": 0,
              "ticks": ""
             }
            },
            "type": "scattermapbox"
           }
          ],
          "scatterpolar": [
           {
            "marker": {
             "colorbar": {
              "outlinewidth": 0,
              "ticks": ""
             }
            },
            "type": "scatterpolar"
           }
          ],
          "scatterpolargl": [
           {
            "marker": {
             "colorbar": {
              "outlinewidth": 0,
              "ticks": ""
             }
            },
            "type": "scatterpolargl"
           }
          ],
          "scatterternary": [
           {
            "marker": {
             "colorbar": {
              "outlinewidth": 0,
              "ticks": ""
             }
            },
            "type": "scatterternary"
           }
          ],
          "surface": [
           {
            "colorbar": {
             "outlinewidth": 0,
             "ticks": ""
            },
            "colorscale": [
             [
              0,
              "#0d0887"
             ],
             [
              0.1111111111111111,
              "#46039f"
             ],
             [
              0.2222222222222222,
              "#7201a8"
             ],
             [
              0.3333333333333333,
              "#9c179e"
             ],
             [
              0.4444444444444444,
              "#bd3786"
             ],
             [
              0.5555555555555556,
              "#d8576b"
             ],
             [
              0.6666666666666666,
              "#ed7953"
             ],
             [
              0.7777777777777778,
              "#fb9f3a"
             ],
             [
              0.8888888888888888,
              "#fdca26"
             ],
             [
              1,
              "#f0f921"
             ]
            ],
            "type": "surface"
           }
          ],
          "table": [
           {
            "cells": {
             "fill": {
              "color": "#EBF0F8"
             },
             "line": {
              "color": "white"
             }
            },
            "header": {
             "fill": {
              "color": "#C8D4E3"
             },
             "line": {
              "color": "white"
             }
            },
            "type": "table"
           }
          ]
         },
         "layout": {
          "annotationdefaults": {
           "arrowcolor": "#2a3f5f",
           "arrowhead": 0,
           "arrowwidth": 1
          },
          "coloraxis": {
           "colorbar": {
            "outlinewidth": 0,
            "ticks": ""
           }
          },
          "colorscale": {
           "diverging": [
            [
             0,
             "#8e0152"
            ],
            [
             0.1,
             "#c51b7d"
            ],
            [
             0.2,
             "#de77ae"
            ],
            [
             0.3,
             "#f1b6da"
            ],
            [
             0.4,
             "#fde0ef"
            ],
            [
             0.5,
             "#f7f7f7"
            ],
            [
             0.6,
             "#e6f5d0"
            ],
            [
             0.7,
             "#b8e186"
            ],
            [
             0.8,
             "#7fbc41"
            ],
            [
             0.9,
             "#4d9221"
            ],
            [
             1,
             "#276419"
            ]
           ],
           "sequential": [
            [
             0,
             "#0d0887"
            ],
            [
             0.1111111111111111,
             "#46039f"
            ],
            [
             0.2222222222222222,
             "#7201a8"
            ],
            [
             0.3333333333333333,
             "#9c179e"
            ],
            [
             0.4444444444444444,
             "#bd3786"
            ],
            [
             0.5555555555555556,
             "#d8576b"
            ],
            [
             0.6666666666666666,
             "#ed7953"
            ],
            [
             0.7777777777777778,
             "#fb9f3a"
            ],
            [
             0.8888888888888888,
             "#fdca26"
            ],
            [
             1,
             "#f0f921"
            ]
           ],
           "sequentialminus": [
            [
             0,
             "#0d0887"
            ],
            [
             0.1111111111111111,
             "#46039f"
            ],
            [
             0.2222222222222222,
             "#7201a8"
            ],
            [
             0.3333333333333333,
             "#9c179e"
            ],
            [
             0.4444444444444444,
             "#bd3786"
            ],
            [
             0.5555555555555556,
             "#d8576b"
            ],
            [
             0.6666666666666666,
             "#ed7953"
            ],
            [
             0.7777777777777778,
             "#fb9f3a"
            ],
            [
             0.8888888888888888,
             "#fdca26"
            ],
            [
             1,
             "#f0f921"
            ]
           ]
          },
          "colorway": [
           "#636efa",
           "#EF553B",
           "#00cc96",
           "#ab63fa",
           "#FFA15A",
           "#19d3f3",
           "#FF6692",
           "#B6E880",
           "#FF97FF",
           "#FECB52"
          ],
          "font": {
           "color": "#2a3f5f"
          },
          "geo": {
           "bgcolor": "white",
           "lakecolor": "white",
           "landcolor": "#E5ECF6",
           "showlakes": true,
           "showland": true,
           "subunitcolor": "white"
          },
          "hoverlabel": {
           "align": "left"
          },
          "hovermode": "closest",
          "mapbox": {
           "style": "light"
          },
          "paper_bgcolor": "white",
          "plot_bgcolor": "#E5ECF6",
          "polar": {
           "angularaxis": {
            "gridcolor": "white",
            "linecolor": "white",
            "ticks": ""
           },
           "bgcolor": "#E5ECF6",
           "radialaxis": {
            "gridcolor": "white",
            "linecolor": "white",
            "ticks": ""
           }
          },
          "scene": {
           "xaxis": {
            "backgroundcolor": "#E5ECF6",
            "gridcolor": "white",
            "gridwidth": 2,
            "linecolor": "white",
            "showbackground": true,
            "ticks": "",
            "zerolinecolor": "white"
           },
           "yaxis": {
            "backgroundcolor": "#E5ECF6",
            "gridcolor": "white",
            "gridwidth": 2,
            "linecolor": "white",
            "showbackground": true,
            "ticks": "",
            "zerolinecolor": "white"
           },
           "zaxis": {
            "backgroundcolor": "#E5ECF6",
            "gridcolor": "white",
            "gridwidth": 2,
            "linecolor": "white",
            "showbackground": true,
            "ticks": "",
            "zerolinecolor": "white"
           }
          },
          "shapedefaults": {
           "line": {
            "color": "#2a3f5f"
           }
          },
          "ternary": {
           "aaxis": {
            "gridcolor": "white",
            "linecolor": "white",
            "ticks": ""
           },
           "baxis": {
            "gridcolor": "white",
            "linecolor": "white",
            "ticks": ""
           },
           "bgcolor": "#E5ECF6",
           "caxis": {
            "gridcolor": "white",
            "linecolor": "white",
            "ticks": ""
           }
          },
          "title": {
           "x": 0.05
          },
          "xaxis": {
           "automargin": true,
           "gridcolor": "white",
           "linecolor": "white",
           "ticks": "",
           "title": {
            "standoff": 15
           },
           "zerolinecolor": "white",
           "zerolinewidth": 2
          },
          "yaxis": {
           "automargin": true,
           "gridcolor": "white",
           "linecolor": "white",
           "ticks": "",
           "title": {
            "standoff": 15
           },
           "zerolinecolor": "white",
           "zerolinewidth": 2
          }
         }
        },
        "title": {
         "text": "Prevalence of Moderate or Severe Food Insecurity in the Total Population in 2014-2016"
        }
       }
      },
      "text/html": [
       "<div>\n",
       "        \n",
       "        \n",
       "            <div id=\"9730d2d3-3bf2-4a49-941f-69132910c99c\" class=\"plotly-graph-div\" style=\"height:525px; width:100%;\"></div>\n",
       "            <script type=\"text/javascript\">\n",
       "                require([\"plotly\"], function(Plotly) {\n",
       "                    window.PLOTLYENV=window.PLOTLYENV || {};\n",
       "                    \n",
       "                if (document.getElementById(\"9730d2d3-3bf2-4a49-941f-69132910c99c\")) {\n",
       "                    Plotly.newPlot(\n",
       "                        '9730d2d3-3bf2-4a49-941f-69132910c99c',\n",
       "                        [{\"autocolorscale\": false, \"colorbar\": {\"ticksuffix\": \"%\", \"title\": {\"text\": \"Moderate/Severe Food Insecurity<br>Percentage of Population\"}}, \"colorscale\": [[0.0, \"rgb(247,251,255)\"], [0.125, \"rgb(222,235,247)\"], [0.25, \"rgb(198,219,239)\"], [0.375, \"rgb(158,202,225)\"], [0.5, \"rgb(107,174,214)\"], [0.625, \"rgb(66,146,198)\"], [0.75, \"rgb(33,113,181)\"], [0.875, \"rgb(8,81,156)\"], [1.0, \"rgb(8,48,107)\"]], \"locations\": [\"AFG\", \"ALB\", \"DZA\", \"AGO\", \"ARG\", \"AUS\", \"AUT\", \"AZE\", \"BGD\", \"BIH\", \"BWA\", \"BRA\", \"BGR\", \"BFA\", \"KHM\", \"CAN\", \"CHL\", null, \"CRI\", \"HRV\", null, \"DNK\", \"ECU\", \"EGY\", \"SLV\", \"EST\", null, \"ETH\", \"FIN\", \"FRA\", null, \"GEO\", \"DEU\", \"GHA\", \"GRC\", \"GTM\", \"GIN\", \"HND\", \"HUN\", \"ISL\", \"IDN\", null, \"IRL\", \"ISR\", \"ITA\", \"JPN\", \"KEN\", \"KWT\", \"LVA\", \"LBY\", \"LTU\", \"LUX\", \"MWI\", \"MYS\", \"MLT\", \"MRT\", \"MUS\", \"MEX\", \"MNG\", \"MNE\", \"NAM\", \"NPL\", \"NLD\", \"NZL\", \"NGA\", null, \"NOR\", \"PER\", \"PHL\", \"POL\", \"PRT\", null, null, \"ROU\", null, \"LCA\", \"SEN\", \"SRB\", \"SYC\", \"SLE\", \"SGP\", \"SVK\", \"SVN\", \"ZAF\", \"SSD\", \"ESP\", \"SDN\", \"SWE\", \"CHE\", \"THA\", \"TUN\", \"UGA\", \"UKR\", null, null, \"URY\", \"UZB\", \"ZMB\", \"ZWE\"], \"marker\": {\"line\": {\"color\": \"darkgray\", \"width\": 0.5}}, \"reversescale\": false, \"text\": [\"Afghanistan\", \"Albania\", \"Algeria\", \"Angola\", \"Argentina\", \"Australia\", \"Austria\", \"Azerbaijan\", \"Bangladesh\", \"Bosnia and Herzegovina\", \"Botswana\", \"Brazil\", \"Bulgaria\", \"Burkina Faso\", \"Cambodia\", \"Canada\", \"Chile\", null, \"Costa Rica\", \"Croatia\", null, \"Denmark\", \"Ecuador\", \"Egypt\", \"El Salvador\", \"Estonia\", null, \"Ethiopia\", \"Finland\", \"France\", null, \"Georgia\", \"Germany\", \"Ghana\", \"Greece\", \"Guatemala\", \"Guinea\", \"Honduras\", \"Hungary\", \"Iceland\", \"Indonesia\", null, \"Ireland\", \"Israel\", \"Italy\", \"Japan\", \"Kenya\", \"Kuwait\", \"Latvia\", \"Libya\", \"Lithuania\", \"Luxembourg\", \"Malawi\", \"Malaysia\", \"Malta\", \"Mauritania\", \"Mauritius\", \"Mexico\", \"Mongolia\", \"Montenegro\", \"Namibia\", \"Nepal\", \"Netherlands\", \"New Zealand\", \"Nigeria\", null, \"Norway\", \"Peru\", \"Philippines\", \"Poland\", \"Portugal\", null, null, \"Romania\", null, \"Saint Lucia\", \"Senegal\", \"Serbia\", \"Seychelles\", \"Sierra Leone\", \"Singapore\", \"Slovakia\", \"Slovenia\", \"South Africa\", \"South Sudan\", \"Spain\", \"Sudan\", \"Sweden\", \"Switzerland\", \"Thailand\", \"Tunisia\", \"Uganda\", \"Ukraine\", null, null, \"Uruguay\", \"Uzbekistan\", \"Zambia\", \"Zimbabwe\"], \"type\": \"choropleth\", \"z\": [45.1, 38.8, 22.9, 66.5, 19.2, 10.8, 5.5, 5.9, 32.2, 9.6, 45.9, 18.3, 14.9, 41.8, 48.9, 5.0, 10.8, 82.0, 12.2, 6.5, 5.8, 5.9, 20.7, 27.8, 42.2, 9.5, 62.6, 56.2, 9.3, 6.8, 52.7, 31.8, 4.1, 49.3, 15.8, 42.7, 72.5, 41.6, 11.3, 6.4, 6.0, 48.0, 8.9, 11.0, 8.6, 2.6, 53.0, 12.6, 9.9, 29.1, 15.3, 4.7, 81.9, 17.4, 5.9, 26.3, 13.0, 25.6, 21.0, 12.6, 53.2, 29.5, 5.7, 10.0, 36.5, 15.1, 4.8, 37.2, 41.2, 8.9, 14.7, 4.8, 19.3, 19.3, 8.2, 22.2, 39.3, 11.4, 14.3, 78.4, 2.8, 6.2, 12.3, 42.9, 85.1, 7.1, 41.4, 4.5, 4.8, 15.1, 18.2, 58.0, 19.8, 6.3, 10.5, 21.6, 11.2, 48.8, 64.7]}],\n",
       "                        {\"geo\": {\"projection\": {\"type\": \"equirectangular\"}, \"showcoastlines\": false, \"showframe\": false}, \"template\": {\"data\": {\"bar\": [{\"error_x\": {\"color\": \"#2a3f5f\"}, \"error_y\": {\"color\": \"#2a3f5f\"}, \"marker\": {\"line\": {\"color\": \"#E5ECF6\", \"width\": 0.5}}, \"type\": \"bar\"}], \"barpolar\": [{\"marker\": {\"line\": {\"color\": \"#E5ECF6\", \"width\": 0.5}}, \"type\": \"barpolar\"}], \"carpet\": [{\"aaxis\": {\"endlinecolor\": \"#2a3f5f\", \"gridcolor\": \"white\", \"linecolor\": \"white\", \"minorgridcolor\": \"white\", \"startlinecolor\": \"#2a3f5f\"}, \"baxis\": {\"endlinecolor\": \"#2a3f5f\", \"gridcolor\": \"white\", \"linecolor\": \"white\", \"minorgridcolor\": \"white\", \"startlinecolor\": \"#2a3f5f\"}, \"type\": \"carpet\"}], \"choropleth\": [{\"colorbar\": {\"outlinewidth\": 0, \"ticks\": \"\"}, \"type\": \"choropleth\"}], \"contour\": [{\"colorbar\": {\"outlinewidth\": 0, \"ticks\": \"\"}, \"colorscale\": [[0.0, \"#0d0887\"], [0.1111111111111111, \"#46039f\"], [0.2222222222222222, \"#7201a8\"], [0.3333333333333333, \"#9c179e\"], [0.4444444444444444, \"#bd3786\"], [0.5555555555555556, \"#d8576b\"], [0.6666666666666666, \"#ed7953\"], [0.7777777777777778, \"#fb9f3a\"], [0.8888888888888888, \"#fdca26\"], [1.0, \"#f0f921\"]], \"type\": \"contour\"}], \"contourcarpet\": [{\"colorbar\": {\"outlinewidth\": 0, \"ticks\": \"\"}, \"type\": \"contourcarpet\"}], \"heatmap\": [{\"colorbar\": {\"outlinewidth\": 0, \"ticks\": \"\"}, \"colorscale\": [[0.0, \"#0d0887\"], [0.1111111111111111, \"#46039f\"], [0.2222222222222222, \"#7201a8\"], [0.3333333333333333, \"#9c179e\"], [0.4444444444444444, \"#bd3786\"], [0.5555555555555556, \"#d8576b\"], [0.6666666666666666, \"#ed7953\"], [0.7777777777777778, \"#fb9f3a\"], [0.8888888888888888, \"#fdca26\"], [1.0, \"#f0f921\"]], \"type\": \"heatmap\"}], \"heatmapgl\": [{\"colorbar\": {\"outlinewidth\": 0, \"ticks\": \"\"}, \"colorscale\": [[0.0, \"#0d0887\"], [0.1111111111111111, \"#46039f\"], [0.2222222222222222, \"#7201a8\"], [0.3333333333333333, \"#9c179e\"], [0.4444444444444444, \"#bd3786\"], [0.5555555555555556, \"#d8576b\"], [0.6666666666666666, \"#ed7953\"], [0.7777777777777778, \"#fb9f3a\"], [0.8888888888888888, \"#fdca26\"], [1.0, \"#f0f921\"]], \"type\": \"heatmapgl\"}], \"histogram\": [{\"marker\": {\"colorbar\": {\"outlinewidth\": 0, \"ticks\": \"\"}}, \"type\": \"histogram\"}], \"histogram2d\": [{\"colorbar\": {\"outlinewidth\": 0, \"ticks\": \"\"}, \"colorscale\": [[0.0, \"#0d0887\"], [0.1111111111111111, \"#46039f\"], [0.2222222222222222, \"#7201a8\"], [0.3333333333333333, \"#9c179e\"], [0.4444444444444444, \"#bd3786\"], [0.5555555555555556, \"#d8576b\"], [0.6666666666666666, \"#ed7953\"], [0.7777777777777778, \"#fb9f3a\"], [0.8888888888888888, \"#fdca26\"], [1.0, \"#f0f921\"]], \"type\": \"histogram2d\"}], \"histogram2dcontour\": [{\"colorbar\": {\"outlinewidth\": 0, \"ticks\": \"\"}, \"colorscale\": [[0.0, \"#0d0887\"], [0.1111111111111111, \"#46039f\"], [0.2222222222222222, \"#7201a8\"], [0.3333333333333333, \"#9c179e\"], [0.4444444444444444, \"#bd3786\"], [0.5555555555555556, \"#d8576b\"], [0.6666666666666666, \"#ed7953\"], [0.7777777777777778, \"#fb9f3a\"], [0.8888888888888888, \"#fdca26\"], [1.0, \"#f0f921\"]], \"type\": \"histogram2dcontour\"}], \"mesh3d\": [{\"colorbar\": {\"outlinewidth\": 0, \"ticks\": \"\"}, \"type\": \"mesh3d\"}], \"parcoords\": [{\"line\": {\"colorbar\": {\"outlinewidth\": 0, \"ticks\": \"\"}}, \"type\": \"parcoords\"}], \"pie\": [{\"automargin\": true, \"type\": \"pie\"}], \"scatter\": [{\"marker\": {\"colorbar\": {\"outlinewidth\": 0, \"ticks\": \"\"}}, \"type\": \"scatter\"}], \"scatter3d\": [{\"line\": {\"colorbar\": {\"outlinewidth\": 0, \"ticks\": \"\"}}, \"marker\": {\"colorbar\": {\"outlinewidth\": 0, \"ticks\": \"\"}}, \"type\": \"scatter3d\"}], \"scattercarpet\": [{\"marker\": {\"colorbar\": {\"outlinewidth\": 0, \"ticks\": \"\"}}, \"type\": \"scattercarpet\"}], \"scattergeo\": [{\"marker\": {\"colorbar\": {\"outlinewidth\": 0, \"ticks\": \"\"}}, \"type\": \"scattergeo\"}], \"scattergl\": [{\"marker\": {\"colorbar\": {\"outlinewidth\": 0, \"ticks\": \"\"}}, \"type\": \"scattergl\"}], \"scattermapbox\": [{\"marker\": {\"colorbar\": {\"outlinewidth\": 0, \"ticks\": \"\"}}, \"type\": \"scattermapbox\"}], \"scatterpolar\": [{\"marker\": {\"colorbar\": {\"outlinewidth\": 0, \"ticks\": \"\"}}, \"type\": \"scatterpolar\"}], \"scatterpolargl\": [{\"marker\": {\"colorbar\": {\"outlinewidth\": 0, \"ticks\": \"\"}}, \"type\": \"scatterpolargl\"}], \"scatterternary\": [{\"marker\": {\"colorbar\": {\"outlinewidth\": 0, \"ticks\": \"\"}}, \"type\": \"scatterternary\"}], \"surface\": [{\"colorbar\": {\"outlinewidth\": 0, \"ticks\": \"\"}, \"colorscale\": [[0.0, \"#0d0887\"], [0.1111111111111111, \"#46039f\"], [0.2222222222222222, \"#7201a8\"], [0.3333333333333333, \"#9c179e\"], [0.4444444444444444, \"#bd3786\"], [0.5555555555555556, \"#d8576b\"], [0.6666666666666666, \"#ed7953\"], [0.7777777777777778, \"#fb9f3a\"], [0.8888888888888888, \"#fdca26\"], [1.0, \"#f0f921\"]], \"type\": \"surface\"}], \"table\": [{\"cells\": {\"fill\": {\"color\": \"#EBF0F8\"}, \"line\": {\"color\": \"white\"}}, \"header\": {\"fill\": {\"color\": \"#C8D4E3\"}, \"line\": {\"color\": \"white\"}}, \"type\": \"table\"}]}, \"layout\": {\"annotationdefaults\": {\"arrowcolor\": \"#2a3f5f\", \"arrowhead\": 0, \"arrowwidth\": 1}, \"coloraxis\": {\"colorbar\": {\"outlinewidth\": 0, \"ticks\": \"\"}}, \"colorscale\": {\"diverging\": [[0, \"#8e0152\"], [0.1, \"#c51b7d\"], [0.2, \"#de77ae\"], [0.3, \"#f1b6da\"], [0.4, \"#fde0ef\"], [0.5, \"#f7f7f7\"], [0.6, \"#e6f5d0\"], [0.7, \"#b8e186\"], [0.8, \"#7fbc41\"], [0.9, \"#4d9221\"], [1, \"#276419\"]], \"sequential\": [[0.0, \"#0d0887\"], [0.1111111111111111, \"#46039f\"], [0.2222222222222222, \"#7201a8\"], [0.3333333333333333, \"#9c179e\"], [0.4444444444444444, \"#bd3786\"], [0.5555555555555556, \"#d8576b\"], [0.6666666666666666, \"#ed7953\"], [0.7777777777777778, \"#fb9f3a\"], [0.8888888888888888, \"#fdca26\"], [1.0, \"#f0f921\"]], \"sequentialminus\": [[0.0, \"#0d0887\"], [0.1111111111111111, \"#46039f\"], [0.2222222222222222, \"#7201a8\"], [0.3333333333333333, \"#9c179e\"], [0.4444444444444444, \"#bd3786\"], [0.5555555555555556, \"#d8576b\"], [0.6666666666666666, \"#ed7953\"], [0.7777777777777778, \"#fb9f3a\"], [0.8888888888888888, \"#fdca26\"], [1.0, \"#f0f921\"]]}, \"colorway\": [\"#636efa\", \"#EF553B\", \"#00cc96\", \"#ab63fa\", \"#FFA15A\", \"#19d3f3\", \"#FF6692\", \"#B6E880\", \"#FF97FF\", \"#FECB52\"], \"font\": {\"color\": \"#2a3f5f\"}, \"geo\": {\"bgcolor\": \"white\", \"lakecolor\": \"white\", \"landcolor\": \"#E5ECF6\", \"showlakes\": true, \"showland\": true, \"subunitcolor\": \"white\"}, \"hoverlabel\": {\"align\": \"left\"}, \"hovermode\": \"closest\", \"mapbox\": {\"style\": \"light\"}, \"paper_bgcolor\": \"white\", \"plot_bgcolor\": \"#E5ECF6\", \"polar\": {\"angularaxis\": {\"gridcolor\": \"white\", \"linecolor\": \"white\", \"ticks\": \"\"}, \"bgcolor\": \"#E5ECF6\", \"radialaxis\": {\"gridcolor\": \"white\", \"linecolor\": \"white\", \"ticks\": \"\"}}, \"scene\": {\"xaxis\": {\"backgroundcolor\": \"#E5ECF6\", \"gridcolor\": \"white\", \"gridwidth\": 2, \"linecolor\": \"white\", \"showbackground\": true, \"ticks\": \"\", \"zerolinecolor\": \"white\"}, \"yaxis\": {\"backgroundcolor\": \"#E5ECF6\", \"gridcolor\": \"white\", \"gridwidth\": 2, \"linecolor\": \"white\", \"showbackground\": true, \"ticks\": \"\", \"zerolinecolor\": \"white\"}, \"zaxis\": {\"backgroundcolor\": \"#E5ECF6\", \"gridcolor\": \"white\", \"gridwidth\": 2, \"linecolor\": \"white\", \"showbackground\": true, \"ticks\": \"\", \"zerolinecolor\": \"white\"}}, \"shapedefaults\": {\"line\": {\"color\": \"#2a3f5f\"}}, \"ternary\": {\"aaxis\": {\"gridcolor\": \"white\", \"linecolor\": \"white\", \"ticks\": \"\"}, \"baxis\": {\"gridcolor\": \"white\", \"linecolor\": \"white\", \"ticks\": \"\"}, \"bgcolor\": \"#E5ECF6\", \"caxis\": {\"gridcolor\": \"white\", \"linecolor\": \"white\", \"ticks\": \"\"}}, \"title\": {\"x\": 0.05}, \"xaxis\": {\"automargin\": true, \"gridcolor\": \"white\", \"linecolor\": \"white\", \"ticks\": \"\", \"title\": {\"standoff\": 15}, \"zerolinecolor\": \"white\", \"zerolinewidth\": 2}, \"yaxis\": {\"automargin\": true, \"gridcolor\": \"white\", \"linecolor\": \"white\", \"ticks\": \"\", \"title\": {\"standoff\": 15}, \"zerolinecolor\": \"white\", \"zerolinewidth\": 2}}}, \"title\": {\"text\": \"Prevalence of Moderate or Severe Food Insecurity in the Total Population in 2014-2016\"}},\n",
       "                        {\"responsive\": true}\n",
       "                    ).then(function(){\n",
       "                            \n",
       "var gd = document.getElementById('9730d2d3-3bf2-4a49-941f-69132910c99c');\n",
       "var x = new MutationObserver(function (mutations, observer) {{\n",
       "        var display = window.getComputedStyle(gd).display;\n",
       "        if (!display || display === 'none') {{\n",
       "            console.log([gd, 'removed!']);\n",
       "            Plotly.purge(gd);\n",
       "            observer.disconnect();\n",
       "        }}\n",
       "}});\n",
       "\n",
       "// Listen for the removal of the full notebook cells\n",
       "var notebookContainer = gd.closest('#notebook-container');\n",
       "if (notebookContainer) {{\n",
       "    x.observe(notebookContainer, {childList: true});\n",
       "}}\n",
       "\n",
       "// Listen for the clearing of the current output cell\n",
       "var outputEl = gd.closest('.output');\n",
       "if (outputEl) {{\n",
       "    x.observe(outputEl, {childList: true});\n",
       "}}\n",
       "\n",
       "                        })\n",
       "                };\n",
       "                });\n",
       "            </script>\n",
       "        </div>"
      ]
     },
     "metadata": {},
     "output_type": "display_data"
    }
   ],
   "source": [
    "fig = go.Figure(data=go.Choropleth(\n",
    "    locations = df4['CODE'],\n",
    "    z = df4['Value'],\n",
    "    text = df4['COUNTRY'],\n",
    "    colorscale = 'Blues',\n",
    "    autocolorscale=False,\n",
    "    reversescale=False,\n",
    "    marker_line_color='darkgray',\n",
    "    marker_line_width=0.5,\n",
    "    colorbar_ticksuffix = '%',\n",
    "    colorbar_title = 'Moderate/Severe Food Insecurity<br>Percentage of Population',\n",
    "))\n",
    "\n",
    "fig.update_layout(\n",
    "    title_text='Prevalence of Moderate or Severe Food Insecurity in the Total Population in 2014-2016',\n",
    "    geo=dict(\n",
    "        showframe=False,\n",
    "        showcoastlines=False,\n",
    "        projection_type='equirectangular'\n",
    "    )\n",
    ")\n",
    "\n",
    "fig.show()"
   ]
  },
  {
   "cell_type": "code",
   "execution_count": 69,
   "id": "timely-kingdom",
   "metadata": {},
   "outputs": [],
   "source": [
    "gdp_v_fs = pd.DataFrame()\n",
    "gdp_v_fs['Country'] = food_security['Area'].unique()\n"
   ]
  },
  {
   "cell_type": "code",
   "execution_count": 70,
   "id": "governing-latest",
   "metadata": {},
   "outputs": [
    {
     "data": {
      "text/html": [
       "<div>\n",
       "<style scoped>\n",
       "    .dataframe tbody tr th:only-of-type {\n",
       "        vertical-align: middle;\n",
       "    }\n",
       "\n",
       "    .dataframe tbody tr th {\n",
       "        vertical-align: top;\n",
       "    }\n",
       "\n",
       "    .dataframe thead th {\n",
       "        text-align: right;\n",
       "    }\n",
       "</style>\n",
       "<table border=\"1\" class=\"dataframe\">\n",
       "  <thead>\n",
       "    <tr style=\"text-align: right;\">\n",
       "      <th></th>\n",
       "      <th>Domain Code</th>\n",
       "      <th>Domain</th>\n",
       "      <th>Area Code (FAO)</th>\n",
       "      <th>Area</th>\n",
       "      <th>Element Code</th>\n",
       "      <th>Element</th>\n",
       "      <th>Item Code</th>\n",
       "      <th>Item</th>\n",
       "      <th>Year Code</th>\n",
       "      <th>Year</th>\n",
       "      <th>Unit</th>\n",
       "      <th>Value</th>\n",
       "      <th>Flag</th>\n",
       "      <th>Flag Description</th>\n",
       "      <th>Note</th>\n",
       "      <th>COUNTRY</th>\n",
       "      <th>GDP (BILLIONS)</th>\n",
       "      <th>CODE</th>\n",
       "    </tr>\n",
       "  </thead>\n",
       "  <tbody>\n",
       "    <tr>\n",
       "      <th>124</th>\n",
       "      <td>FS</td>\n",
       "      <td>Suite of Food Security Indicators</td>\n",
       "      <td>2</td>\n",
       "      <td>Afghanistan</td>\n",
       "      <td>6126</td>\n",
       "      <td>Value</td>\n",
       "      <td>22013</td>\n",
       "      <td>Gross domestic product per capita, PPP, dissem...</td>\n",
       "      <td>2020</td>\n",
       "      <td>2020</td>\n",
       "      <td>I$</td>\n",
       "      <td>1979.0</td>\n",
       "      <td>X</td>\n",
       "      <td>International reliable sources</td>\n",
       "      <td>NaN</td>\n",
       "      <td>Afghanistan</td>\n",
       "      <td>21.71</td>\n",
       "      <td>AFG</td>\n",
       "    </tr>\n",
       "    <tr>\n",
       "      <th>675</th>\n",
       "      <td>FS</td>\n",
       "      <td>Suite of Food Security Indicators</td>\n",
       "      <td>3</td>\n",
       "      <td>Albania</td>\n",
       "      <td>6126</td>\n",
       "      <td>Value</td>\n",
       "      <td>22013</td>\n",
       "      <td>Gross domestic product per capita, PPP, dissem...</td>\n",
       "      <td>2020</td>\n",
       "      <td>2020</td>\n",
       "      <td>I$</td>\n",
       "      <td>13295.4</td>\n",
       "      <td>X</td>\n",
       "      <td>International reliable sources</td>\n",
       "      <td>NaN</td>\n",
       "      <td>Albania</td>\n",
       "      <td>13.40</td>\n",
       "      <td>ALB</td>\n",
       "    </tr>\n",
       "    <tr>\n",
       "      <th>1274</th>\n",
       "      <td>FS</td>\n",
       "      <td>Suite of Food Security Indicators</td>\n",
       "      <td>4</td>\n",
       "      <td>Algeria</td>\n",
       "      <td>6126</td>\n",
       "      <td>Value</td>\n",
       "      <td>22013</td>\n",
       "      <td>Gross domestic product per capita, PPP, dissem...</td>\n",
       "      <td>2020</td>\n",
       "      <td>2020</td>\n",
       "      <td>I$</td>\n",
       "      <td>10681.7</td>\n",
       "      <td>X</td>\n",
       "      <td>International reliable sources</td>\n",
       "      <td>NaN</td>\n",
       "      <td>Algeria</td>\n",
       "      <td>227.80</td>\n",
       "      <td>DZA</td>\n",
       "    </tr>\n",
       "    <tr>\n",
       "      <th>2129</th>\n",
       "      <td>FS</td>\n",
       "      <td>Suite of Food Security Indicators</td>\n",
       "      <td>7</td>\n",
       "      <td>Angola</td>\n",
       "      <td>6126</td>\n",
       "      <td>Value</td>\n",
       "      <td>22013</td>\n",
       "      <td>Gross domestic product per capita, PPP, dissem...</td>\n",
       "      <td>2020</td>\n",
       "      <td>2020</td>\n",
       "      <td>I$</td>\n",
       "      <td>6198.1</td>\n",
       "      <td>X</td>\n",
       "      <td>International reliable sources</td>\n",
       "      <td>NaN</td>\n",
       "      <td>Angola</td>\n",
       "      <td>131.40</td>\n",
       "      <td>AGO</td>\n",
       "    </tr>\n",
       "    <tr>\n",
       "      <th>2655</th>\n",
       "      <td>FS</td>\n",
       "      <td>Suite of Food Security Indicators</td>\n",
       "      <td>8</td>\n",
       "      <td>Antigua and Barbuda</td>\n",
       "      <td>6126</td>\n",
       "      <td>Value</td>\n",
       "      <td>22013</td>\n",
       "      <td>Gross domestic product per capita, PPP, dissem...</td>\n",
       "      <td>2020</td>\n",
       "      <td>2020</td>\n",
       "      <td>I$</td>\n",
       "      <td>17956.3</td>\n",
       "      <td>X</td>\n",
       "      <td>International reliable sources</td>\n",
       "      <td>NaN</td>\n",
       "      <td>Antigua and Barbuda</td>\n",
       "      <td>1.24</td>\n",
       "      <td>ATG</td>\n",
       "    </tr>\n",
       "    <tr>\n",
       "      <th>...</th>\n",
       "      <td>...</td>\n",
       "      <td>...</td>\n",
       "      <td>...</td>\n",
       "      <td>...</td>\n",
       "      <td>...</td>\n",
       "      <td>...</td>\n",
       "      <td>...</td>\n",
       "      <td>...</td>\n",
       "      <td>...</td>\n",
       "      <td>...</td>\n",
       "      <td>...</td>\n",
       "      <td>...</td>\n",
       "      <td>...</td>\n",
       "      <td>...</td>\n",
       "      <td>...</td>\n",
       "      <td>...</td>\n",
       "      <td>...</td>\n",
       "      <td>...</td>\n",
       "    </tr>\n",
       "    <tr>\n",
       "      <th>97348</th>\n",
       "      <td>FS</td>\n",
       "      <td>Suite of Food Security Indicators</td>\n",
       "      <td>235</td>\n",
       "      <td>Uzbekistan</td>\n",
       "      <td>6126</td>\n",
       "      <td>Value</td>\n",
       "      <td>22013</td>\n",
       "      <td>Gross domestic product per capita, PPP, dissem...</td>\n",
       "      <td>2020</td>\n",
       "      <td>2020</td>\n",
       "      <td>I$</td>\n",
       "      <td>6994.2</td>\n",
       "      <td>X</td>\n",
       "      <td>International reliable sources</td>\n",
       "      <td>NaN</td>\n",
       "      <td>Uzbekistan</td>\n",
       "      <td>63.08</td>\n",
       "      <td>UZB</td>\n",
       "    </tr>\n",
       "    <tr>\n",
       "      <th>97898</th>\n",
       "      <td>FS</td>\n",
       "      <td>Suite of Food Security Indicators</td>\n",
       "      <td>155</td>\n",
       "      <td>Vanuatu</td>\n",
       "      <td>6126</td>\n",
       "      <td>Value</td>\n",
       "      <td>22013</td>\n",
       "      <td>Gross domestic product per capita, PPP, dissem...</td>\n",
       "      <td>2020</td>\n",
       "      <td>2020</td>\n",
       "      <td>I$</td>\n",
       "      <td>2762.8</td>\n",
       "      <td>X</td>\n",
       "      <td>International reliable sources</td>\n",
       "      <td>NaN</td>\n",
       "      <td>Vanuatu</td>\n",
       "      <td>0.82</td>\n",
       "      <td>VUT</td>\n",
       "    </tr>\n",
       "    <tr>\n",
       "      <th>98938</th>\n",
       "      <td>FS</td>\n",
       "      <td>Suite of Food Security Indicators</td>\n",
       "      <td>237</td>\n",
       "      <td>Viet Nam</td>\n",
       "      <td>6126</td>\n",
       "      <td>Value</td>\n",
       "      <td>22013</td>\n",
       "      <td>Gross domestic product per capita, PPP, dissem...</td>\n",
       "      <td>2020</td>\n",
       "      <td>2020</td>\n",
       "      <td>I$</td>\n",
       "      <td>8200.3</td>\n",
       "      <td>X</td>\n",
       "      <td>International reliable sources</td>\n",
       "      <td>NaN</td>\n",
       "      <td>NaN</td>\n",
       "      <td>NaN</td>\n",
       "      <td>NaN</td>\n",
       "    </tr>\n",
       "    <tr>\n",
       "      <th>99985</th>\n",
       "      <td>FS</td>\n",
       "      <td>Suite of Food Security Indicators</td>\n",
       "      <td>251</td>\n",
       "      <td>Zambia</td>\n",
       "      <td>6126</td>\n",
       "      <td>Value</td>\n",
       "      <td>22013</td>\n",
       "      <td>Gross domestic product per capita, PPP, dissem...</td>\n",
       "      <td>2020</td>\n",
       "      <td>2020</td>\n",
       "      <td>I$</td>\n",
       "      <td>3270.0</td>\n",
       "      <td>X</td>\n",
       "      <td>International reliable sources</td>\n",
       "      <td>NaN</td>\n",
       "      <td>Zambia</td>\n",
       "      <td>25.61</td>\n",
       "      <td>ZMB</td>\n",
       "    </tr>\n",
       "    <tr>\n",
       "      <th>100487</th>\n",
       "      <td>FS</td>\n",
       "      <td>Suite of Food Security Indicators</td>\n",
       "      <td>181</td>\n",
       "      <td>Zimbabwe</td>\n",
       "      <td>6126</td>\n",
       "      <td>Value</td>\n",
       "      <td>22013</td>\n",
       "      <td>Gross domestic product per capita, PPP, dissem...</td>\n",
       "      <td>2020</td>\n",
       "      <td>2020</td>\n",
       "      <td>I$</td>\n",
       "      <td>2744.7</td>\n",
       "      <td>X</td>\n",
       "      <td>International reliable sources</td>\n",
       "      <td>NaN</td>\n",
       "      <td>Zimbabwe</td>\n",
       "      <td>13.74</td>\n",
       "      <td>ZWE</td>\n",
       "    </tr>\n",
       "  </tbody>\n",
       "</table>\n",
       "<p>176 rows × 18 columns</p>\n",
       "</div>"
      ],
      "text/plain": [
       "       Domain Code                             Domain  Area Code (FAO)  \\\n",
       "124             FS  Suite of Food Security Indicators                2   \n",
       "675             FS  Suite of Food Security Indicators                3   \n",
       "1274            FS  Suite of Food Security Indicators                4   \n",
       "2129            FS  Suite of Food Security Indicators                7   \n",
       "2655            FS  Suite of Food Security Indicators                8   \n",
       "...            ...                                ...              ...   \n",
       "97348           FS  Suite of Food Security Indicators              235   \n",
       "97898           FS  Suite of Food Security Indicators              155   \n",
       "98938           FS  Suite of Food Security Indicators              237   \n",
       "99985           FS  Suite of Food Security Indicators              251   \n",
       "100487          FS  Suite of Food Security Indicators              181   \n",
       "\n",
       "                       Area  Element Code Element  Item Code  \\\n",
       "124             Afghanistan          6126   Value      22013   \n",
       "675                 Albania          6126   Value      22013   \n",
       "1274                Algeria          6126   Value      22013   \n",
       "2129                 Angola          6126   Value      22013   \n",
       "2655    Antigua and Barbuda          6126   Value      22013   \n",
       "...                     ...           ...     ...        ...   \n",
       "97348            Uzbekistan          6126   Value      22013   \n",
       "97898               Vanuatu          6126   Value      22013   \n",
       "98938              Viet Nam          6126   Value      22013   \n",
       "99985                Zambia          6126   Value      22013   \n",
       "100487             Zimbabwe          6126   Value      22013   \n",
       "\n",
       "                                                     Item  Year Code  Year  \\\n",
       "124     Gross domestic product per capita, PPP, dissem...       2020  2020   \n",
       "675     Gross domestic product per capita, PPP, dissem...       2020  2020   \n",
       "1274    Gross domestic product per capita, PPP, dissem...       2020  2020   \n",
       "2129    Gross domestic product per capita, PPP, dissem...       2020  2020   \n",
       "2655    Gross domestic product per capita, PPP, dissem...       2020  2020   \n",
       "...                                                   ...        ...   ...   \n",
       "97348   Gross domestic product per capita, PPP, dissem...       2020  2020   \n",
       "97898   Gross domestic product per capita, PPP, dissem...       2020  2020   \n",
       "98938   Gross domestic product per capita, PPP, dissem...       2020  2020   \n",
       "99985   Gross domestic product per capita, PPP, dissem...       2020  2020   \n",
       "100487  Gross domestic product per capita, PPP, dissem...       2020  2020   \n",
       "\n",
       "       Unit    Value Flag                Flag Description Note  \\\n",
       "124      I$   1979.0    X  International reliable sources  NaN   \n",
       "675      I$  13295.4    X  International reliable sources  NaN   \n",
       "1274     I$  10681.7    X  International reliable sources  NaN   \n",
       "2129     I$   6198.1    X  International reliable sources  NaN   \n",
       "2655     I$  17956.3    X  International reliable sources  NaN   \n",
       "...     ...      ...  ...                             ...  ...   \n",
       "97348    I$   6994.2    X  International reliable sources  NaN   \n",
       "97898    I$   2762.8    X  International reliable sources  NaN   \n",
       "98938    I$   8200.3    X  International reliable sources  NaN   \n",
       "99985    I$   3270.0    X  International reliable sources  NaN   \n",
       "100487   I$   2744.7    X  International reliable sources  NaN   \n",
       "\n",
       "                    COUNTRY  GDP (BILLIONS) CODE  \n",
       "124             Afghanistan           21.71  AFG  \n",
       "675                 Albania           13.40  ALB  \n",
       "1274                Algeria          227.80  DZA  \n",
       "2129                 Angola          131.40  AGO  \n",
       "2655    Antigua and Barbuda            1.24  ATG  \n",
       "...                     ...             ...  ...  \n",
       "97348            Uzbekistan           63.08  UZB  \n",
       "97898               Vanuatu            0.82  VUT  \n",
       "98938                   NaN             NaN  NaN  \n",
       "99985                Zambia           25.61  ZMB  \n",
       "100487             Zimbabwe           13.74  ZWE  \n",
       "\n",
       "[176 rows x 18 columns]"
      ]
     },
     "execution_count": 70,
     "metadata": {},
     "output_type": "execute_result"
    }
   ],
   "source": [
    "gdp = food_security[food_security['Item'] == 'Gross domestic product per capita, PPP, dissemination (constant 2011 international $)']\n",
    "gdp_2020 = gdp[gdp['Year'] == '2020']\n",
    "gdp_2020"
   ]
  },
  {
   "cell_type": "code",
   "execution_count": 71,
   "id": "quick-press",
   "metadata": {},
   "outputs": [
    {
     "data": {
      "text/html": [
       "<div>\n",
       "<style scoped>\n",
       "    .dataframe tbody tr th:only-of-type {\n",
       "        vertical-align: middle;\n",
       "    }\n",
       "\n",
       "    .dataframe tbody tr th {\n",
       "        vertical-align: top;\n",
       "    }\n",
       "\n",
       "    .dataframe thead th {\n",
       "        text-align: right;\n",
       "    }\n",
       "</style>\n",
       "<table border=\"1\" class=\"dataframe\">\n",
       "  <thead>\n",
       "    <tr style=\"text-align: right;\">\n",
       "      <th></th>\n",
       "      <th>Country</th>\n",
       "      <th>Domain Code_x</th>\n",
       "      <th>Domain_x</th>\n",
       "      <th>Area Code (FAO)_x</th>\n",
       "      <th>Area_x</th>\n",
       "      <th>Element Code_x</th>\n",
       "      <th>Element_x</th>\n",
       "      <th>Item Code_x</th>\n",
       "      <th>Item_x</th>\n",
       "      <th>Year Code_x</th>\n",
       "      <th>Year_x</th>\n",
       "      <th>Unit_x</th>\n",
       "      <th>GDP</th>\n",
       "      <th>Flag_x</th>\n",
       "      <th>Flag Description_x</th>\n",
       "      <th>Note_x</th>\n",
       "      <th>COUNTRY</th>\n",
       "      <th>GDP (BILLIONS)</th>\n",
       "      <th>CODE</th>\n",
       "      <th>Domain Code_y</th>\n",
       "      <th>Domain_y</th>\n",
       "      <th>Area Code (FAO)_y</th>\n",
       "      <th>Area_y</th>\n",
       "      <th>Element Code_y</th>\n",
       "      <th>Element_y</th>\n",
       "      <th>Item Code_y</th>\n",
       "      <th>Item_y</th>\n",
       "      <th>Year Code_y</th>\n",
       "      <th>Year_y</th>\n",
       "      <th>Unit_y</th>\n",
       "      <th>PSFI</th>\n",
       "      <th>Flag_y</th>\n",
       "      <th>Flag Description_y</th>\n",
       "      <th>Note_y</th>\n",
       "    </tr>\n",
       "  </thead>\n",
       "  <tbody>\n",
       "    <tr>\n",
       "      <th>0</th>\n",
       "      <td>Afghanistan</td>\n",
       "      <td>FS</td>\n",
       "      <td>Suite of Food Security Indicators</td>\n",
       "      <td>2.0</td>\n",
       "      <td>Afghanistan</td>\n",
       "      <td>6126.0</td>\n",
       "      <td>Value</td>\n",
       "      <td>22013.0</td>\n",
       "      <td>Gross domestic product per capita, PPP, dissem...</td>\n",
       "      <td>2020.0</td>\n",
       "      <td>2020</td>\n",
       "      <td>I$</td>\n",
       "      <td>1979.0</td>\n",
       "      <td>X</td>\n",
       "      <td>International reliable sources</td>\n",
       "      <td>NaN</td>\n",
       "      <td>Afghanistan</td>\n",
       "      <td>21.71</td>\n",
       "      <td>AFG</td>\n",
       "      <td>FS</td>\n",
       "      <td>Suite of Food Security Indicators</td>\n",
       "      <td>2.0</td>\n",
       "      <td>Afghanistan</td>\n",
       "      <td>6121.0</td>\n",
       "      <td>Value</td>\n",
       "      <td>210401.0</td>\n",
       "      <td>Prevalence of severe food insecurity in the to...</td>\n",
       "      <td>20182020.0</td>\n",
       "      <td>2018-2020</td>\n",
       "      <td>%</td>\n",
       "      <td>19.8</td>\n",
       "      <td>NaN</td>\n",
       "      <td>Official data</td>\n",
       "      <td>Official estimate integrated with FAO data</td>\n",
       "    </tr>\n",
       "    <tr>\n",
       "      <th>1</th>\n",
       "      <td>Albania</td>\n",
       "      <td>FS</td>\n",
       "      <td>Suite of Food Security Indicators</td>\n",
       "      <td>3.0</td>\n",
       "      <td>Albania</td>\n",
       "      <td>6126.0</td>\n",
       "      <td>Value</td>\n",
       "      <td>22013.0</td>\n",
       "      <td>Gross domestic product per capita, PPP, dissem...</td>\n",
       "      <td>2020.0</td>\n",
       "      <td>2020</td>\n",
       "      <td>I$</td>\n",
       "      <td>13295.4</td>\n",
       "      <td>X</td>\n",
       "      <td>International reliable sources</td>\n",
       "      <td>NaN</td>\n",
       "      <td>Albania</td>\n",
       "      <td>13.40</td>\n",
       "      <td>ALB</td>\n",
       "      <td>FS</td>\n",
       "      <td>Suite of Food Security Indicators</td>\n",
       "      <td>3.0</td>\n",
       "      <td>Albania</td>\n",
       "      <td>6121.0</td>\n",
       "      <td>Value</td>\n",
       "      <td>210401.0</td>\n",
       "      <td>Prevalence of severe food insecurity in the to...</td>\n",
       "      <td>20182020.0</td>\n",
       "      <td>2018-2020</td>\n",
       "      <td>%</td>\n",
       "      <td>8.8</td>\n",
       "      <td>F</td>\n",
       "      <td>FAO estimate</td>\n",
       "      <td>NaN</td>\n",
       "    </tr>\n",
       "    <tr>\n",
       "      <th>2</th>\n",
       "      <td>Algeria</td>\n",
       "      <td>FS</td>\n",
       "      <td>Suite of Food Security Indicators</td>\n",
       "      <td>4.0</td>\n",
       "      <td>Algeria</td>\n",
       "      <td>6126.0</td>\n",
       "      <td>Value</td>\n",
       "      <td>22013.0</td>\n",
       "      <td>Gross domestic product per capita, PPP, dissem...</td>\n",
       "      <td>2020.0</td>\n",
       "      <td>2020</td>\n",
       "      <td>I$</td>\n",
       "      <td>10681.7</td>\n",
       "      <td>X</td>\n",
       "      <td>International reliable sources</td>\n",
       "      <td>NaN</td>\n",
       "      <td>Algeria</td>\n",
       "      <td>227.80</td>\n",
       "      <td>DZA</td>\n",
       "      <td>FS</td>\n",
       "      <td>Suite of Food Security Indicators</td>\n",
       "      <td>4.0</td>\n",
       "      <td>Algeria</td>\n",
       "      <td>6121.0</td>\n",
       "      <td>Value</td>\n",
       "      <td>210401.0</td>\n",
       "      <td>Prevalence of severe food insecurity in the to...</td>\n",
       "      <td>20182020.0</td>\n",
       "      <td>2018-2020</td>\n",
       "      <td>%</td>\n",
       "      <td>6.9</td>\n",
       "      <td>F</td>\n",
       "      <td>FAO estimate</td>\n",
       "      <td>NaN</td>\n",
       "    </tr>\n",
       "    <tr>\n",
       "      <th>3</th>\n",
       "      <td>American Samoa</td>\n",
       "      <td>NaN</td>\n",
       "      <td>NaN</td>\n",
       "      <td>NaN</td>\n",
       "      <td>NaN</td>\n",
       "      <td>NaN</td>\n",
       "      <td>NaN</td>\n",
       "      <td>NaN</td>\n",
       "      <td>NaN</td>\n",
       "      <td>NaN</td>\n",
       "      <td>NaN</td>\n",
       "      <td>NaN</td>\n",
       "      <td>NaN</td>\n",
       "      <td>NaN</td>\n",
       "      <td>NaN</td>\n",
       "      <td>NaN</td>\n",
       "      <td>NaN</td>\n",
       "      <td>NaN</td>\n",
       "      <td>NaN</td>\n",
       "      <td>NaN</td>\n",
       "      <td>NaN</td>\n",
       "      <td>NaN</td>\n",
       "      <td>NaN</td>\n",
       "      <td>NaN</td>\n",
       "      <td>NaN</td>\n",
       "      <td>NaN</td>\n",
       "      <td>NaN</td>\n",
       "      <td>NaN</td>\n",
       "      <td>NaN</td>\n",
       "      <td>NaN</td>\n",
       "      <td>NaN</td>\n",
       "      <td>NaN</td>\n",
       "      <td>NaN</td>\n",
       "      <td>NaN</td>\n",
       "    </tr>\n",
       "    <tr>\n",
       "      <th>4</th>\n",
       "      <td>Andorra</td>\n",
       "      <td>NaN</td>\n",
       "      <td>NaN</td>\n",
       "      <td>NaN</td>\n",
       "      <td>NaN</td>\n",
       "      <td>NaN</td>\n",
       "      <td>NaN</td>\n",
       "      <td>NaN</td>\n",
       "      <td>NaN</td>\n",
       "      <td>NaN</td>\n",
       "      <td>NaN</td>\n",
       "      <td>NaN</td>\n",
       "      <td>NaN</td>\n",
       "      <td>NaN</td>\n",
       "      <td>NaN</td>\n",
       "      <td>NaN</td>\n",
       "      <td>NaN</td>\n",
       "      <td>NaN</td>\n",
       "      <td>NaN</td>\n",
       "      <td>NaN</td>\n",
       "      <td>NaN</td>\n",
       "      <td>NaN</td>\n",
       "      <td>NaN</td>\n",
       "      <td>NaN</td>\n",
       "      <td>NaN</td>\n",
       "      <td>NaN</td>\n",
       "      <td>NaN</td>\n",
       "      <td>NaN</td>\n",
       "      <td>NaN</td>\n",
       "      <td>NaN</td>\n",
       "      <td>NaN</td>\n",
       "      <td>NaN</td>\n",
       "      <td>NaN</td>\n",
       "      <td>NaN</td>\n",
       "    </tr>\n",
       "    <tr>\n",
       "      <th>...</th>\n",
       "      <td>...</td>\n",
       "      <td>...</td>\n",
       "      <td>...</td>\n",
       "      <td>...</td>\n",
       "      <td>...</td>\n",
       "      <td>...</td>\n",
       "      <td>...</td>\n",
       "      <td>...</td>\n",
       "      <td>...</td>\n",
       "      <td>...</td>\n",
       "      <td>...</td>\n",
       "      <td>...</td>\n",
       "      <td>...</td>\n",
       "      <td>...</td>\n",
       "      <td>...</td>\n",
       "      <td>...</td>\n",
       "      <td>...</td>\n",
       "      <td>...</td>\n",
       "      <td>...</td>\n",
       "      <td>...</td>\n",
       "      <td>...</td>\n",
       "      <td>...</td>\n",
       "      <td>...</td>\n",
       "      <td>...</td>\n",
       "      <td>...</td>\n",
       "      <td>...</td>\n",
       "      <td>...</td>\n",
       "      <td>...</td>\n",
       "      <td>...</td>\n",
       "      <td>...</td>\n",
       "      <td>...</td>\n",
       "      <td>...</td>\n",
       "      <td>...</td>\n",
       "      <td>...</td>\n",
       "    </tr>\n",
       "    <tr>\n",
       "      <th>199</th>\n",
       "      <td>Venezuela (Bolivarian Republic of)</td>\n",
       "      <td>NaN</td>\n",
       "      <td>NaN</td>\n",
       "      <td>NaN</td>\n",
       "      <td>NaN</td>\n",
       "      <td>NaN</td>\n",
       "      <td>NaN</td>\n",
       "      <td>NaN</td>\n",
       "      <td>NaN</td>\n",
       "      <td>NaN</td>\n",
       "      <td>NaN</td>\n",
       "      <td>NaN</td>\n",
       "      <td>NaN</td>\n",
       "      <td>NaN</td>\n",
       "      <td>NaN</td>\n",
       "      <td>NaN</td>\n",
       "      <td>NaN</td>\n",
       "      <td>NaN</td>\n",
       "      <td>NaN</td>\n",
       "      <td>NaN</td>\n",
       "      <td>NaN</td>\n",
       "      <td>NaN</td>\n",
       "      <td>NaN</td>\n",
       "      <td>NaN</td>\n",
       "      <td>NaN</td>\n",
       "      <td>NaN</td>\n",
       "      <td>NaN</td>\n",
       "      <td>NaN</td>\n",
       "      <td>NaN</td>\n",
       "      <td>NaN</td>\n",
       "      <td>NaN</td>\n",
       "      <td>NaN</td>\n",
       "      <td>NaN</td>\n",
       "      <td>NaN</td>\n",
       "    </tr>\n",
       "    <tr>\n",
       "      <th>200</th>\n",
       "      <td>Viet Nam</td>\n",
       "      <td>FS</td>\n",
       "      <td>Suite of Food Security Indicators</td>\n",
       "      <td>237.0</td>\n",
       "      <td>Viet Nam</td>\n",
       "      <td>6126.0</td>\n",
       "      <td>Value</td>\n",
       "      <td>22013.0</td>\n",
       "      <td>Gross domestic product per capita, PPP, dissem...</td>\n",
       "      <td>2020.0</td>\n",
       "      <td>2020</td>\n",
       "      <td>I$</td>\n",
       "      <td>8200.3</td>\n",
       "      <td>X</td>\n",
       "      <td>International reliable sources</td>\n",
       "      <td>NaN</td>\n",
       "      <td>NaN</td>\n",
       "      <td>NaN</td>\n",
       "      <td>NaN</td>\n",
       "      <td>FS</td>\n",
       "      <td>Suite of Food Security Indicators</td>\n",
       "      <td>237.0</td>\n",
       "      <td>Viet Nam</td>\n",
       "      <td>6121.0</td>\n",
       "      <td>Value</td>\n",
       "      <td>210401.0</td>\n",
       "      <td>Prevalence of severe food insecurity in the to...</td>\n",
       "      <td>20182020.0</td>\n",
       "      <td>2018-2020</td>\n",
       "      <td>%</td>\n",
       "      <td>0.5</td>\n",
       "      <td>NaN</td>\n",
       "      <td>Official data</td>\n",
       "      <td>Official estimate integrated with FAO data</td>\n",
       "    </tr>\n",
       "    <tr>\n",
       "      <th>201</th>\n",
       "      <td>Yemen</td>\n",
       "      <td>NaN</td>\n",
       "      <td>NaN</td>\n",
       "      <td>NaN</td>\n",
       "      <td>NaN</td>\n",
       "      <td>NaN</td>\n",
       "      <td>NaN</td>\n",
       "      <td>NaN</td>\n",
       "      <td>NaN</td>\n",
       "      <td>NaN</td>\n",
       "      <td>NaN</td>\n",
       "      <td>NaN</td>\n",
       "      <td>NaN</td>\n",
       "      <td>NaN</td>\n",
       "      <td>NaN</td>\n",
       "      <td>NaN</td>\n",
       "      <td>NaN</td>\n",
       "      <td>NaN</td>\n",
       "      <td>NaN</td>\n",
       "      <td>NaN</td>\n",
       "      <td>NaN</td>\n",
       "      <td>NaN</td>\n",
       "      <td>NaN</td>\n",
       "      <td>NaN</td>\n",
       "      <td>NaN</td>\n",
       "      <td>NaN</td>\n",
       "      <td>NaN</td>\n",
       "      <td>NaN</td>\n",
       "      <td>NaN</td>\n",
       "      <td>NaN</td>\n",
       "      <td>NaN</td>\n",
       "      <td>NaN</td>\n",
       "      <td>NaN</td>\n",
       "      <td>NaN</td>\n",
       "    </tr>\n",
       "    <tr>\n",
       "      <th>202</th>\n",
       "      <td>Zambia</td>\n",
       "      <td>FS</td>\n",
       "      <td>Suite of Food Security Indicators</td>\n",
       "      <td>251.0</td>\n",
       "      <td>Zambia</td>\n",
       "      <td>6126.0</td>\n",
       "      <td>Value</td>\n",
       "      <td>22013.0</td>\n",
       "      <td>Gross domestic product per capita, PPP, dissem...</td>\n",
       "      <td>2020.0</td>\n",
       "      <td>2020</td>\n",
       "      <td>I$</td>\n",
       "      <td>3270.0</td>\n",
       "      <td>X</td>\n",
       "      <td>International reliable sources</td>\n",
       "      <td>NaN</td>\n",
       "      <td>Zambia</td>\n",
       "      <td>25.61</td>\n",
       "      <td>ZMB</td>\n",
       "      <td>FS</td>\n",
       "      <td>Suite of Food Security Indicators</td>\n",
       "      <td>251.0</td>\n",
       "      <td>Zambia</td>\n",
       "      <td>6121.0</td>\n",
       "      <td>Value</td>\n",
       "      <td>210401.0</td>\n",
       "      <td>Prevalence of severe food insecurity in the to...</td>\n",
       "      <td>20182020.0</td>\n",
       "      <td>2018-2020</td>\n",
       "      <td>%</td>\n",
       "      <td>23.2</td>\n",
       "      <td>NaN</td>\n",
       "      <td>Official data</td>\n",
       "      <td>Official estimate integrated with FAO data</td>\n",
       "    </tr>\n",
       "    <tr>\n",
       "      <th>203</th>\n",
       "      <td>Zimbabwe</td>\n",
       "      <td>FS</td>\n",
       "      <td>Suite of Food Security Indicators</td>\n",
       "      <td>181.0</td>\n",
       "      <td>Zimbabwe</td>\n",
       "      <td>6126.0</td>\n",
       "      <td>Value</td>\n",
       "      <td>22013.0</td>\n",
       "      <td>Gross domestic product per capita, PPP, dissem...</td>\n",
       "      <td>2020.0</td>\n",
       "      <td>2020</td>\n",
       "      <td>I$</td>\n",
       "      <td>2744.7</td>\n",
       "      <td>X</td>\n",
       "      <td>International reliable sources</td>\n",
       "      <td>NaN</td>\n",
       "      <td>Zimbabwe</td>\n",
       "      <td>13.74</td>\n",
       "      <td>ZWE</td>\n",
       "      <td>FS</td>\n",
       "      <td>Suite of Food Security Indicators</td>\n",
       "      <td>181.0</td>\n",
       "      <td>Zimbabwe</td>\n",
       "      <td>6121.0</td>\n",
       "      <td>Value</td>\n",
       "      <td>210401.0</td>\n",
       "      <td>Prevalence of severe food insecurity in the to...</td>\n",
       "      <td>20182020.0</td>\n",
       "      <td>2018-2020</td>\n",
       "      <td>%</td>\n",
       "      <td>32.1</td>\n",
       "      <td>F</td>\n",
       "      <td>FAO estimate</td>\n",
       "      <td>NaN</td>\n",
       "    </tr>\n",
       "  </tbody>\n",
       "</table>\n",
       "<p>204 rows × 34 columns</p>\n",
       "</div>"
      ],
      "text/plain": [
       "                                Country Domain Code_x  \\\n",
       "0                           Afghanistan            FS   \n",
       "1                               Albania            FS   \n",
       "2                               Algeria            FS   \n",
       "3                        American Samoa           NaN   \n",
       "4                               Andorra           NaN   \n",
       "..                                  ...           ...   \n",
       "199  Venezuela (Bolivarian Republic of)           NaN   \n",
       "200                            Viet Nam            FS   \n",
       "201                               Yemen           NaN   \n",
       "202                              Zambia            FS   \n",
       "203                            Zimbabwe            FS   \n",
       "\n",
       "                              Domain_x  Area Code (FAO)_x       Area_x  \\\n",
       "0    Suite of Food Security Indicators                2.0  Afghanistan   \n",
       "1    Suite of Food Security Indicators                3.0      Albania   \n",
       "2    Suite of Food Security Indicators                4.0      Algeria   \n",
       "3                                  NaN                NaN          NaN   \n",
       "4                                  NaN                NaN          NaN   \n",
       "..                                 ...                ...          ...   \n",
       "199                                NaN                NaN          NaN   \n",
       "200  Suite of Food Security Indicators              237.0     Viet Nam   \n",
       "201                                NaN                NaN          NaN   \n",
       "202  Suite of Food Security Indicators              251.0       Zambia   \n",
       "203  Suite of Food Security Indicators              181.0     Zimbabwe   \n",
       "\n",
       "     Element Code_x Element_x  Item Code_x  \\\n",
       "0            6126.0     Value      22013.0   \n",
       "1            6126.0     Value      22013.0   \n",
       "2            6126.0     Value      22013.0   \n",
       "3               NaN       NaN          NaN   \n",
       "4               NaN       NaN          NaN   \n",
       "..              ...       ...          ...   \n",
       "199             NaN       NaN          NaN   \n",
       "200          6126.0     Value      22013.0   \n",
       "201             NaN       NaN          NaN   \n",
       "202          6126.0     Value      22013.0   \n",
       "203          6126.0     Value      22013.0   \n",
       "\n",
       "                                                Item_x  Year Code_x Year_x  \\\n",
       "0    Gross domestic product per capita, PPP, dissem...       2020.0   2020   \n",
       "1    Gross domestic product per capita, PPP, dissem...       2020.0   2020   \n",
       "2    Gross domestic product per capita, PPP, dissem...       2020.0   2020   \n",
       "3                                                  NaN          NaN    NaN   \n",
       "4                                                  NaN          NaN    NaN   \n",
       "..                                                 ...          ...    ...   \n",
       "199                                                NaN          NaN    NaN   \n",
       "200  Gross domestic product per capita, PPP, dissem...       2020.0   2020   \n",
       "201                                                NaN          NaN    NaN   \n",
       "202  Gross domestic product per capita, PPP, dissem...       2020.0   2020   \n",
       "203  Gross domestic product per capita, PPP, dissem...       2020.0   2020   \n",
       "\n",
       "    Unit_x      GDP Flag_x              Flag Description_x Note_x  \\\n",
       "0       I$   1979.0      X  International reliable sources    NaN   \n",
       "1       I$  13295.4      X  International reliable sources    NaN   \n",
       "2       I$  10681.7      X  International reliable sources    NaN   \n",
       "3      NaN      NaN    NaN                             NaN    NaN   \n",
       "4      NaN      NaN    NaN                             NaN    NaN   \n",
       "..     ...      ...    ...                             ...    ...   \n",
       "199    NaN      NaN    NaN                             NaN    NaN   \n",
       "200     I$   8200.3      X  International reliable sources    NaN   \n",
       "201    NaN      NaN    NaN                             NaN    NaN   \n",
       "202     I$   3270.0      X  International reliable sources    NaN   \n",
       "203     I$   2744.7      X  International reliable sources    NaN   \n",
       "\n",
       "         COUNTRY  GDP (BILLIONS) CODE Domain Code_y  \\\n",
       "0    Afghanistan           21.71  AFG            FS   \n",
       "1        Albania           13.40  ALB            FS   \n",
       "2        Algeria          227.80  DZA            FS   \n",
       "3            NaN             NaN  NaN           NaN   \n",
       "4            NaN             NaN  NaN           NaN   \n",
       "..           ...             ...  ...           ...   \n",
       "199          NaN             NaN  NaN           NaN   \n",
       "200          NaN             NaN  NaN            FS   \n",
       "201          NaN             NaN  NaN           NaN   \n",
       "202       Zambia           25.61  ZMB            FS   \n",
       "203     Zimbabwe           13.74  ZWE            FS   \n",
       "\n",
       "                              Domain_y  Area Code (FAO)_y       Area_y  \\\n",
       "0    Suite of Food Security Indicators                2.0  Afghanistan   \n",
       "1    Suite of Food Security Indicators                3.0      Albania   \n",
       "2    Suite of Food Security Indicators                4.0      Algeria   \n",
       "3                                  NaN                NaN          NaN   \n",
       "4                                  NaN                NaN          NaN   \n",
       "..                                 ...                ...          ...   \n",
       "199                                NaN                NaN          NaN   \n",
       "200  Suite of Food Security Indicators              237.0     Viet Nam   \n",
       "201                                NaN                NaN          NaN   \n",
       "202  Suite of Food Security Indicators              251.0       Zambia   \n",
       "203  Suite of Food Security Indicators              181.0     Zimbabwe   \n",
       "\n",
       "     Element Code_y Element_y  Item Code_y  \\\n",
       "0            6121.0     Value     210401.0   \n",
       "1            6121.0     Value     210401.0   \n",
       "2            6121.0     Value     210401.0   \n",
       "3               NaN       NaN          NaN   \n",
       "4               NaN       NaN          NaN   \n",
       "..              ...       ...          ...   \n",
       "199             NaN       NaN          NaN   \n",
       "200          6121.0     Value     210401.0   \n",
       "201             NaN       NaN          NaN   \n",
       "202          6121.0     Value     210401.0   \n",
       "203          6121.0     Value     210401.0   \n",
       "\n",
       "                                                Item_y  Year Code_y  \\\n",
       "0    Prevalence of severe food insecurity in the to...   20182020.0   \n",
       "1    Prevalence of severe food insecurity in the to...   20182020.0   \n",
       "2    Prevalence of severe food insecurity in the to...   20182020.0   \n",
       "3                                                  NaN          NaN   \n",
       "4                                                  NaN          NaN   \n",
       "..                                                 ...          ...   \n",
       "199                                                NaN          NaN   \n",
       "200  Prevalence of severe food insecurity in the to...   20182020.0   \n",
       "201                                                NaN          NaN   \n",
       "202  Prevalence of severe food insecurity in the to...   20182020.0   \n",
       "203  Prevalence of severe food insecurity in the to...   20182020.0   \n",
       "\n",
       "        Year_y Unit_y  PSFI Flag_y Flag Description_y  \\\n",
       "0    2018-2020      %  19.8    NaN      Official data   \n",
       "1    2018-2020      %   8.8      F       FAO estimate   \n",
       "2    2018-2020      %   6.9      F       FAO estimate   \n",
       "3          NaN    NaN   NaN    NaN                NaN   \n",
       "4          NaN    NaN   NaN    NaN                NaN   \n",
       "..         ...    ...   ...    ...                ...   \n",
       "199        NaN    NaN   NaN    NaN                NaN   \n",
       "200  2018-2020      %   0.5    NaN      Official data   \n",
       "201        NaN    NaN   NaN    NaN                NaN   \n",
       "202  2018-2020      %  23.2    NaN      Official data   \n",
       "203  2018-2020      %  32.1      F       FAO estimate   \n",
       "\n",
       "                                         Note_y  \n",
       "0    Official estimate integrated with FAO data  \n",
       "1                                           NaN  \n",
       "2                                           NaN  \n",
       "3                                           NaN  \n",
       "4                                           NaN  \n",
       "..                                          ...  \n",
       "199                                         NaN  \n",
       "200  Official estimate integrated with FAO data  \n",
       "201                                         NaN  \n",
       "202  Official estimate integrated with FAO data  \n",
       "203                                         NaN  \n",
       "\n",
       "[204 rows x 34 columns]"
      ]
     },
     "execution_count": 71,
     "metadata": {},
     "output_type": "execute_result"
    }
   ],
   "source": [
    "pd.set_option('display.max_columns', None)\n",
    "gdp_v_fs = pd.merge(gdp_v_fs, gdp_2020, how = 'left', left_on = 'Country', right_on = 'Area')\n",
    "gdp_v_fs = gdp_v_fs.rename(columns = {'Value': 'GDP'})\n",
    "gdp_v_fs = pd.merge(gdp_v_fs, food_security_psfi_2018, how = 'left', left_on = 'Country', right_on = 'Area')\n",
    "gdp_v_fs = gdp_v_fs.rename(columns = {'Value': 'PSFI'})\n",
    "gdp_v_fs"
   ]
  },
  {
   "cell_type": "code",
   "execution_count": 72,
   "id": "expected-reasoning",
   "metadata": {},
   "outputs": [
    {
     "data": {
      "image/png": "[encoded data removed]",
      "text/plain": [
       "<Figure size 1800x864 with 1 Axes>"
      ]
     },
     "metadata": {
      "needs_background": "light"
     },
     "output_type": "display_data"
    }
   ],
   "source": [
    "gdp_v_fs = gdp_v_fs.dropna(subset = ['GDP', 'PSFI'])\n",
    "\n",
    "x = list(gdp_v_fs['GDP'])\n",
    "y = list(gdp_v_fs['PSFI'])\n",
    "n = list(gdp_v_fs['Country'])\n",
    "\n",
    "fig_dims = (25, 12)\n",
    "fig, ax = plt.subplots(figsize=fig_dims)\n",
    "gdp_v_fs.plot.scatter(x = 'GDP', y = 'PSFI', ax = ax, legend = None)\n",
    "\n",
    "for i, txt in enumerate(n):\n",
    "    ax.annotate(txt, (x[i], y[i]))\n",
    "    \n",
    "ax.set_xlabel('GDP per Capita ($)')\n",
    "ax.set_ylabel('Prevalence of Severe Food Insecurity (%)')\n",
    "ax.set_title('GDP per Capita vs. Prevalence of Severe Food Insecurity in 2018-2020')\n",
    "\n",
    "z = np.polyfit(x, y, 1)\n",
    "p = np.poly1d(z)\n",
    "plt.plot(x,p(x), 'r')\n",
    "plt.show()"
   ]
  },
  {
   "cell_type": "code",
   "execution_count": 73,
   "id": "unusual-agreement",
   "metadata": {},
   "outputs": [],
   "source": [
    "fs_v_ps = pd.DataFrame()\n",
    "fs_v_ps['Country'] = food_security['Area'].unique()\n",
    "ps = food_security[food_security['Item'] == 'Political stability and absence of violence/terrorism (index)']\n",
    "ps_2019 = ps[ps['Year'] == '2019']"
   ]
  },
  {
   "cell_type": "code",
   "execution_count": 74,
   "id": "attended-logan",
   "metadata": {},
   "outputs": [
    {
     "data": {
      "text/html": [
       "<div>\n",
       "<style scoped>\n",
       "    .dataframe tbody tr th:only-of-type {\n",
       "        vertical-align: middle;\n",
       "    }\n",
       "\n",
       "    .dataframe tbody tr th {\n",
       "        vertical-align: top;\n",
       "    }\n",
       "\n",
       "    .dataframe thead th {\n",
       "        text-align: right;\n",
       "    }\n",
       "</style>\n",
       "<table border=\"1\" class=\"dataframe\">\n",
       "  <thead>\n",
       "    <tr style=\"text-align: right;\">\n",
       "      <th></th>\n",
       "      <th>Country</th>\n",
       "      <th>Domain Code_x</th>\n",
       "      <th>Domain_x</th>\n",
       "      <th>Area Code (FAO)_x</th>\n",
       "      <th>Area_x</th>\n",
       "      <th>Element Code_x</th>\n",
       "      <th>Element_x</th>\n",
       "      <th>Item Code_x</th>\n",
       "      <th>Item_x</th>\n",
       "      <th>Year Code_x</th>\n",
       "      <th>Year_x</th>\n",
       "      <th>Unit_x</th>\n",
       "      <th>Political Stability</th>\n",
       "      <th>Flag_x</th>\n",
       "      <th>Flag Description_x</th>\n",
       "      <th>Note_x</th>\n",
       "      <th>COUNTRY</th>\n",
       "      <th>GDP (BILLIONS)</th>\n",
       "      <th>CODE</th>\n",
       "      <th>Domain Code_y</th>\n",
       "      <th>Domain_y</th>\n",
       "      <th>Area Code (FAO)_y</th>\n",
       "      <th>Area_y</th>\n",
       "      <th>Element Code_y</th>\n",
       "      <th>Element_y</th>\n",
       "      <th>Item Code_y</th>\n",
       "      <th>Item_y</th>\n",
       "      <th>Year Code_y</th>\n",
       "      <th>Year_y</th>\n",
       "      <th>Unit_y</th>\n",
       "      <th>PSFI</th>\n",
       "      <th>Flag_y</th>\n",
       "      <th>Flag Description_y</th>\n",
       "      <th>Note_y</th>\n",
       "    </tr>\n",
       "  </thead>\n",
       "  <tbody>\n",
       "    <tr>\n",
       "      <th>0</th>\n",
       "      <td>Afghanistan</td>\n",
       "      <td>FS</td>\n",
       "      <td>Suite of Food Security Indicators</td>\n",
       "      <td>2.0</td>\n",
       "      <td>Afghanistan</td>\n",
       "      <td>6125.0</td>\n",
       "      <td>Value</td>\n",
       "      <td>21032.0</td>\n",
       "      <td>Political stability and absence of violence/te...</td>\n",
       "      <td>2019.0</td>\n",
       "      <td>2019</td>\n",
       "      <td>index</td>\n",
       "      <td>-2.65</td>\n",
       "      <td>X</td>\n",
       "      <td>International reliable sources</td>\n",
       "      <td>NaN</td>\n",
       "      <td>Afghanistan</td>\n",
       "      <td>21.71</td>\n",
       "      <td>AFG</td>\n",
       "      <td>FS</td>\n",
       "      <td>Suite of Food Security Indicators</td>\n",
       "      <td>2.0</td>\n",
       "      <td>Afghanistan</td>\n",
       "      <td>6121.0</td>\n",
       "      <td>Value</td>\n",
       "      <td>210401.0</td>\n",
       "      <td>Prevalence of severe food insecurity in the to...</td>\n",
       "      <td>20182020.0</td>\n",
       "      <td>2018-2020</td>\n",
       "      <td>%</td>\n",
       "      <td>19.8</td>\n",
       "      <td>NaN</td>\n",
       "      <td>Official data</td>\n",
       "      <td>Official estimate integrated with FAO data</td>\n",
       "    </tr>\n",
       "    <tr>\n",
       "      <th>1</th>\n",
       "      <td>Albania</td>\n",
       "      <td>FS</td>\n",
       "      <td>Suite of Food Security Indicators</td>\n",
       "      <td>3.0</td>\n",
       "      <td>Albania</td>\n",
       "      <td>6125.0</td>\n",
       "      <td>Value</td>\n",
       "      <td>21032.0</td>\n",
       "      <td>Political stability and absence of violence/te...</td>\n",
       "      <td>2019.0</td>\n",
       "      <td>2019</td>\n",
       "      <td>index</td>\n",
       "      <td>0.12</td>\n",
       "      <td>X</td>\n",
       "      <td>International reliable sources</td>\n",
       "      <td>NaN</td>\n",
       "      <td>Albania</td>\n",
       "      <td>13.40</td>\n",
       "      <td>ALB</td>\n",
       "      <td>FS</td>\n",
       "      <td>Suite of Food Security Indicators</td>\n",
       "      <td>3.0</td>\n",
       "      <td>Albania</td>\n",
       "      <td>6121.0</td>\n",
       "      <td>Value</td>\n",
       "      <td>210401.0</td>\n",
       "      <td>Prevalence of severe food insecurity in the to...</td>\n",
       "      <td>20182020.0</td>\n",
       "      <td>2018-2020</td>\n",
       "      <td>%</td>\n",
       "      <td>8.8</td>\n",
       "      <td>F</td>\n",
       "      <td>FAO estimate</td>\n",
       "      <td>NaN</td>\n",
       "    </tr>\n",
       "    <tr>\n",
       "      <th>2</th>\n",
       "      <td>Algeria</td>\n",
       "      <td>FS</td>\n",
       "      <td>Suite of Food Security Indicators</td>\n",
       "      <td>4.0</td>\n",
       "      <td>Algeria</td>\n",
       "      <td>6125.0</td>\n",
       "      <td>Value</td>\n",
       "      <td>21032.0</td>\n",
       "      <td>Political stability and absence of violence/te...</td>\n",
       "      <td>2019.0</td>\n",
       "      <td>2019</td>\n",
       "      <td>index</td>\n",
       "      <td>-1.00</td>\n",
       "      <td>X</td>\n",
       "      <td>International reliable sources</td>\n",
       "      <td>NaN</td>\n",
       "      <td>Algeria</td>\n",
       "      <td>227.80</td>\n",
       "      <td>DZA</td>\n",
       "      <td>FS</td>\n",
       "      <td>Suite of Food Security Indicators</td>\n",
       "      <td>4.0</td>\n",
       "      <td>Algeria</td>\n",
       "      <td>6121.0</td>\n",
       "      <td>Value</td>\n",
       "      <td>210401.0</td>\n",
       "      <td>Prevalence of severe food insecurity in the to...</td>\n",
       "      <td>20182020.0</td>\n",
       "      <td>2018-2020</td>\n",
       "      <td>%</td>\n",
       "      <td>6.9</td>\n",
       "      <td>F</td>\n",
       "      <td>FAO estimate</td>\n",
       "      <td>NaN</td>\n",
       "    </tr>\n",
       "    <tr>\n",
       "      <th>3</th>\n",
       "      <td>American Samoa</td>\n",
       "      <td>FS</td>\n",
       "      <td>Suite of Food Security Indicators</td>\n",
       "      <td>5.0</td>\n",
       "      <td>American Samoa</td>\n",
       "      <td>6125.0</td>\n",
       "      <td>Value</td>\n",
       "      <td>21032.0</td>\n",
       "      <td>Political stability and absence of violence/te...</td>\n",
       "      <td>2019.0</td>\n",
       "      <td>2019</td>\n",
       "      <td>index</td>\n",
       "      <td>1.16</td>\n",
       "      <td>X</td>\n",
       "      <td>International reliable sources</td>\n",
       "      <td>NaN</td>\n",
       "      <td>American Samoa</td>\n",
       "      <td>0.75</td>\n",
       "      <td>ASM</td>\n",
       "      <td>NaN</td>\n",
       "      <td>NaN</td>\n",
       "      <td>NaN</td>\n",
       "      <td>NaN</td>\n",
       "      <td>NaN</td>\n",
       "      <td>NaN</td>\n",
       "      <td>NaN</td>\n",
       "      <td>NaN</td>\n",
       "      <td>NaN</td>\n",
       "      <td>NaN</td>\n",
       "      <td>NaN</td>\n",
       "      <td>NaN</td>\n",
       "      <td>NaN</td>\n",
       "      <td>NaN</td>\n",
       "      <td>NaN</td>\n",
       "    </tr>\n",
       "    <tr>\n",
       "      <th>4</th>\n",
       "      <td>Andorra</td>\n",
       "      <td>FS</td>\n",
       "      <td>Suite of Food Security Indicators</td>\n",
       "      <td>6.0</td>\n",
       "      <td>Andorra</td>\n",
       "      <td>6125.0</td>\n",
       "      <td>Value</td>\n",
       "      <td>21032.0</td>\n",
       "      <td>Political stability and absence of violence/te...</td>\n",
       "      <td>2019.0</td>\n",
       "      <td>2019</td>\n",
       "      <td>index</td>\n",
       "      <td>1.62</td>\n",
       "      <td>X</td>\n",
       "      <td>International reliable sources</td>\n",
       "      <td>NaN</td>\n",
       "      <td>Andorra</td>\n",
       "      <td>4.80</td>\n",
       "      <td>AND</td>\n",
       "      <td>NaN</td>\n",
       "      <td>NaN</td>\n",
       "      <td>NaN</td>\n",
       "      <td>NaN</td>\n",
       "      <td>NaN</td>\n",
       "      <td>NaN</td>\n",
       "      <td>NaN</td>\n",
       "      <td>NaN</td>\n",
       "      <td>NaN</td>\n",
       "      <td>NaN</td>\n",
       "      <td>NaN</td>\n",
       "      <td>NaN</td>\n",
       "      <td>NaN</td>\n",
       "      <td>NaN</td>\n",
       "      <td>NaN</td>\n",
       "    </tr>\n",
       "    <tr>\n",
       "      <th>...</th>\n",
       "      <td>...</td>\n",
       "      <td>...</td>\n",
       "      <td>...</td>\n",
       "      <td>...</td>\n",
       "      <td>...</td>\n",
       "      <td>...</td>\n",
       "      <td>...</td>\n",
       "      <td>...</td>\n",
       "      <td>...</td>\n",
       "      <td>...</td>\n",
       "      <td>...</td>\n",
       "      <td>...</td>\n",
       "      <td>...</td>\n",
       "      <td>...</td>\n",
       "      <td>...</td>\n",
       "      <td>...</td>\n",
       "      <td>...</td>\n",
       "      <td>...</td>\n",
       "      <td>...</td>\n",
       "      <td>...</td>\n",
       "      <td>...</td>\n",
       "      <td>...</td>\n",
       "      <td>...</td>\n",
       "      <td>...</td>\n",
       "      <td>...</td>\n",
       "      <td>...</td>\n",
       "      <td>...</td>\n",
       "      <td>...</td>\n",
       "      <td>...</td>\n",
       "      <td>...</td>\n",
       "      <td>...</td>\n",
       "      <td>...</td>\n",
       "      <td>...</td>\n",
       "      <td>...</td>\n",
       "    </tr>\n",
       "    <tr>\n",
       "      <th>199</th>\n",
       "      <td>Venezuela (Bolivarian Republic of)</td>\n",
       "      <td>FS</td>\n",
       "      <td>Suite of Food Security Indicators</td>\n",
       "      <td>236.0</td>\n",
       "      <td>Venezuela (Bolivarian Republic of)</td>\n",
       "      <td>6125.0</td>\n",
       "      <td>Value</td>\n",
       "      <td>21032.0</td>\n",
       "      <td>Political stability and absence of violence/te...</td>\n",
       "      <td>2019.0</td>\n",
       "      <td>2019</td>\n",
       "      <td>index</td>\n",
       "      <td>-1.45</td>\n",
       "      <td>X</td>\n",
       "      <td>International reliable sources</td>\n",
       "      <td>NaN</td>\n",
       "      <td>NaN</td>\n",
       "      <td>NaN</td>\n",
       "      <td>NaN</td>\n",
       "      <td>NaN</td>\n",
       "      <td>NaN</td>\n",
       "      <td>NaN</td>\n",
       "      <td>NaN</td>\n",
       "      <td>NaN</td>\n",
       "      <td>NaN</td>\n",
       "      <td>NaN</td>\n",
       "      <td>NaN</td>\n",
       "      <td>NaN</td>\n",
       "      <td>NaN</td>\n",
       "      <td>NaN</td>\n",
       "      <td>NaN</td>\n",
       "      <td>NaN</td>\n",
       "      <td>NaN</td>\n",
       "      <td>NaN</td>\n",
       "    </tr>\n",
       "    <tr>\n",
       "      <th>200</th>\n",
       "      <td>Viet Nam</td>\n",
       "      <td>FS</td>\n",
       "      <td>Suite of Food Security Indicators</td>\n",
       "      <td>237.0</td>\n",
       "      <td>Viet Nam</td>\n",
       "      <td>6125.0</td>\n",
       "      <td>Value</td>\n",
       "      <td>21032.0</td>\n",
       "      <td>Political stability and absence of violence/te...</td>\n",
       "      <td>2019.0</td>\n",
       "      <td>2019</td>\n",
       "      <td>index</td>\n",
       "      <td>0.13</td>\n",
       "      <td>X</td>\n",
       "      <td>International reliable sources</td>\n",
       "      <td>NaN</td>\n",
       "      <td>NaN</td>\n",
       "      <td>NaN</td>\n",
       "      <td>NaN</td>\n",
       "      <td>FS</td>\n",
       "      <td>Suite of Food Security Indicators</td>\n",
       "      <td>237.0</td>\n",
       "      <td>Viet Nam</td>\n",
       "      <td>6121.0</td>\n",
       "      <td>Value</td>\n",
       "      <td>210401.0</td>\n",
       "      <td>Prevalence of severe food insecurity in the to...</td>\n",
       "      <td>20182020.0</td>\n",
       "      <td>2018-2020</td>\n",
       "      <td>%</td>\n",
       "      <td>0.5</td>\n",
       "      <td>NaN</td>\n",
       "      <td>Official data</td>\n",
       "      <td>Official estimate integrated with FAO data</td>\n",
       "    </tr>\n",
       "    <tr>\n",
       "      <th>201</th>\n",
       "      <td>Yemen</td>\n",
       "      <td>FS</td>\n",
       "      <td>Suite of Food Security Indicators</td>\n",
       "      <td>249.0</td>\n",
       "      <td>Yemen</td>\n",
       "      <td>6125.0</td>\n",
       "      <td>Value</td>\n",
       "      <td>21032.0</td>\n",
       "      <td>Political stability and absence of violence/te...</td>\n",
       "      <td>2019.0</td>\n",
       "      <td>2019</td>\n",
       "      <td>index</td>\n",
       "      <td>-2.77</td>\n",
       "      <td>X</td>\n",
       "      <td>International reliable sources</td>\n",
       "      <td>NaN</td>\n",
       "      <td>Yemen</td>\n",
       "      <td>45.45</td>\n",
       "      <td>YEM</td>\n",
       "      <td>NaN</td>\n",
       "      <td>NaN</td>\n",
       "      <td>NaN</td>\n",
       "      <td>NaN</td>\n",
       "      <td>NaN</td>\n",
       "      <td>NaN</td>\n",
       "      <td>NaN</td>\n",
       "      <td>NaN</td>\n",
       "      <td>NaN</td>\n",
       "      <td>NaN</td>\n",
       "      <td>NaN</td>\n",
       "      <td>NaN</td>\n",
       "      <td>NaN</td>\n",
       "      <td>NaN</td>\n",
       "      <td>NaN</td>\n",
       "    </tr>\n",
       "    <tr>\n",
       "      <th>202</th>\n",
       "      <td>Zambia</td>\n",
       "      <td>FS</td>\n",
       "      <td>Suite of Food Security Indicators</td>\n",
       "      <td>251.0</td>\n",
       "      <td>Zambia</td>\n",
       "      <td>6125.0</td>\n",
       "      <td>Value</td>\n",
       "      <td>21032.0</td>\n",
       "      <td>Political stability and absence of violence/te...</td>\n",
       "      <td>2019.0</td>\n",
       "      <td>2019</td>\n",
       "      <td>index</td>\n",
       "      <td>-0.10</td>\n",
       "      <td>X</td>\n",
       "      <td>International reliable sources</td>\n",
       "      <td>NaN</td>\n",
       "      <td>Zambia</td>\n",
       "      <td>25.61</td>\n",
       "      <td>ZMB</td>\n",
       "      <td>FS</td>\n",
       "      <td>Suite of Food Security Indicators</td>\n",
       "      <td>251.0</td>\n",
       "      <td>Zambia</td>\n",
       "      <td>6121.0</td>\n",
       "      <td>Value</td>\n",
       "      <td>210401.0</td>\n",
       "      <td>Prevalence of severe food insecurity in the to...</td>\n",
       "      <td>20182020.0</td>\n",
       "      <td>2018-2020</td>\n",
       "      <td>%</td>\n",
       "      <td>23.2</td>\n",
       "      <td>NaN</td>\n",
       "      <td>Official data</td>\n",
       "      <td>Official estimate integrated with FAO data</td>\n",
       "    </tr>\n",
       "    <tr>\n",
       "      <th>203</th>\n",
       "      <td>Zimbabwe</td>\n",
       "      <td>FS</td>\n",
       "      <td>Suite of Food Security Indicators</td>\n",
       "      <td>181.0</td>\n",
       "      <td>Zimbabwe</td>\n",
       "      <td>6125.0</td>\n",
       "      <td>Value</td>\n",
       "      <td>21032.0</td>\n",
       "      <td>Political stability and absence of violence/te...</td>\n",
       "      <td>2019.0</td>\n",
       "      <td>2019</td>\n",
       "      <td>index</td>\n",
       "      <td>-0.92</td>\n",
       "      <td>X</td>\n",
       "      <td>International reliable sources</td>\n",
       "      <td>NaN</td>\n",
       "      <td>Zimbabwe</td>\n",
       "      <td>13.74</td>\n",
       "      <td>ZWE</td>\n",
       "      <td>FS</td>\n",
       "      <td>Suite of Food Security Indicators</td>\n",
       "      <td>181.0</td>\n",
       "      <td>Zimbabwe</td>\n",
       "      <td>6121.0</td>\n",
       "      <td>Value</td>\n",
       "      <td>210401.0</td>\n",
       "      <td>Prevalence of severe food insecurity in the to...</td>\n",
       "      <td>20182020.0</td>\n",
       "      <td>2018-2020</td>\n",
       "      <td>%</td>\n",
       "      <td>32.1</td>\n",
       "      <td>F</td>\n",
       "      <td>FAO estimate</td>\n",
       "      <td>NaN</td>\n",
       "    </tr>\n",
       "  </tbody>\n",
       "</table>\n",
       "<p>204 rows × 34 columns</p>\n",
       "</div>"
      ],
      "text/plain": [
       "                                Country Domain Code_x  \\\n",
       "0                           Afghanistan            FS   \n",
       "1                               Albania            FS   \n",
       "2                               Algeria            FS   \n",
       "3                        American Samoa            FS   \n",
       "4                               Andorra            FS   \n",
       "..                                  ...           ...   \n",
       "199  Venezuela (Bolivarian Republic of)            FS   \n",
       "200                            Viet Nam            FS   \n",
       "201                               Yemen            FS   \n",
       "202                              Zambia            FS   \n",
       "203                            Zimbabwe            FS   \n",
       "\n",
       "                              Domain_x  Area Code (FAO)_x  \\\n",
       "0    Suite of Food Security Indicators                2.0   \n",
       "1    Suite of Food Security Indicators                3.0   \n",
       "2    Suite of Food Security Indicators                4.0   \n",
       "3    Suite of Food Security Indicators                5.0   \n",
       "4    Suite of Food Security Indicators                6.0   \n",
       "..                                 ...                ...   \n",
       "199  Suite of Food Security Indicators              236.0   \n",
       "200  Suite of Food Security Indicators              237.0   \n",
       "201  Suite of Food Security Indicators              249.0   \n",
       "202  Suite of Food Security Indicators              251.0   \n",
       "203  Suite of Food Security Indicators              181.0   \n",
       "\n",
       "                                 Area_x  Element Code_x Element_x  \\\n",
       "0                           Afghanistan          6125.0     Value   \n",
       "1                               Albania          6125.0     Value   \n",
       "2                               Algeria          6125.0     Value   \n",
       "3                        American Samoa          6125.0     Value   \n",
       "4                               Andorra          6125.0     Value   \n",
       "..                                  ...             ...       ...   \n",
       "199  Venezuela (Bolivarian Republic of)          6125.0     Value   \n",
       "200                            Viet Nam          6125.0     Value   \n",
       "201                               Yemen          6125.0     Value   \n",
       "202                              Zambia          6125.0     Value   \n",
       "203                            Zimbabwe          6125.0     Value   \n",
       "\n",
       "     Item Code_x                                             Item_x  \\\n",
       "0        21032.0  Political stability and absence of violence/te...   \n",
       "1        21032.0  Political stability and absence of violence/te...   \n",
       "2        21032.0  Political stability and absence of violence/te...   \n",
       "3        21032.0  Political stability and absence of violence/te...   \n",
       "4        21032.0  Political stability and absence of violence/te...   \n",
       "..           ...                                                ...   \n",
       "199      21032.0  Political stability and absence of violence/te...   \n",
       "200      21032.0  Political stability and absence of violence/te...   \n",
       "201      21032.0  Political stability and absence of violence/te...   \n",
       "202      21032.0  Political stability and absence of violence/te...   \n",
       "203      21032.0  Political stability and absence of violence/te...   \n",
       "\n",
       "     Year Code_x Year_x Unit_x  Political Stability Flag_x  \\\n",
       "0         2019.0   2019  index                -2.65      X   \n",
       "1         2019.0   2019  index                 0.12      X   \n",
       "2         2019.0   2019  index                -1.00      X   \n",
       "3         2019.0   2019  index                 1.16      X   \n",
       "4         2019.0   2019  index                 1.62      X   \n",
       "..           ...    ...    ...                  ...    ...   \n",
       "199       2019.0   2019  index                -1.45      X   \n",
       "200       2019.0   2019  index                 0.13      X   \n",
       "201       2019.0   2019  index                -2.77      X   \n",
       "202       2019.0   2019  index                -0.10      X   \n",
       "203       2019.0   2019  index                -0.92      X   \n",
       "\n",
       "                 Flag Description_x Note_x         COUNTRY  GDP (BILLIONS)  \\\n",
       "0    International reliable sources    NaN     Afghanistan           21.71   \n",
       "1    International reliable sources    NaN         Albania           13.40   \n",
       "2    International reliable sources    NaN         Algeria          227.80   \n",
       "3    International reliable sources    NaN  American Samoa            0.75   \n",
       "4    International reliable sources    NaN         Andorra            4.80   \n",
       "..                              ...    ...             ...             ...   \n",
       "199  International reliable sources    NaN             NaN             NaN   \n",
       "200  International reliable sources    NaN             NaN             NaN   \n",
       "201  International reliable sources    NaN           Yemen           45.45   \n",
       "202  International reliable sources    NaN          Zambia           25.61   \n",
       "203  International reliable sources    NaN        Zimbabwe           13.74   \n",
       "\n",
       "    CODE Domain Code_y                           Domain_y  Area Code (FAO)_y  \\\n",
       "0    AFG            FS  Suite of Food Security Indicators                2.0   \n",
       "1    ALB            FS  Suite of Food Security Indicators                3.0   \n",
       "2    DZA            FS  Suite of Food Security Indicators                4.0   \n",
       "3    ASM           NaN                                NaN                NaN   \n",
       "4    AND           NaN                                NaN                NaN   \n",
       "..   ...           ...                                ...                ...   \n",
       "199  NaN           NaN                                NaN                NaN   \n",
       "200  NaN            FS  Suite of Food Security Indicators              237.0   \n",
       "201  YEM           NaN                                NaN                NaN   \n",
       "202  ZMB            FS  Suite of Food Security Indicators              251.0   \n",
       "203  ZWE            FS  Suite of Food Security Indicators              181.0   \n",
       "\n",
       "          Area_y  Element Code_y Element_y  Item Code_y  \\\n",
       "0    Afghanistan          6121.0     Value     210401.0   \n",
       "1        Albania          6121.0     Value     210401.0   \n",
       "2        Algeria          6121.0     Value     210401.0   \n",
       "3            NaN             NaN       NaN          NaN   \n",
       "4            NaN             NaN       NaN          NaN   \n",
       "..           ...             ...       ...          ...   \n",
       "199          NaN             NaN       NaN          NaN   \n",
       "200     Viet Nam          6121.0     Value     210401.0   \n",
       "201          NaN             NaN       NaN          NaN   \n",
       "202       Zambia          6121.0     Value     210401.0   \n",
       "203     Zimbabwe          6121.0     Value     210401.0   \n",
       "\n",
       "                                                Item_y  Year Code_y  \\\n",
       "0    Prevalence of severe food insecurity in the to...   20182020.0   \n",
       "1    Prevalence of severe food insecurity in the to...   20182020.0   \n",
       "2    Prevalence of severe food insecurity in the to...   20182020.0   \n",
       "3                                                  NaN          NaN   \n",
       "4                                                  NaN          NaN   \n",
       "..                                                 ...          ...   \n",
       "199                                                NaN          NaN   \n",
       "200  Prevalence of severe food insecurity in the to...   20182020.0   \n",
       "201                                                NaN          NaN   \n",
       "202  Prevalence of severe food insecurity in the to...   20182020.0   \n",
       "203  Prevalence of severe food insecurity in the to...   20182020.0   \n",
       "\n",
       "        Year_y Unit_y  PSFI Flag_y Flag Description_y  \\\n",
       "0    2018-2020      %  19.8    NaN      Official data   \n",
       "1    2018-2020      %   8.8      F       FAO estimate   \n",
       "2    2018-2020      %   6.9      F       FAO estimate   \n",
       "3          NaN    NaN   NaN    NaN                NaN   \n",
       "4          NaN    NaN   NaN    NaN                NaN   \n",
       "..         ...    ...   ...    ...                ...   \n",
       "199        NaN    NaN   NaN    NaN                NaN   \n",
       "200  2018-2020      %   0.5    NaN      Official data   \n",
       "201        NaN    NaN   NaN    NaN                NaN   \n",
       "202  2018-2020      %  23.2    NaN      Official data   \n",
       "203  2018-2020      %  32.1      F       FAO estimate   \n",
       "\n",
       "                                         Note_y  \n",
       "0    Official estimate integrated with FAO data  \n",
       "1                                           NaN  \n",
       "2                                           NaN  \n",
       "3                                           NaN  \n",
       "4                                           NaN  \n",
       "..                                          ...  \n",
       "199                                         NaN  \n",
       "200  Official estimate integrated with FAO data  \n",
       "201                                         NaN  \n",
       "202  Official estimate integrated with FAO data  \n",
       "203                                         NaN  \n",
       "\n",
       "[204 rows x 34 columns]"
      ]
     },
     "execution_count": 74,
     "metadata": {},
     "output_type": "execute_result"
    }
   ],
   "source": [
    "fs_v_ps = pd.merge(fs_v_ps, ps_2019, how = 'left', left_on = 'Country', right_on = 'Area')\n",
    "fs_v_ps = fs_v_ps.rename(columns = {'Value': 'Political Stability'})\n",
    "fs_v_ps = pd.merge(fs_v_ps, food_security_psfi_2018, how = 'left', left_on = 'Country', right_on = 'Area')\n",
    "fs_v_ps = fs_v_ps.rename(columns = {'Value': 'PSFI'})\n",
    "fs_v_ps"
   ]
  },
  {
   "cell_type": "code",
   "execution_count": 80,
   "id": "scheduled-photography",
   "metadata": {},
   "outputs": [],
   "source": [
    "fs_v_ps = fs_v_ps.sort_values(by = 'PSFI', ascending = True)"
   ]
  },
  {
   "cell_type": "code",
   "execution_count": 85,
   "id": "common-slovenia",
   "metadata": {},
   "outputs": [
    {
     "data": {
      "image/png": "[encoded data removed]",
      "text/plain": [
       "<Figure size 2880x1800 with 2 Axes>"
      ]
     },
     "metadata": {
      "needs_background": "light"
     },
     "output_type": "display_data"
    }
   ],
   "source": [
    "fs_v_ps = fs_v_ps.dropna(subset = ['PSFI'])\n",
    "\n",
    "from matplotlib.cm import ScalarMappable\n",
    "\n",
    "data_x = fs_v_ps['Country']\n",
    "data_hight = fs_v_ps['PSFI']\n",
    "data_color = fs_v_ps['Political Stability']\n",
    "\n",
    "data_color_normalized = [x / max(data_color) for x in data_color]\n",
    "\n",
    "fig, ax = plt.subplots(figsize=(40, 25))\n",
    "\n",
    "my_cmap = plt.cm.get_cmap('GnBu')\n",
    "colors = my_cmap(data_color_normalized)\n",
    "\n",
    "rects = ax.barh(data_x, data_hight, color=colors, edgecolor = 'black')\n",
    "\n",
    "sm = ScalarMappable(cmap=my_cmap, norm=plt.Normalize(0,max(data_color)))\n",
    "\n",
    "sm.set_array([])\n",
    "\n",
    "cbar = plt.colorbar(sm)\n",
    "cbar.set_label('Perception of Likelihood Government will be Destabilized', rotation=270,labelpad=25)\n",
    "\n",
    "ax.set_xlabel('Prevalence of Severe Food Insecurity (%)')\n",
    "ax.set_ylabel('Country')\n",
    "\n",
    "plt.show()"
   ]
  },
  {
   "cell_type": "code",
   "execution_count": null,
   "id": "broke-hawaiian",
   "metadata": {},
   "outputs": [],
   "source": []
  }
 ],
 "metadata": {
  "kernelspec": {
   "display_name": "Python 3",
   "language": "python",
   "name": "python3"
  },
  "language_info": {
   "codemirror_mode": {
    "name": "ipython",
    "version": 3
   },
   "file_extension": ".py",
   "mimetype": "text/x-python",
   "name": "python",
   "nbconvert_exporter": "python",
   "pygments_lexer": "ipython3",
   "version": "3.7.7"
  }
 },
 "nbformat": 4,
 "nbformat_minor": 5
}
